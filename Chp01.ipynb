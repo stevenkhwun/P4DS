{
  "nbformat": 4,
  "nbformat_minor": 0,
  "metadata": {
    "colab": {
      "provenance": [],
      "toc_visible": true,
      "authorship_tag": "ABX9TyNLRyi0H4S7GoXAEdN3IwZ+",
      "include_colab_link": true
    },
    "kernelspec": {
      "name": "python3",
      "display_name": "Python 3"
    },
    "language_info": {
      "name": "python"
    }
  },
  "cells": [
    {
      "cell_type": "markdown",
      "metadata": {
        "id": "view-in-github",
        "colab_type": "text"
      },
      "source": [
        "<a href=\"https://colab.research.google.com/github/stevenkhwun/P4DS/blob/main/Chp01.ipynb\" target=\"_parent\"><img src=\"https://colab.research.google.com/assets/colab-badge.svg\" alt=\"Open In Colab\"/></a>"
      ]
    },
    {
      "cell_type": "markdown",
      "source": [
        "# Some useful commands"
      ],
      "metadata": {
        "id": "6RfaKJkRt2ug"
      }
    },
    {
      "cell_type": "markdown",
      "source": [
        "## Binary operators"
      ],
      "metadata": {
        "id": "Urpy_2G4t7Qg"
      }
    },
    {
      "cell_type": "code",
      "source": [
        "# Binary operators\n",
        "print(100 + 9)   # Add\n",
        "print(100 - 9)   # Subtract\n",
        "print(100 * 9)   # Multiply\n",
        "print(100 / 9)   # Divide\n",
        "print(100 // 9)  # Floor-divide\n",
        "print(100 % 9)   # Modulo operatio\n",
        "print(100 ** 3)  # Raise to a power"
      ],
      "metadata": {
        "colab": {
          "base_uri": "https://localhost:8080/"
        },
        "id": "wdsf1VVbs_AM",
        "outputId": "2e3ebd41-3a99-4457-c4f2-294830e427b4"
      },
      "execution_count": null,
      "outputs": [
        {
          "output_type": "stream",
          "name": "stdout",
          "text": [
            "109\n",
            "91\n",
            "900\n",
            "11.11111111111111\n",
            "11\n",
            "1\n",
            "1000000\n"
          ]
        }
      ]
    },
    {
      "cell_type": "markdown",
      "source": [
        "## Comparisons"
      ],
      "metadata": {
        "id": "hxzlmKoEu-Ej"
      }
    },
    {
      "cell_type": "markdown",
      "source": [
        "## `&` and `AND`\n",
        "\n",
        "See https://www.geeksforgeeks.org/difference-between-and-and-in-python/ for refernce."
      ],
      "metadata": {
        "id": "TVJ41T5D0Dk6"
      }
    },
    {
      "cell_type": "markdown",
      "source": [
        "## `is` and `is not` keyword\n",
        "\n",
        "To check if two variables refer to the same object, use the `is` keyword. Use `is not` to check that two objects are not the same:"
      ],
      "metadata": {
        "id": "Cj9KejZ90cWV"
      }
    },
    {
      "cell_type": "code",
      "source": [
        "# Creating the objects\n",
        "a = [1, 2, 3]\n",
        "b = a\n",
        "c = list(a)\n",
        "\n",
        "a, b, c"
      ],
      "metadata": {
        "colab": {
          "base_uri": "https://localhost:8080/"
        },
        "id": "g6Qe2cX4swor",
        "outputId": "a2b880bb-3cf0-43da-9f46-e1449a9ab4d8"
      },
      "execution_count": null,
      "outputs": [
        {
          "output_type": "execute_result",
          "data": {
            "text/plain": [
              "([1, 2, 3], [1, 2, 3], [1, 2, 3])"
            ]
          },
          "metadata": {},
          "execution_count": 41
        }
      ]
    },
    {
      "cell_type": "markdown",
      "source": [
        "The object `a`, `b` and `c` are the same in the sense that they have the same value."
      ],
      "metadata": {
        "id": "rldDQ_4l1HKT"
      }
    },
    {
      "cell_type": "code",
      "source": [
        "# Compare the value of the objects\n",
        "print(a == b)\n",
        "print(b == c)\n",
        "print(a == c)"
      ],
      "metadata": {
        "colab": {
          "base_uri": "https://localhost:8080/"
        },
        "id": "mIuWCcb21c56",
        "outputId": "242df89a-9005-4ae3-b49f-660bd7de0f4d"
      },
      "execution_count": null,
      "outputs": [
        {
          "output_type": "stream",
          "name": "stdout",
          "text": [
            "True\n",
            "True\n",
            "True\n"
          ]
        }
      ]
    },
    {
      "cell_type": "markdown",
      "source": [
        "However, only `a` and `b` are refering to the same object, i.e. the list `[1, 2, 3]` and `c` in fact a copy of `a` created by the function `list()` and is distinct from `a`."
      ],
      "metadata": {
        "id": "clZ5-yBQ1pru"
      }
    },
    {
      "cell_type": "code",
      "source": [
        "# Compare the object using is and is not\n",
        "print(a is b)\n",
        "print(a is c)\n",
        "print(b is not c)"
      ],
      "metadata": {
        "colab": {
          "base_uri": "https://localhost:8080/"
        },
        "id": "OaVev7xE2Bn7",
        "outputId": "8bf55f00-19d1-45f8-ec40-1cd8af75e42a"
      },
      "execution_count": null,
      "outputs": [
        {
          "output_type": "stream",
          "name": "stdout",
          "text": [
            "True\n",
            "False\n",
            "True\n"
          ]
        }
      ]
    },
    {
      "cell_type": "markdown",
      "source": [
        "By appending an element to `a` and then examining `b`, you can see that `a` and `b` are referring to the same object."
      ],
      "metadata": {
        "id": "oFQfKsQv2gvh"
      }
    },
    {
      "cell_type": "code",
      "source": [
        "# Appending element to a\n",
        "a.append(4)\n",
        "print(a)\n",
        "print(b)"
      ],
      "metadata": {
        "colab": {
          "base_uri": "https://localhost:8080/"
        },
        "id": "3mvhuMrgwNXO",
        "outputId": "e3b2125d-14ab-452a-faa8-01333b771ca4"
      },
      "execution_count": null,
      "outputs": [
        {
          "output_type": "stream",
          "name": "stdout",
          "text": [
            "[1, 2, 3, 4]\n",
            "[1, 2, 3, 4]\n"
          ]
        }
      ]
    },
    {
      "cell_type": "markdown",
      "source": [
        "# Some important concepts"
      ],
      "metadata": {
        "id": "THl44KA6tsU-"
      }
    },
    {
      "cell_type": "markdown",
      "source": [
        "## Mutable and immutable objects"
      ],
      "metadata": {
        "id": "_MPDG078txju"
      }
    },
    {
      "cell_type": "markdown",
      "source": [
        "### Mutable objects\n",
        "\n",
        "Many objects in Python, such as lists, dictionaries, NumPy arrays, and most user-defined types (classes), are mutable. This means that the object or values that they contain can be modified:"
      ],
      "metadata": {
        "id": "0mJz4Hkut8_N"
      }
    },
    {
      "cell_type": "code",
      "source": [
        "# Mutable object list\n",
        "a_list = [\"foo\", 2, [4, 5]]\n",
        "a_list"
      ],
      "metadata": {
        "id": "Wsa2BZ_guOVM",
        "outputId": "d1f608d6-ebab-42a4-c39b-c1eb0b7cd9df",
        "colab": {
          "base_uri": "https://localhost:8080/"
        }
      },
      "execution_count": 6,
      "outputs": [
        {
          "output_type": "execute_result",
          "data": {
            "text/plain": [
              "['foo', 2, [4, 5]]"
            ]
          },
          "metadata": {},
          "execution_count": 6
        }
      ]
    },
    {
      "cell_type": "code",
      "source": [
        "# Modified the element in the object\n",
        "a_list[2] = (3, 4)\n",
        "a_list"
      ],
      "metadata": {
        "id": "BRpE5Iqaud0B",
        "outputId": "880991ce-236c-4dd7-9819-d78c4ad52bf3",
        "colab": {
          "base_uri": "https://localhost:8080/"
        }
      },
      "execution_count": 7,
      "outputs": [
        {
          "output_type": "execute_result",
          "data": {
            "text/plain": [
              "['foo', 2, (3, 4)]"
            ]
          },
          "metadata": {},
          "execution_count": 7
        }
      ]
    },
    {
      "cell_type": "markdown",
      "source": [
        "### Immutable objects\n",
        "\n",
        "Others, like strings and tuples, are immutable, which means their internal data cannot be changed:"
      ],
      "metadata": {
        "id": "iuYKaVQwu2kJ"
      }
    },
    {
      "cell_type": "code",
      "source": [
        "# Immutable object tuple\n",
        "a_tuple = (3, 5, (4, 5))\n",
        "a_tuple"
      ],
      "metadata": {
        "id": "UwNIRTM1vBQ5",
        "outputId": "c19b2d77-28f6-4f9f-839f-54211f2b23db",
        "colab": {
          "base_uri": "https://localhost:8080/"
        }
      },
      "execution_count": 8,
      "outputs": [
        {
          "output_type": "execute_result",
          "data": {
            "text/plain": [
              "(3, 5, (4, 5))"
            ]
          },
          "metadata": {},
          "execution_count": 8
        }
      ]
    },
    {
      "cell_type": "markdown",
      "source": [
        "When you try to modify an element in the tuple, for example:\n",
        "\n",
        "```python\n",
        "a_tuple[1] = \"four\"\n",
        "```\n",
        "\n",
        "The following error message wil return:\n",
        "\n",
        "```python\n",
        "TypeError: 'tuple' object does not support item assignment\n",
        "```"
      ],
      "metadata": {
        "id": "_M5MB4GIvkx9"
      }
    },
    {
      "cell_type": "markdown",
      "source": [
        "Recall that to access the element in a tuple, you can use the following command, which gives the second element in the tuple."
      ],
      "metadata": {
        "id": "b6xrbD9CwZIz"
      }
    },
    {
      "cell_type": "code",
      "source": [
        "# Accessing element in a tuple\n",
        "a_tuple[1]"
      ],
      "metadata": {
        "id": "kG8UA87rwmhz",
        "outputId": "b595f22b-b258-4bc2-d021-da7f7c3c06a5",
        "colab": {
          "base_uri": "https://localhost:8080/"
        }
      },
      "execution_count": 12,
      "outputs": [
        {
          "output_type": "execute_result",
          "data": {
            "text/plain": [
              "5"
            ]
          },
          "metadata": {},
          "execution_count": 12
        }
      ]
    },
    {
      "cell_type": "markdown",
      "source": [
        "Similarly, for a string, we can use the following commands:"
      ],
      "metadata": {
        "id": "N0EzGv9Iwx4G"
      }
    },
    {
      "cell_type": "code",
      "source": [
        "# Accessing element in a string\n",
        "string = \"this is a string\"\n",
        "string[2]     # This is \"i\""
      ],
      "metadata": {
        "id": "N9hTftnjvMKu",
        "outputId": "9fad8f85-ddfa-48a7-c481-2dfa78621363",
        "colab": {
          "base_uri": "https://localhost:8080/",
          "height": 35
        }
      },
      "execution_count": 13,
      "outputs": [
        {
          "output_type": "execute_result",
          "data": {
            "text/plain": [
              "'i'"
            ],
            "application/vnd.google.colaboratory.intrinsic+json": {
              "type": "string"
            }
          },
          "metadata": {},
          "execution_count": 13
        }
      ]
    },
    {
      "cell_type": "code",
      "source": [
        "# Accessing element in a string\n",
        "string[4]      # This is a space"
      ],
      "metadata": {
        "id": "f53BY1UGxJWk",
        "outputId": "55360f8d-8def-4655-ad5a-e67f67c8885a",
        "colab": {
          "base_uri": "https://localhost:8080/",
          "height": 35
        }
      },
      "execution_count": 14,
      "outputs": [
        {
          "output_type": "execute_result",
          "data": {
            "text/plain": [
              "' '"
            ],
            "application/vnd.google.colaboratory.intrinsic+json": {
              "type": "string"
            }
          },
          "metadata": {},
          "execution_count": 14
        }
      ]
    },
    {
      "cell_type": "markdown",
      "source": [
        "# Import custom modules\n",
        "\n",
        "In Python, a module is simply a file with the `.py` extension containing Python code. Suppose we had the following module:\n",
        "\n",
        "```python\n",
        "# some_module.py\n",
        "PI = 3.14159\n",
        "\n",
        "def f(x):\n",
        "    return x + 2\n",
        "    \n",
        "def g(a, b):\n",
        "    return a + b\n",
        "```\n",
        "\n",
        "To import a module, the `.py` module file should be put into the same folder or the path of the location of the file be stated in the command:\n",
        "```python\n",
        "# In the same folder\n",
        "import module_name   # .py not necessary\n",
        "\n",
        "# In different folder\n",
        "import \\Module\\module_name   # import from a subfolder Module\n",
        "```\n",
        "\n",
        "The following example demonstrates importing a module in the Colab environment and some more steps are needed. Since Colab is a Jupyter Notebook environment working in the cloud and it cannot access the file in the hard drive of a computer, we need first upload the module file to the cloud and make it accessable by the Jupyter Notebook.\n",
        "\n"
      ],
      "metadata": {
        "id": "KMFTTpzv3kZU"
      }
    },
    {
      "cell_type": "markdown",
      "source": [
        "## Colab operations\n",
        "\n",
        "First you need to upload the custom module file to your Google drive. In this example, the `some_module.py` file is uploaded to the sub-directory `\\Modules` in the Google drive.\n",
        "\n",
        "To make the module file accessible by Jupyter Notebook, you need to copy the module file to the working directory of the notebook. To check the working directory of the notebook, you can use the following command:\n"
      ],
      "metadata": {
        "id": "Rd9lMcr7-ovD"
      }
    },
    {
      "cell_type": "code",
      "source": [
        "# Check your Colab temporary path\n",
        "! pwd"
      ],
      "metadata": {
        "id": "x0DTGIwWAprS",
        "outputId": "623bd557-3afe-4807-d57e-94d05debce00",
        "colab": {
          "base_uri": "https://localhost:8080/"
        }
      },
      "execution_count": null,
      "outputs": [
        {
          "output_type": "stream",
          "name": "stdout",
          "text": [
            "/content\n"
          ]
        }
      ]
    },
    {
      "cell_type": "markdown",
      "source": [
        "Before you can copy the file to the working directory, you need to mount your Google drive to Google Colab."
      ],
      "metadata": {
        "id": "-pqBsx6pAuKJ"
      }
    },
    {
      "cell_type": "code",
      "source": [
        "# Mount your Google drive to Google Colab\n",
        "from google.colab import drive\n",
        "drive.mount('/content/drive')"
      ],
      "metadata": {
        "colab": {
          "base_uri": "https://localhost:8080/"
        },
        "id": "oPcZgqvj0DBG",
        "outputId": "7f476072-7f00-4dc5-846d-2f9ddb6c57e4"
      },
      "execution_count": null,
      "outputs": [
        {
          "output_type": "stream",
          "name": "stdout",
          "text": [
            "Mounted at /content/drive\n"
          ]
        }
      ]
    },
    {
      "cell_type": "markdown",
      "source": [
        "You can check the file directory by clicking on the left panel of the Colab environment. You can also check the working directory again."
      ],
      "metadata": {
        "id": "nX91SwmzBhbg"
      }
    },
    {
      "cell_type": "code",
      "source": [
        "# Check your Colab temporary path\n",
        "! pwd"
      ],
      "metadata": {
        "colab": {
          "base_uri": "https://localhost:8080/"
        },
        "id": "Hk7xXZzhrJXr",
        "outputId": "4178adc6-a99a-47d3-aed2-e132e85ec154"
      },
      "execution_count": null,
      "outputs": [
        {
          "output_type": "stream",
          "name": "stdout",
          "text": [
            "/content\n"
          ]
        }
      ]
    },
    {
      "cell_type": "markdown",
      "source": [
        "Now you can copy the custom module from Google Drive to Colab temporary drive."
      ],
      "metadata": {
        "id": "xuF-DRcYB0eJ"
      }
    },
    {
      "cell_type": "code",
      "source": [
        "# Copy custom module from Google Drive to Colab temporary drive \n",
        "# !cp [path of your custom module] [path where you like to copy]\n",
        "! cp /content/drive/MyDrive/Modules/some_module.py /content/"
      ],
      "metadata": {
        "id": "OHxuzDKn1VR9"
      },
      "execution_count": null,
      "outputs": []
    },
    {
      "cell_type": "markdown",
      "source": [
        "## Running the custom module\n",
        "\n",
        "The module file has now been copied to the Colab temporary drive and you can import the module by the following command:"
      ],
      "metadata": {
        "id": "m1JZDXJeCwaQ"
      }
    },
    {
      "cell_type": "code",
      "source": [
        "# Import the module\n",
        "import some_module"
      ],
      "metadata": {
        "id": "3G_nqym33O5x"
      },
      "execution_count": null,
      "outputs": []
    },
    {
      "cell_type": "code",
      "source": [
        "# Run the function in the module\n",
        "result = some_module.f(5)   # Run f\n",
        "pi = some_module.PI         # Obtain the constant stated in the module\n",
        "\n",
        "# Print the results\n",
        "print(result)\n",
        "print(pi)"
      ],
      "metadata": {
        "id": "lo3z92Yw3VDn",
        "outputId": "5a8cddca-f4f9-4d81-9c2d-9ae5f112199a",
        "colab": {
          "base_uri": "https://localhost:8080/"
        }
      },
      "execution_count": null,
      "outputs": [
        {
          "output_type": "stream",
          "name": "stdout",
          "text": [
            "7\n",
            "3.14159\n"
          ]
        }
      ]
    },
    {
      "cell_type": "markdown",
      "source": [
        "To directly use the function in the module, use the following command:"
      ],
      "metadata": {
        "id": "m-ARjukUDsJC"
      }
    },
    {
      "cell_type": "code",
      "source": [
        "# Directly import function in a module\n",
        "from some_module import g, PI\n",
        "\n",
        "# Run the function\n",
        "results = g(1, 10)\n",
        "print(results)\n",
        "print(PI)"
      ],
      "metadata": {
        "id": "dJExY7t23U4g",
        "outputId": "7e0d2ec5-31dd-48ec-b292-f1dcb2dcdafe",
        "colab": {
          "base_uri": "https://localhost:8080/"
        }
      },
      "execution_count": null,
      "outputs": [
        {
          "output_type": "stream",
          "name": "stdout",
          "text": [
            "11\n",
            "3.14159\n"
          ]
        }
      ]
    },
    {
      "cell_type": "markdown",
      "source": [
        "Finally, your can also using the `as` keyword to give imports different variable names:"
      ],
      "metadata": {
        "id": "_J8En0ENEeiB"
      }
    },
    {
      "cell_type": "code",
      "source": [
        "# Use as keyword\n",
        "import some_module as sm\n",
        "from some_module import PI as pi, g as gf\n",
        "\n",
        "# Run the function\n",
        "r1 = sm.f(pi)\n",
        "r2 = gf(6, pi)\n",
        "print(r1)\n",
        "print(r2)"
      ],
      "metadata": {
        "id": "1E8YjwM1Eqvx",
        "outputId": "3b3eed2f-fb13-4dc8-bbd5-d6c7dbc7d0a3",
        "colab": {
          "base_uri": "https://localhost:8080/"
        }
      },
      "execution_count": null,
      "outputs": [
        {
          "output_type": "stream",
          "name": "stdout",
          "text": [
            "5.14159\n",
            "9.14159\n"
          ]
        }
      ]
    },
    {
      "cell_type": "markdown",
      "source": [
        "This is the end of the document."
      ],
      "metadata": {
        "id": "7IkWQJ39FNQD"
      }
    },
    {
      "cell_type": "code",
      "source": [
        "# An element appending function\n",
        "def append_element(some_list, element):\n",
        "  some_list.append(element)"
      ],
      "metadata": {
        "id": "jlMxw0IArJJZ"
      },
      "execution_count": null,
      "outputs": []
    },
    {
      "cell_type": "code",
      "source": [
        "data = [1, 2, 3]\n",
        "append_element(data, 100)\n",
        "data"
      ],
      "metadata": {
        "colab": {
          "base_uri": "https://localhost:8080/"
        },
        "id": "_OFAdxY6rU-x",
        "outputId": "53f3d27d-43a9-4bfd-f8b9-5bbddea7ada4"
      },
      "execution_count": null,
      "outputs": [
        {
          "output_type": "execute_result",
          "data": {
            "text/plain": [
              "[1, 2, 3, 100]"
            ]
          },
          "metadata": {},
          "execution_count": 4
        }
      ]
    },
    {
      "cell_type": "code",
      "source": [
        "b = [1, 2, 3]\n",
        "b?"
      ],
      "metadata": {
        "id": "qh4vvs43ViQD"
      },
      "execution_count": null,
      "outputs": []
    },
    {
      "cell_type": "code",
      "execution_count": null,
      "metadata": {
        "colab": {
          "base_uri": "https://localhost:8080/"
        },
        "id": "APQ2-4t4VRq3",
        "outputId": "398df3d2-46a1-4e0e-d375-a0bd9ca66a9a"
      },
      "outputs": [
        {
          "output_type": "execute_result",
          "data": {
            "text/plain": [
              "1"
            ]
          },
          "metadata": {},
          "execution_count": 16
        }
      ],
      "source": [
        "a = \"foo goo\"\n",
        "a.count(\"f\")"
      ]
    },
    {
      "cell_type": "code",
      "source": [
        "type(a)"
      ],
      "metadata": {
        "colab": {
          "base_uri": "https://localhost:8080/"
        },
        "id": "NiYdqsvitp4w",
        "outputId": "ef7661dd-e9a8-49dc-85c1-78f38c98e52b"
      },
      "execution_count": null,
      "outputs": [
        {
          "output_type": "execute_result",
          "data": {
            "text/plain": [
              "str"
            ]
          },
          "metadata": {},
          "execution_count": 17
        }
      ]
    },
    {
      "cell_type": "code",
      "source": [
        "n = 689\n",
        "type(n)"
      ],
      "metadata": {
        "colab": {
          "base_uri": "https://localhost:8080/"
        },
        "id": "uM8PookWs80Z",
        "outputId": "ec6c1d8a-7f96-4498-85ec-c468ba8d2a2c"
      },
      "execution_count": null,
      "outputs": [
        {
          "output_type": "execute_result",
          "data": {
            "text/plain": [
              "int"
            ]
          },
          "metadata": {},
          "execution_count": 18
        }
      ]
    },
    {
      "cell_type": "code",
      "source": [
        "n.real"
      ],
      "metadata": {
        "colab": {
          "base_uri": "https://localhost:8080/"
        },
        "id": "sIgrGQCBt32D",
        "outputId": "536e6d81-7b1d-4e41-b910-3c870edbed32"
      },
      "execution_count": null,
      "outputs": [
        {
          "output_type": "execute_result",
          "data": {
            "text/plain": [
              "689"
            ]
          },
          "metadata": {},
          "execution_count": 20
        }
      ]
    },
    {
      "cell_type": "code",
      "source": [
        "import pandas as pd"
      ],
      "metadata": {
        "id": "Onc5NGLtj9aR"
      },
      "execution_count": 2,
      "outputs": []
    },
    {
      "cell_type": "code",
      "source": [
        "df = pd.read_csv(\"sample_data/mnist_test.csv\")"
      ],
      "metadata": {
        "id": "F3_Dr74vmDqN"
      },
      "execution_count": 3,
      "outputs": []
    }
  ]
}
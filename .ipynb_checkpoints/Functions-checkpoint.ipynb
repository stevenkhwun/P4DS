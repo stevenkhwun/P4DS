{
 "cells": [
  {
   "cell_type": "markdown",
   "id": "0b6d4ade-ad7c-404b-8725-a07704c86b20",
   "metadata": {},
   "source": [
    "# Built-In Data Structures, Functions, and Files\n",
    "\n",
    "This notebook is based on [Chapter 3](https://wesmckinney.com/book/python-builtin) of *Python for Data Analysis (3rd ed.)* by *Wes Mckinney*."
   ]
  },
  {
   "cell_type": "markdown",
   "id": "a2b08eea-685c-4b3c-b9d9-1fd35dcd01b6",
   "metadata": {},
   "source": [
    "## Functions"
   ]
  },
  {
   "cell_type": "markdown",
   "id": "42c4d34a-3c75-489b-9fcb-7fe0bae9b51f",
   "metadata": {},
   "source": [
    "__Simple function__\n",
    "\n",
    "*Functions are declared with the __`def`__ keyword. A function contains a block of code with an optional use of the __`return`__ keyword:*"
   ]
  },
  {
   "cell_type": "code",
   "execution_count": 28,
   "id": "519cf7b5-a3e5-4a22-8aaf-3345343fdddd",
   "metadata": {},
   "outputs": [],
   "source": [
    "# A simple function\n",
    "def my_function(x, y):\n",
    "    return x + y"
   ]
  },
  {
   "cell_type": "markdown",
   "id": "fc6ed093-e45d-498b-aa13-ecdd834dbea5",
   "metadata": {},
   "source": [
    "*When a line with __`return`__ is reached, the value of expression after __`return`__ is sent to the context where the function was called.*"
   ]
  },
  {
   "cell_type": "code",
   "execution_count": 29,
   "id": "a1dc68c7-9087-44a1-a4d7-fd77684427ed",
   "metadata": {},
   "outputs": [
    {
     "data": {
      "text/plain": [
       "3"
      ]
     },
     "execution_count": 29,
     "metadata": {},
     "output_type": "execute_result"
    }
   ],
   "source": [
    "# Execute the function\n",
    "my_function(1,2)"
   ]
  },
  {
   "cell_type": "code",
   "execution_count": 30,
   "id": "0debb152-5d35-4bdc-8b07-582f7314c9d7",
   "metadata": {},
   "outputs": [],
   "source": [
    "result = my_function(1, 2)"
   ]
  },
  {
   "cell_type": "code",
   "execution_count": 31,
   "id": "30551ef4-3aeb-4c9d-8f6b-b48e7b4547da",
   "metadata": {},
   "outputs": [
    {
     "data": {
      "text/plain": [
       "3"
      ]
     },
     "execution_count": 31,
     "metadata": {},
     "output_type": "execute_result"
    }
   ],
   "source": [
    "result"
   ]
  },
  {
   "cell_type": "markdown",
   "id": "43191ece-38e3-411b-bf30-8164d4be119b",
   "metadata": {},
   "source": [
    "__Function without return__\n",
    "\n",
    "*There is no issue with having multiple __`return`__ statements. If Python reaches the end of a function without encountering a __`return`__ statement, __`None`__ is returned automatically.*"
   ]
  },
  {
   "cell_type": "code",
   "execution_count": 32,
   "id": "198fe82b-4d94-4004-978a-7ba90146acc2",
   "metadata": {},
   "outputs": [],
   "source": [
    "# Function without return statement\n",
    "def function_without_return(x):\n",
    "    print(x)"
   ]
  },
  {
   "cell_type": "code",
   "execution_count": 33,
   "id": "910cf599-5d0a-4a28-8f96-fffc4abee60e",
   "metadata": {},
   "outputs": [
    {
     "name": "stdout",
     "output_type": "stream",
     "text": [
      "hello!\n"
     ]
    }
   ],
   "source": [
    "result = function_without_return(\"hello!\")"
   ]
  },
  {
   "cell_type": "code",
   "execution_count": 34,
   "id": "1f123510-a3f1-4cb7-82a5-a74f21fae510",
   "metadata": {},
   "outputs": [
    {
     "name": "stdout",
     "output_type": "stream",
     "text": [
      "None\n"
     ]
    }
   ],
   "source": [
    "print(result)"
   ]
  },
  {
   "cell_type": "markdown",
   "id": "86e834e4-2412-46d0-b1fa-4d8637527daf",
   "metadata": {},
   "source": [
    "__*Positional* arguments and *keyword* arguments__\n",
    "\n",
    "*Each function can have __positional__ arguments and __keyword__ arguments. __Keyword__ arguments are most commonly used to specify default values or optional arguments.*"
   ]
  },
  {
   "cell_type": "code",
   "execution_count": 35,
   "id": "9a3e8cc4-bb05-4bcd-9c5e-77c694d0a5d2",
   "metadata": {},
   "outputs": [],
   "source": [
    "# Positional arguments and keyword arguments\n",
    "def my_function2(x, y, z = 1.5):\n",
    "    if z > 1:\n",
    "        return z * (x + y)\n",
    "    else:\n",
    "        return z / (x + y)"
   ]
  },
  {
   "cell_type": "markdown",
   "id": "575c1799-9925-43a3-8e99-649ff295b18d",
   "metadata": {},
   "source": [
    "*While __keyword__ arguments are optional, all __positional__ arguments must be specified when calling a function. You can pass values to the `z` argument with or without the keyword provided, though using the keyword is encouraged.*"
   ]
  },
  {
   "cell_type": "code",
   "execution_count": 36,
   "id": "a293654b-eaa9-4d57-add4-6d71f1fe0335",
   "metadata": {},
   "outputs": [
    {
     "data": {
      "text/plain": [
       "0.06363636363636363"
      ]
     },
     "execution_count": 36,
     "metadata": {},
     "output_type": "execute_result"
    }
   ],
   "source": [
    "my_function2(5, 6, z = 0.7)"
   ]
  },
  {
   "cell_type": "code",
   "execution_count": 37,
   "id": "78a7f99a-994c-4088-965d-5cabbbf19f4b",
   "metadata": {},
   "outputs": [
    {
     "data": {
      "text/plain": [
       "35.49"
      ]
     },
     "execution_count": 37,
     "metadata": {},
     "output_type": "execute_result"
    }
   ],
   "source": [
    "my_function2(3.14, 7, 3.5)"
   ]
  },
  {
   "cell_type": "code",
   "execution_count": 38,
   "id": "3284c8a7-4ecf-4c1c-af4d-07605120e8c5",
   "metadata": {},
   "outputs": [
    {
     "data": {
      "text/plain": [
       "45.0"
      ]
     },
     "execution_count": 38,
     "metadata": {},
     "output_type": "execute_result"
    }
   ],
   "source": [
    "my_function2(10, 20)"
   ]
  },
  {
   "cell_type": "markdown",
   "id": "d6d2b8cb-bb09-4fb8-97f6-f92636fd0df2",
   "metadata": {},
   "source": [
    "*The __keyword__ arguments must follow the __positional__ arguments (if any) and you can specify __keyword__ arguments in any order.*"
   ]
  },
  {
   "cell_type": "markdown",
   "id": "8666a004-9bac-4aa1-b7dd-4c4fe90cb336",
   "metadata": {},
   "source": [
    "__Namespaces, Scope, and Local Functions__\n",
    "\n",
    "*Functions can access variable created inside the functions as well as those outside the function in higher (or even global) scopes. An alternative and more descriptive name describing a variable scope in Python is a __namespace__. Any variables that are assigned within a function by default are assigned to the local namespace. The local namespace is created when the function is called and is immediately populated by the function's arguments. After the function is finished, the local namespace is destroyed (with some exceptions).*"
   ]
  },
  {
   "cell_type": "code",
   "execution_count": 53,
   "id": "b3c4f2c2-7291-492d-bb2c-f96dabbcffa4",
   "metadata": {},
   "outputs": [],
   "source": [
    "# Local namespace a destroyed after the function is finished\n",
    "def func():\n",
    "    a = []\n",
    "    for i in range(5):\n",
    "        a.append(i)"
   ]
  },
  {
   "cell_type": "code",
   "execution_count": 55,
   "id": "66c4645d-ab4a-44b6-8b1b-ee524221fab1",
   "metadata": {},
   "outputs": [],
   "source": [
    "func()     # No output"
   ]
  },
  {
   "cell_type": "markdown",
   "id": "ef8e98e3-5be9-4fc6-9b50-f9efc936508a",
   "metadata": {},
   "source": [
    "*When __`func()`__ is called, the empty list `a` is created, five elements are appended, and the `a` is destroyed when the function exists. Suppose instead we had declared `a` as follows:*"
   ]
  },
  {
   "cell_type": "code",
   "execution_count": 65,
   "id": "c5474549-e374-4bab-b84b-83df1c9bb328",
   "metadata": {},
   "outputs": [],
   "source": [
    "# Access variable outside the function\n",
    "a = []\n",
    "def func():\n",
    "    for i in range(5):\n",
    "        a.append(i)"
   ]
  },
  {
   "cell_type": "markdown",
   "id": "227f8ad0-53ef-4fb4-b602-f2eeddc2d800",
   "metadata": {},
   "source": [
    "*Each call to `func` will modify list `a`.*"
   ]
  },
  {
   "cell_type": "code",
   "execution_count": 66,
   "id": "bd1b6817-656c-4c66-bc82-f060c5418f45",
   "metadata": {},
   "outputs": [],
   "source": [
    "func()"
   ]
  },
  {
   "cell_type": "code",
   "execution_count": 67,
   "id": "40433ef9-de5c-44aa-a9db-92111ed6337a",
   "metadata": {},
   "outputs": [
    {
     "data": {
      "text/plain": [
       "[0, 1, 2, 3, 4]"
      ]
     },
     "execution_count": 67,
     "metadata": {},
     "output_type": "execute_result"
    }
   ],
   "source": [
    "a"
   ]
  },
  {
   "cell_type": "code",
   "execution_count": 68,
   "id": "fe8c00b7-9eeb-479c-9ebb-2530ceb61843",
   "metadata": {},
   "outputs": [],
   "source": [
    "func()"
   ]
  },
  {
   "cell_type": "code",
   "execution_count": 69,
   "id": "c41dbe32-d5ca-49f6-a4de-e1e8b6ef6f64",
   "metadata": {},
   "outputs": [
    {
     "data": {
      "text/plain": [
       "[0, 1, 2, 3, 4, 0, 1, 2, 3, 4]"
      ]
     },
     "execution_count": 69,
     "metadata": {},
     "output_type": "execute_result"
    }
   ],
   "source": [
    "a"
   ]
  },
  {
   "cell_type": "code",
   "execution_count": 70,
   "id": "51a29c2a-e330-4dd3-8f79-5e4c5a678f05",
   "metadata": {},
   "outputs": [],
   "source": [
    "def f():\n",
    "    a = 5\n",
    "    b = 6\n",
    "    c = 7\n",
    "    return a, b, c"
   ]
  },
  {
   "cell_type": "code",
   "execution_count": 71,
   "id": "fb2a7d52-4a5b-4c71-9541-d2878dd7d87b",
   "metadata": {},
   "outputs": [],
   "source": [
    "a, b, c = f()"
   ]
  },
  {
   "cell_type": "code",
   "execution_count": 72,
   "id": "3c3ad09f-017f-41ee-b84f-68ccfe697766",
   "metadata": {},
   "outputs": [
    {
     "data": {
      "text/plain": [
       "5"
      ]
     },
     "execution_count": 72,
     "metadata": {},
     "output_type": "execute_result"
    }
   ],
   "source": [
    "a"
   ]
  },
  {
   "cell_type": "code",
   "execution_count": 73,
   "id": "b3d86499-95cb-434e-8287-86ad70cd30c3",
   "metadata": {},
   "outputs": [],
   "source": [
    "x, y, z = f()"
   ]
  },
  {
   "cell_type": "code",
   "execution_count": 74,
   "id": "9c0083c7-54bf-4c3a-9bf3-3a7bd2b2a66e",
   "metadata": {},
   "outputs": [
    {
     "data": {
      "text/plain": [
       "5"
      ]
     },
     "execution_count": 74,
     "metadata": {},
     "output_type": "execute_result"
    }
   ],
   "source": [
    "x"
   ]
  },
  {
   "cell_type": "code",
   "execution_count": 75,
   "id": "4a18f7d9-bc24-4d06-907a-75bd1c19bfe7",
   "metadata": {},
   "outputs": [],
   "source": [
    "return_value = f()"
   ]
  },
  {
   "cell_type": "code",
   "execution_count": 76,
   "id": "fa9eeaf1-6f9a-4d5e-b61a-3cd64cc34a39",
   "metadata": {},
   "outputs": [
    {
     "data": {
      "text/plain": [
       "(5, 6, 7)"
      ]
     },
     "execution_count": 76,
     "metadata": {},
     "output_type": "execute_result"
    }
   ],
   "source": [
    "return_value"
   ]
  },
  {
   "cell_type": "code",
   "execution_count": 78,
   "id": "9a76d968-96c1-4dcc-8ee2-32efc0788a74",
   "metadata": {},
   "outputs": [],
   "source": [
    "def f():\n",
    "    a = 5\n",
    "    b = 6\n",
    "    c = 7\n",
    "    return {\"a\": a, \"b\": b, \"c\": c}"
   ]
  },
  {
   "cell_type": "code",
   "execution_count": 79,
   "id": "14248308-2826-4c6e-b488-bb25b5b11abd",
   "metadata": {},
   "outputs": [],
   "source": [
    "return_value = f()"
   ]
  },
  {
   "cell_type": "code",
   "execution_count": 80,
   "id": "6194c734-58cf-4078-a25e-ceba81e57096",
   "metadata": {},
   "outputs": [
    {
     "data": {
      "text/plain": [
       "{'a': 5, 'b': 6, 'c': 7}"
      ]
     },
     "execution_count": 80,
     "metadata": {},
     "output_type": "execute_result"
    }
   ],
   "source": [
    "return_value"
   ]
  },
  {
   "cell_type": "code",
   "execution_count": 81,
   "id": "3b42c9e3-be63-4e90-9f49-0cd96833e9b5",
   "metadata": {},
   "outputs": [
    {
     "data": {
      "text/plain": [
       "dict"
      ]
     },
     "execution_count": 81,
     "metadata": {},
     "output_type": "execute_result"
    }
   ],
   "source": [
    "type(return_value)"
   ]
  },
  {
   "cell_type": "code",
   "execution_count": 101,
   "id": "10dd02cd-e6cb-4ec5-92d5-066f7c004e9f",
   "metadata": {},
   "outputs": [],
   "source": [
    "def some_stat(y):\n",
    "    mean = sum(y) / len(y)\n",
    "    minimum = min(y)\n",
    "    maximum = max(y)\n",
    "    return {\"min\": minimum, \"mean\": mean, \"max\": maximum}"
   ]
  },
  {
   "cell_type": "code",
   "execution_count": 104,
   "id": "49eb2592-41c5-45fd-b5fe-c5db54ce2273",
   "metadata": {},
   "outputs": [],
   "source": [
    "y = [1, 2, 3, 9, 999]"
   ]
  },
  {
   "cell_type": "code",
   "execution_count": 105,
   "id": "50b0d451-c64e-4121-89ae-3acce85f7cb5",
   "metadata": {},
   "outputs": [
    {
     "data": {
      "text/plain": [
       "{'min': 1, 'mean': 202.8, 'max': 999}"
      ]
     },
     "execution_count": 105,
     "metadata": {},
     "output_type": "execute_result"
    }
   ],
   "source": [
    "some_stat(y)"
   ]
  },
  {
   "cell_type": "code",
   "execution_count": null,
   "id": "c179ce0f-f834-4a47-892c-0d58e80884f9",
   "metadata": {},
   "outputs": [],
   "source": []
  }
 ],
 "metadata": {
  "kernelspec": {
   "display_name": "Python 3 (ipykernel)",
   "language": "python",
   "name": "python3"
  },
  "language_info": {
   "codemirror_mode": {
    "name": "ipython",
    "version": 3
   },
   "file_extension": ".py",
   "mimetype": "text/x-python",
   "name": "python",
   "nbconvert_exporter": "python",
   "pygments_lexer": "ipython3",
   "version": "3.11.5"
  }
 },
 "nbformat": 4,
 "nbformat_minor": 5
}

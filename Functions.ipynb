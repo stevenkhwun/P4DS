{
 "cells": [
  {
   "cell_type": "markdown",
   "id": "0b6d4ade-ad7c-404b-8725-a07704c86b20",
   "metadata": {},
   "source": [
    "# Built-In Data Structures, Functions, and Files\n",
    "\n",
    "This notebook is based on [Chapter 3](https://wesmckinney.com/book/python-builtin) of *Python for Data Analysis (3rd ed.)* by *Wes Mckinney*."
   ]
  },
  {
   "cell_type": "markdown",
   "id": "a2b08eea-685c-4b3c-b9d9-1fd35dcd01b6",
   "metadata": {},
   "source": [
    "## Functions"
   ]
  },
  {
   "cell_type": "markdown",
   "id": "42c4d34a-3c75-489b-9fcb-7fe0bae9b51f",
   "metadata": {},
   "source": [
    "__Simple function__\n",
    "\n",
    "*Functions are declared with the __`def`__ keyword. A function contains a block of code with an optional use of the __`return`__ keyword:*"
   ]
  },
  {
   "cell_type": "code",
   "execution_count": 4,
   "id": "519cf7b5-a3e5-4a22-8aaf-3345343fdddd",
   "metadata": {},
   "outputs": [],
   "source": [
    "# A simple function\n",
    "def my_function(x, y):\n",
    "    return x + y"
   ]
  },
  {
   "cell_type": "markdown",
   "id": "fc6ed093-e45d-498b-aa13-ecdd834dbea5",
   "metadata": {},
   "source": [
    "*When a line with __`return`__ is reached, the value of expression after __`return`__ is sent to the context where the function was called.*"
   ]
  },
  {
   "cell_type": "code",
   "execution_count": 5,
   "id": "a1dc68c7-9087-44a1-a4d7-fd77684427ed",
   "metadata": {},
   "outputs": [
    {
     "data": {
      "text/plain": [
       "3"
      ]
     },
     "execution_count": 5,
     "metadata": {},
     "output_type": "execute_result"
    }
   ],
   "source": [
    "# Execute the function\n",
    "my_function(1,2)"
   ]
  },
  {
   "cell_type": "code",
   "execution_count": 6,
   "id": "0debb152-5d35-4bdc-8b07-582f7314c9d7",
   "metadata": {},
   "outputs": [],
   "source": [
    "result = my_function(1, 2)"
   ]
  },
  {
   "cell_type": "code",
   "execution_count": 7,
   "id": "30551ef4-3aeb-4c9d-8f6b-b48e7b4547da",
   "metadata": {},
   "outputs": [
    {
     "data": {
      "text/plain": [
       "3"
      ]
     },
     "execution_count": 7,
     "metadata": {},
     "output_type": "execute_result"
    }
   ],
   "source": [
    "result"
   ]
  },
  {
   "cell_type": "markdown",
   "id": "43191ece-38e3-411b-bf30-8164d4be119b",
   "metadata": {},
   "source": [
    "__Function without return__\n",
    "\n",
    "*There is no issue with having multiple __`return`__ statements. If Python reaches the end of a function without encountering a __`return`__ statement, __`None`__ is returned automatically.*"
   ]
  },
  {
   "cell_type": "code",
   "execution_count": 9,
   "id": "198fe82b-4d94-4004-978a-7ba90146acc2",
   "metadata": {},
   "outputs": [],
   "source": [
    "# Function without return statement\n",
    "def function_without_return(x):\n",
    "    print(x)"
   ]
  },
  {
   "cell_type": "code",
   "execution_count": 10,
   "id": "910cf599-5d0a-4a28-8f96-fffc4abee60e",
   "metadata": {},
   "outputs": [
    {
     "name": "stdout",
     "output_type": "stream",
     "text": [
      "hello!\n"
     ]
    }
   ],
   "source": [
    "result = function_without_return(\"hello!\")"
   ]
  },
  {
   "cell_type": "code",
   "execution_count": 11,
   "id": "1f123510-a3f1-4cb7-82a5-a74f21fae510",
   "metadata": {},
   "outputs": [
    {
     "name": "stdout",
     "output_type": "stream",
     "text": [
      "None\n"
     ]
    }
   ],
   "source": [
    "print(result)"
   ]
  },
  {
   "cell_type": "markdown",
   "id": "86e834e4-2412-46d0-b1fa-4d8637527daf",
   "metadata": {},
   "source": [
    "__*Positional* arguments and *keyword* arguments__\n",
    "\n",
    "*Each function can have __positional__ arguments and __keyword__ arguments. __Keyword__ arguments are most commonly used to specify default values or optional arguments.*"
   ]
  },
  {
   "cell_type": "code",
   "execution_count": 20,
   "id": "9a3e8cc4-bb05-4bcd-9c5e-77c694d0a5d2",
   "metadata": {},
   "outputs": [],
   "source": [
    "# Positional arguments and keyword arguments\n",
    "def my_function2(x, y, z = 1.5):\n",
    "    if z > 1:\n",
    "        return z * (x + y)\n",
    "    else:\n",
    "        return z / (x + y)"
   ]
  },
  {
   "cell_type": "markdown",
   "id": "575c1799-9925-43a3-8e99-649ff295b18d",
   "metadata": {},
   "source": [
    "*While __keyword__ arguments are optional, all __positional__ arguments must be specified when calling a function. You can pass values to the `z` argument with or without the keyword provided, though using the keyword is encouraged.*"
   ]
  },
  {
   "cell_type": "code",
   "execution_count": 21,
   "id": "a293654b-eaa9-4d57-add4-6d71f1fe0335",
   "metadata": {},
   "outputs": [
    {
     "data": {
      "text/plain": [
       "0.06363636363636363"
      ]
     },
     "execution_count": 21,
     "metadata": {},
     "output_type": "execute_result"
    }
   ],
   "source": [
    "my_function2(5, 6, z = 0.7)"
   ]
  },
  {
   "cell_type": "code",
   "execution_count": 22,
   "id": "78a7f99a-994c-4088-965d-5cabbbf19f4b",
   "metadata": {},
   "outputs": [
    {
     "data": {
      "text/plain": [
       "35.49"
      ]
     },
     "execution_count": 22,
     "metadata": {},
     "output_type": "execute_result"
    }
   ],
   "source": [
    "my_function2(3.14, 7, 3.5)"
   ]
  },
  {
   "cell_type": "code",
   "execution_count": 25,
   "id": "3284c8a7-4ecf-4c1c-af4d-07605120e8c5",
   "metadata": {},
   "outputs": [
    {
     "data": {
      "text/plain": [
       "45.0"
      ]
     },
     "execution_count": 25,
     "metadata": {},
     "output_type": "execute_result"
    }
   ],
   "source": [
    "my_function2(10, 20)"
   ]
  },
  {
   "cell_type": "markdown",
   "id": "d6d2b8cb-bb09-4fb8-97f6-f92636fd0df2",
   "metadata": {},
   "source": [
    "*The __keyword__ arguments must follow the __positional__ arguments (if any) and you can specify __keyword__ arguments in any order.*"
   ]
  },
  {
   "cell_type": "code",
   "execution_count": null,
   "id": "b3c4f2c2-7291-492d-bb2c-f96dabbcffa4",
   "metadata": {},
   "outputs": [],
   "source": []
  }
 ],
 "metadata": {
  "kernelspec": {
   "display_name": "Python 3 (ipykernel)",
   "language": "python",
   "name": "python3"
  },
  "language_info": {
   "codemirror_mode": {
    "name": "ipython",
    "version": 3
   },
   "file_extension": ".py",
   "mimetype": "text/x-python",
   "name": "python",
   "nbconvert_exporter": "python",
   "pygments_lexer": "ipython3",
   "version": "3.11.5"
  }
 },
 "nbformat": 4,
 "nbformat_minor": 5
}

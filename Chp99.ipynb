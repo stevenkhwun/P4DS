{
  "nbformat": 4,
  "nbformat_minor": 0,
  "metadata": {
    "colab": {
      "provenance": [],
      "toc_visible": true,
      "authorship_tag": "ABX9TyPuGPwhCbjFl9Ns1O2cWsIq",
      "include_colab_link": true
    },
    "kernelspec": {
      "name": "python3",
      "display_name": "Python 3"
    },
    "language_info": {
      "name": "python"
    }
  },
  "cells": [
    {
      "cell_type": "markdown",
      "metadata": {
        "id": "view-in-github",
        "colab_type": "text"
      },
      "source": [
        "<a href=\"https://colab.research.google.com/github/stevenkhwun/P4DS/blob/main/Chp99.ipynb\" target=\"_parent\"><img src=\"https://colab.research.google.com/assets/colab-badge.svg\" alt=\"Open In Colab\"/></a>"
      ]
    },
    {
      "cell_type": "markdown",
      "source": [
        "# Some built-in functions/methods"
      ],
      "metadata": {
        "id": "x2e2te2SnhjL"
      }
    },
    {
      "cell_type": "markdown",
      "source": [
        "## `any()` on a list\n",
        "\n",
        "The `any()` function returns True if any item in the list evaluates to True. Otherwise, it returns False."
      ],
      "metadata": {
        "id": "yaIsZuP1noaB"
      }
    },
    {
      "cell_type": "code",
      "execution_count": 8,
      "metadata": {
        "colab": {
          "base_uri": "https://localhost:8080/"
        },
        "id": "hOkxujfmmEy4",
        "outputId": "53db8ede-0e38-4271-d89f-496c23662d37"
      },
      "outputs": [
        {
          "output_type": "stream",
          "name": "stdout",
          "text": [
            "Yes, there is True\n"
          ]
        }
      ],
      "source": [
        "# any() function\n",
        "if any([True, False, False, False]) == True:\n",
        "    print('Yes, there is True')"
      ]
    },
    {
      "cell_type": "markdown",
      "source": [
        "## `.pop()` method\n",
        "\n",
        "A built-in list method to remove items from a list."
      ],
      "metadata": {
        "id": "RsdM5ftKoUt_"
      }
    },
    {
      "cell_type": "code",
      "source": [
        "# .pop() method\n",
        "my_list = [1, 2, 3]\n",
        "my_list.pop(1)\n",
        "my_list"
      ],
      "metadata": {
        "colab": {
          "base_uri": "https://localhost:8080/"
        },
        "id": "nY03Xc_JnOrj",
        "outputId": "1c08bc20-f7ca-44da-ae9c-a360de1c09fb"
      },
      "execution_count": 10,
      "outputs": [
        {
          "output_type": "execute_result",
          "data": {
            "text/plain": [
              "[1, 3]"
            ]
          },
          "metadata": {},
          "execution_count": 10
        }
      ]
    },
    {
      "cell_type": "markdown",
      "source": [
        "## `map()` function\n",
        "\n",
        "It applies a function to each item in an iterable and returns the value of that function. The synax for `map()` function is `list(map(function, iterable))`."
      ],
      "metadata": {
        "id": "_TAl-40AqrUs"
      }
    },
    {
      "cell_type": "code",
      "source": [
        "import math\n",
        "radius = [1,2,3]\n",
        "area = list(map(lambda x: round(math.pi*(x**2), 2), radius))\n",
        "area"
      ],
      "metadata": {
        "colab": {
          "base_uri": "https://localhost:8080/"
        },
        "id": "QPX4_lBuo9wH",
        "outputId": "e1cb5631-970c-4486-b9c3-cdb7ae5852b4"
      },
      "execution_count": 19,
      "outputs": [
        {
          "output_type": "execute_result",
          "data": {
            "text/plain": [
              "[3.14, 12.57, 28.27]"
            ]
          },
          "metadata": {},
          "execution_count": 19
        }
      ]
    }
  ]
}
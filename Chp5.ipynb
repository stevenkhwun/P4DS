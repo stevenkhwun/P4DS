{
  "nbformat": 4,
  "nbformat_minor": 0,
  "metadata": {
    "colab": {
      "provenance": [],
      "toc_visible": true,
      "authorship_tag": "ABX9TyMs3eW4pbuY36/SlXve1xqc",
      "include_colab_link": true
    },
    "kernelspec": {
      "name": "python3",
      "display_name": "Python 3"
    },
    "language_info": {
      "name": "python"
    }
  },
  "cells": [
    {
      "cell_type": "markdown",
      "metadata": {
        "id": "view-in-github",
        "colab_type": "text"
      },
      "source": [
        "<a href=\"https://colab.research.google.com/github/stevenkhwun/P4DS/blob/main/Chp5.ipynb\" target=\"_parent\"><img src=\"https://colab.research.google.com/assets/colab-badge.svg\" alt=\"Open In Colab\"/></a>"
      ]
    },
    {
      "cell_type": "markdown",
      "source": [
        "# Getting Started with pandas"
      ],
      "metadata": {
        "id": "wC34D_lKgZtu"
      }
    },
    {
      "cell_type": "code",
      "execution_count": 4,
      "metadata": {
        "id": "sTIcTnzVdxou"
      },
      "outputs": [],
      "source": [
        "import numpy as np\n",
        "import pandas as pd"
      ]
    },
    {
      "cell_type": "markdown",
      "source": [
        "To create a Series object using `Series()` function in pandas, you need to specify the function `Series()` is from pandas, that is by specifying `pd.Series()` as in the following example."
      ],
      "metadata": {
        "id": "M2Ol67_Xetij"
      }
    },
    {
      "cell_type": "code",
      "source": [
        "# Create a Series object by pd.Series()\n",
        "obj = pd.Series([4, 7, -5, 3])\n",
        "obj"
      ],
      "metadata": {
        "colab": {
          "base_uri": "https://localhost:8080/"
        },
        "id": "TM5L0TY2d7WE",
        "outputId": "af7c85b2-6a63-43b0-f827-13333806478b"
      },
      "execution_count": 6,
      "outputs": [
        {
          "output_type": "execute_result",
          "data": {
            "text/plain": [
              "0    4\n",
              "1    7\n",
              "2   -5\n",
              "3    3\n",
              "dtype: int64"
            ]
          },
          "metadata": {},
          "execution_count": 6
        }
      ]
    },
    {
      "cell_type": "markdown",
      "source": [
        "Since some functions, such as `Series()` and `DataFrame()` in pandas are so frequently used, it is much convenient in writing codes if you import `Series` and `DataFrame` into the local namespace in advance by the following code."
      ],
      "metadata": {
        "id": "wJiXwthGfV5J"
      }
    },
    {
      "cell_type": "code",
      "source": [
        "# Import functions from pandas\n",
        "from pandas import Series, DataFrame"
      ],
      "metadata": {
        "id": "nZgR3OJreo6a"
      },
      "execution_count": 7,
      "outputs": []
    },
    {
      "cell_type": "markdown",
      "source": [
        "The codes written thereafter will be much simplier, just as follow."
      ],
      "metadata": {
        "id": "xwzvadnFgBRZ"
      }
    },
    {
      "cell_type": "code",
      "source": [
        "# Create a Series object by Series()\n",
        "obj2 = Series([14, 27, -35, 43])\n",
        "obj2"
      ],
      "metadata": {
        "colab": {
          "base_uri": "https://localhost:8080/"
        },
        "id": "IAvMpGD7eQOI",
        "outputId": "efec83cc-86d0-4931-ddd8-227a911c4622"
      },
      "execution_count": 9,
      "outputs": [
        {
          "output_type": "execute_result",
          "data": {
            "text/plain": [
              "0    14\n",
              "1    27\n",
              "2   -35\n",
              "3    43\n",
              "dtype: int64"
            ]
          },
          "metadata": {},
          "execution_count": 9
        }
      ]
    }
  ]
}
{
 "cells": [
  {
   "cell_type": "markdown",
   "id": "9ec6228b-eddb-4786-84a7-778a53860f42",
   "metadata": {},
   "source": [
    "# Built-In Data Structures, Functions, and Files\n",
    "\n",
    "This notebook is based on [Chapter 3](https://wesmckinney.com/book/python-builtin) of *Python for Data Analysis (3rd ed.)* by *Wes Mckinney*."
   ]
  },
  {
   "cell_type": "markdown",
   "id": "bcec5c5c-4929-4655-997b-b7b8103fe28e",
   "metadata": {},
   "source": [
    "## Built-In Data Structures"
   ]
  },
  {
   "cell_type": "markdown",
   "id": "5cf72ca5-7c66-49fc-af2f-0809ebfb825d",
   "metadata": {},
   "source": [
    "### Built-In Sequence Functions"
   ]
  },
  {
   "cell_type": "markdown",
   "id": "e1e6f765-76bb-455f-9759-eeabc6507640",
   "metadata": {},
   "source": [
    "__`enumerate()` function__\n",
    "\n",
    "*The __`enumerate()`__ function takes a collection (e.g. a tuple) and retruns it as an enumerate object. It adds a counter as the key of the enumerate object.*"
   ]
  },
  {
   "cell_type": "code",
   "execution_count": 11,
   "id": "c952a14f-7519-49ce-ac02-c55147fe24c3",
   "metadata": {},
   "outputs": [],
   "source": [
    "# Use the enumerate() function\n",
    "x = ('apple', 'banana', 'cherry')\n",
    "y = enumerate(x)"
   ]
  },
  {
   "cell_type": "code",
   "execution_count": 12,
   "id": "c05c6d27-1dbb-439f-9790-86ce6a771168",
   "metadata": {},
   "outputs": [
    {
     "data": {
      "text/plain": [
       "<enumerate at 0x24ab8f062a0>"
      ]
     },
     "execution_count": 12,
     "metadata": {},
     "output_type": "execute_result"
    }
   ],
   "source": [
    "y"
   ]
  },
  {
   "cell_type": "code",
   "execution_count": 13,
   "id": "086b7fad-abf3-422f-8d8c-51e86b0e70f3",
   "metadata": {},
   "outputs": [
    {
     "name": "stdout",
     "output_type": "stream",
     "text": [
      "[(0, 'apple'), (1, 'banana'), (2, 'cherry')]\n"
     ]
    }
   ],
   "source": [
    "print(list(y))"
   ]
  },
  {
   "cell_type": "markdown",
   "id": "7c937228-c5d5-4829-9b53-b6a9191f3aac",
   "metadata": {},
   "source": [
    "*It's common when iterating over a sequence to want to keep track of the index of the current item. A do-it-yourself approach would look like:*\n",
    "\n",
    "```Python\n",
    "# do-it-yourself approach\n",
    "index = 0\n",
    "for value in collection:\n",
    "    # do something with value\n",
    "    index += 1\n",
    "```\n",
    "\n",
    "*Python has a built-in function, __`enumerate`__, which returns a sequence of __`(i, value)`__ tuples and can simply the above code.*\n",
    "\n",
    "```Python\n",
    "# Use enumerate() function\n",
    "for index, value in enumerate(collection):\n",
    "    # do something with value\n",
    "```"
   ]
  },
  {
   "cell_type": "code",
   "execution_count": 14,
   "id": "3ff97716-5908-401a-b055-6ec923fadd62",
   "metadata": {},
   "outputs": [
    {
     "name": "stdout",
     "output_type": "stream",
     "text": [
      "(0, 'Lok Lok')\n",
      "(1, 'Ka Ka')\n",
      "(2, 'Bailey')\n",
      "(3, 'Mui Mui')\n",
      "(4, 'Moji')\n"
     ]
    }
   ],
   "source": [
    "# Example\n",
    "for family in enumerate(['Lok Lok', 'Ka Ka', 'Bailey', 'Mui Mui', 'Moji']):\n",
    "    print(family)"
   ]
  },
  {
   "cell_type": "markdown",
   "id": "117954d3-d312-4066-b186-e20151375340",
   "metadata": {},
   "source": [
    "__`sorted()` function__\n",
    "\n",
    "*The __`sorted()`__ function returns a new sorted list from the elements in any sequence.*"
   ]
  },
  {
   "cell_type": "code",
   "execution_count": 15,
   "id": "8172aca2-5d73-4aa9-97d7-b8716614f0bb",
   "metadata": {},
   "outputs": [
    {
     "data": {
      "text/plain": [
       "[0, 1, 2, 2, 3, 6, 7]"
      ]
     },
     "execution_count": 15,
     "metadata": {},
     "output_type": "execute_result"
    }
   ],
   "source": [
    "# sorted() function\n",
    "sorted([7, 1, 2, 6, 0, 3, 2])"
   ]
  },
  {
   "cell_type": "code",
   "execution_count": 16,
   "id": "00c9f4ca-2d8d-41be-9a20-221d965e0226",
   "metadata": {},
   "outputs": [
    {
     "data": {
      "text/plain": [
       "[' ', 'a', 'c', 'e', 'e', 'h', 'o', 'r', 'r', 's']"
      ]
     },
     "execution_count": 16,
     "metadata": {},
     "output_type": "execute_result"
    }
   ],
   "source": [
    "# sorted() function\n",
    "sorted(\"horse race\")"
   ]
  },
  {
   "cell_type": "markdown",
   "id": "4aaf10ff-32e6-46eb-9a8f-a843a0ae3ea3",
   "metadata": {},
   "source": [
    "__`zip()` function__\n",
    "\n",
    "*__`zip()`__ \"pairs\" up the elements of a number of lists, tuples, or other sequences to create a list of tuples.*"
   ]
  },
  {
   "cell_type": "code",
   "execution_count": 17,
   "id": "88aa8428-3476-4b94-977d-fc8978faa339",
   "metadata": {},
   "outputs": [],
   "source": [
    "# Using zip() to pair up list\n",
    "seq1 = [\"foo\", \"bar\", \"baz\"]\n",
    "seq2 = [\"one\", \"two\", \"three\"]\n",
    "zipped = zip(seq1, seq2)"
   ]
  },
  {
   "cell_type": "code",
   "execution_count": 18,
   "id": "b45689f7-94d4-4d79-ab9a-83940ab21ce2",
   "metadata": {},
   "outputs": [
    {
     "data": {
      "text/plain": [
       "[('foo', 'one'), ('bar', 'two'), ('baz', 'three')]"
      ]
     },
     "execution_count": 18,
     "metadata": {},
     "output_type": "execute_result"
    }
   ],
   "source": [
    "list(zipped)"
   ]
  },
  {
   "cell_type": "markdown",
   "id": "5bf3fcc2-ebf6-49be-8367-cd1e825d4cab",
   "metadata": {},
   "source": [
    "*__`zip()`__ can take an arbitrary number of sequences, and the number of elements it produces is determined by the shortest sequence.*"
   ]
  },
  {
   "cell_type": "code",
   "execution_count": 19,
   "id": "05fc2f52-8e10-4a52-9e6e-69f08ce00a60",
   "metadata": {},
   "outputs": [
    {
     "data": {
      "text/plain": [
       "[('foo', 'one', False), ('bar', 'two', True)]"
      ]
     },
     "execution_count": 19,
     "metadata": {},
     "output_type": "execute_result"
    }
   ],
   "source": [
    "# Pairs up more than two series\n",
    "seq3 = [False, True]\n",
    "list(zip(seq1, seq2, seq3))"
   ]
  },
  {
   "cell_type": "markdown",
   "id": "e1208b40-9bf4-4fd9-b31a-fc97d14afa46",
   "metadata": {},
   "source": [
    "*A common use of __`zip()`__ is simultaneously iterating over multiple sequences, possibly also combined with __`enumerate`__.*"
   ]
  },
  {
   "cell_type": "code",
   "execution_count": 20,
   "id": "09606159-a179-4776-a774-fdf05c8d156b",
   "metadata": {},
   "outputs": [
    {
     "name": "stdout",
     "output_type": "stream",
     "text": [
      "0: foo, one\n",
      "1: bar, two\n",
      "2: baz, three\n"
     ]
    }
   ],
   "source": [
    "# Use zip() and enumerate() together\n",
    "for index, (a, b) in enumerate(zip(seq1, seq2)):\n",
    "    print(f\"{index}: {a}, {b}\")"
   ]
  },
  {
   "cell_type": "markdown",
   "id": "e2fd41fa-f809-450a-869f-b74ba366432a",
   "metadata": {},
   "source": [
    "__`reversed()` function__\n",
    "\n",
    "*__`reversed()`__ iterates over the elements of a sequence in reverse order.*"
   ]
  },
  {
   "cell_type": "code",
   "execution_count": 21,
   "id": "2d7b9750-1243-4603-86d8-adf188026c03",
   "metadata": {},
   "outputs": [
    {
     "data": {
      "text/plain": [
       "[9, 8, 7, 6, 5, 4, 3, 2, 1, 0]"
      ]
     },
     "execution_count": 21,
     "metadata": {},
     "output_type": "execute_result"
    }
   ],
   "source": [
    "# Reverse a sequence\n",
    "list(reversed(range(10)))"
   ]
  },
  {
   "cell_type": "markdown",
   "id": "9a3d6a73-e25a-48b1-a529-c14593a92fbb",
   "metadata": {},
   "source": [
    "*Keep in mind that __`reversed()`__ is a generator, so it does not create the reversed sequence until materialized (e.g., with `list` or a `for` loop).*"
   ]
  },
  {
   "cell_type": "markdown",
   "id": "24abe1fa-53f6-432b-9277-ab5d969eab5a",
   "metadata": {},
   "source": [
    "### List, Set, and Dictionary Comprehensions"
   ]
  },
  {
   "cell_type": "markdown",
   "id": "e91782f1-9965-4c51-99d9-d95e44d025b7",
   "metadata": {},
   "source": [
    "__List comprehensions__\n",
    "\n",
    "*__List comprehensions__ are a convenient and widely used Python language feature. They allow you to concisely form a new list by filtering the elements of a collection, transforming the elements passing the filter into one concise expression. They take the basic form:*\n",
    "\n",
    "```Python\n",
    "# List comprehension basic form\n",
    "[expr for value in collection if condition]\n",
    "```\n",
    "\n",
    "*This is equivalent to the following `for` loop:\n",
    "\n",
    "```Python\n",
    "# List comprehension using for loop\n",
    "result = []\n",
    "for value in collection:\n",
    "    if condition:\n",
    "        result.append(expr)\n",
    "```"
   ]
  },
  {
   "cell_type": "markdown",
   "id": "839c94dd-69c4-47fb-99b6-3aea9d65e9b8",
   "metadata": {},
   "source": [
    "*For example, given a list of strings, we could filter out strings with length `2` or less and convert them to uppercase.*"
   ]
  },
  {
   "cell_type": "code",
   "execution_count": 22,
   "id": "970cdffe-5ce7-4536-b613-ad44d083f99b",
   "metadata": {},
   "outputs": [
    {
     "data": {
      "text/plain": [
       "['BAT', 'CAR', 'DOVE', 'PYTHON']"
      ]
     },
     "execution_count": 22,
     "metadata": {},
     "output_type": "execute_result"
    }
   ],
   "source": [
    "# List comprehensions example\n",
    "strings = [\"a\", \"as\", \"bat\", \"car\", \"dove\", \"python\"]\n",
    "[x.upper() for x in strings if len(x) > 2]"
   ]
  },
  {
   "cell_type": "markdown",
   "id": "96b3f1cb-4b23-49ca-9fe9-d25b7065c357",
   "metadata": {},
   "source": [
    "__Set and dictionary comprehensions__\n",
    "\n",
    "*__Set__ and __dictionary comprehensions__ are a natural extension, producing sets and dictionaries in an idiomatically similar way instead of lists.*\n",
    "\n",
    "*A __dictionary comprehensions__ looks like this:*\n",
    "\n",
    "```Python\n",
    "# Dictionary comprehension\n",
    "dict_comp = {key-expr: value-expr for value in collection if condition}\n",
    "```\n",
    "\n",
    "*A __set comprehension__ looks like the equivalent __list comprehension__ except with curly braces instead of square brackets:*\n",
    "\n",
    "```Python\n",
    "# Set comprehension\n",
    "set_comp = {expr for value in collection if condition}\n",
    "```"
   ]
  },
  {
   "cell_type": "markdown",
   "id": "365d645d-8d2d-453a-ad74-ad5f17e8a9de",
   "metadata": {},
   "source": [
    "*Suppose we wanted a set containing just the lengths of the strings contained in the collection; we could easily compute this using a __set comprehension__.*"
   ]
  },
  {
   "cell_type": "code",
   "execution_count": 23,
   "id": "93569ed9-c54d-4dd6-aa06-bac5f35bada6",
   "metadata": {},
   "outputs": [],
   "source": [
    "# Set comprehension\n",
    "unique_length = {len(x) for x in strings}"
   ]
  },
  {
   "cell_type": "code",
   "execution_count": 24,
   "id": "39583fd7-9cf8-433d-90b8-7e56d5212b47",
   "metadata": {},
   "outputs": [
    {
     "data": {
      "text/plain": [
       "{1, 2, 3, 4, 6}"
      ]
     },
     "execution_count": 24,
     "metadata": {},
     "output_type": "execute_result"
    }
   ],
   "source": [
    "unique_length"
   ]
  },
  {
   "cell_type": "markdown",
   "id": "12010787-622e-4019-97a5-5b7ccc5fb3e6",
   "metadata": {},
   "source": [
    "*We could also express this more functionally using the __`map()`__ function.*"
   ]
  },
  {
   "cell_type": "code",
   "execution_count": 25,
   "id": "603ec8b4-3f6d-4bf4-9adf-800002829fcd",
   "metadata": {},
   "outputs": [
    {
     "data": {
      "text/plain": [
       "{1, 2, 3, 4, 6}"
      ]
     },
     "execution_count": 25,
     "metadata": {},
     "output_type": "execute_result"
    }
   ],
   "source": [
    "# Set comprehension using map() function\n",
    "set(map(len, strings))"
   ]
  },
  {
   "cell_type": "markdown",
   "id": "f655d4dc-9eb6-4199-8ab7-2dfb7cefe4fa",
   "metadata": {},
   "source": [
    "*As a simple __dictionary comprehension__ example, we could create a lookup map of thes strings for their locations in the list.*"
   ]
  },
  {
   "cell_type": "code",
   "execution_count": 26,
   "id": "8daca318-111a-438a-a2e1-34f1da158af0",
   "metadata": {},
   "outputs": [],
   "source": [
    "# Dictionary comprehension\n",
    "loc_mapping = {value: index for index, value in enumerate(strings)}"
   ]
  },
  {
   "cell_type": "code",
   "execution_count": 27,
   "id": "eb8d4a73-84fe-4868-b8a8-0e867d510151",
   "metadata": {},
   "outputs": [
    {
     "data": {
      "text/plain": [
       "{'a': 0, 'as': 1, 'bat': 2, 'car': 3, 'dove': 4, 'python': 5}"
      ]
     },
     "execution_count": 27,
     "metadata": {},
     "output_type": "execute_result"
    }
   ],
   "source": [
    "loc_mapping"
   ]
  },
  {
   "cell_type": "markdown",
   "id": "ae878bcc-1d8a-4559-a24a-6a37d7b3250b",
   "metadata": {},
   "source": [
    "__Nested list comprehensions__\n",
    "\n",
    "*Suppose we have a list of lists containing some English and Spanish names.*"
   ]
  },
  {
   "cell_type": "code",
   "execution_count": 28,
   "id": "0ddd73cd-e07a-4dec-88fc-81b3436034a3",
   "metadata": {},
   "outputs": [],
   "source": [
    "# List of lists of names\n",
    "all_data = [[\"John\", \"Emily\", \"Michael\", \"Mary\", \"Steven\"],\n",
    "            [\"Maria\", \"Juan\", \"Javier\", \"Natalia\", \"Pilar\"]]"
   ]
  },
  {
   "cell_type": "markdown",
   "id": "fddc2376-cabf-4b37-85a5-ae0899c3530e",
   "metadata": {},
   "source": [
    "*Suppose we wanted to get a single list containing all names with two or more `a`'s in them. We could certainly do this with a simple `for` loop:*"
   ]
  },
  {
   "cell_type": "code",
   "execution_count": 29,
   "id": "62d5b2b3-7cb8-4257-9c80-25fd75e2ac01",
   "metadata": {},
   "outputs": [],
   "source": [
    "# Using for loop\n",
    "names_of_interest = []\n",
    "for names in all_data:\n",
    "    enough_as = [name for name in names if name.count(\"a\") >= 2]\n",
    "    names_of_interest.extend(enough_as)"
   ]
  },
  {
   "cell_type": "code",
   "execution_count": 30,
   "id": "e82db3ec-4de5-4d72-a390-2a653b8f8788",
   "metadata": {},
   "outputs": [
    {
     "data": {
      "text/plain": [
       "['Maria', 'Natalia']"
      ]
     },
     "execution_count": 30,
     "metadata": {},
     "output_type": "execute_result"
    }
   ],
   "source": [
    "names_of_interest"
   ]
  },
  {
   "cell_type": "markdown",
   "id": "ee803375-b82a-45a1-b5af-4a00cd1b397c",
   "metadata": {},
   "source": [
    "*You can actually wrap this whole operation up in a single __nested list comprehension__, which will look like:*"
   ]
  },
  {
   "cell_type": "code",
   "execution_count": 31,
   "id": "f764b84d-da93-4802-b51c-779832f266c1",
   "metadata": {},
   "outputs": [],
   "source": [
    "# Nested list comprehension\n",
    "result = [name for names in all_data for name in names if name.count(\"a\") >= 2]"
   ]
  },
  {
   "cell_type": "code",
   "execution_count": 32,
   "id": "da2e02c5-7e8e-430f-a8eb-3a33f85a12e8",
   "metadata": {},
   "outputs": [
    {
     "data": {
      "text/plain": [
       "['Maria', 'Natalia']"
      ]
     },
     "execution_count": 32,
     "metadata": {},
     "output_type": "execute_result"
    }
   ],
   "source": [
    "result"
   ]
  },
  {
   "cell_type": "markdown",
   "id": "3dfdd8a5-bcc8-4d1d-9a9e-0deb75cc7680",
   "metadata": {},
   "source": [
    "*The `for` parts of the __list comprehension__ are arranged according to the order of nesting, and any filter condition is put at the end as before.*\n",
    "\n",
    "*Here is another example where we \"flatten\" a list of tuples of integers into a simple list of integers.*"
   ]
  },
  {
   "cell_type": "code",
   "execution_count": 33,
   "id": "df1dd7ce-486f-42eb-bed6-725f0e4b11a6",
   "metadata": {},
   "outputs": [],
   "source": [
    "# Flatten a list of tuples\n",
    "some_tuples = [(1, 2, 3), (4, 5, 6), (7, 8, 9)]\n",
    "flattened = [x for tup in some_tuples for x in tup]"
   ]
  },
  {
   "cell_type": "code",
   "execution_count": 34,
   "id": "a1556ed5-51ae-4f3a-a61a-1d39639900c4",
   "metadata": {},
   "outputs": [
    {
     "data": {
      "text/plain": [
       "[1, 2, 3, 4, 5, 6, 7, 8, 9]"
      ]
     },
     "execution_count": 34,
     "metadata": {},
     "output_type": "execute_result"
    }
   ],
   "source": [
    "flattened"
   ]
  },
  {
   "cell_type": "markdown",
   "id": "d6944a51-7cb9-43f2-b4f9-28ca45dc326f",
   "metadata": {},
   "source": [
    "*The order of the `for` expressions would be the same if you wrote a nested `for` loop instead of a list comprehension.*"
   ]
  },
  {
   "cell_type": "code",
   "execution_count": 35,
   "id": "2c4cf378-daf3-43df-81ec-ecb61195f34f",
   "metadata": {},
   "outputs": [],
   "source": [
    "# Nested for loop\n",
    "flattened = []\n",
    "for tup in some_tuples:\n",
    "    for x in tup:\n",
    "        flattened.append(x)"
   ]
  },
  {
   "cell_type": "code",
   "execution_count": 36,
   "id": "7df2e8de-3af6-4419-a0d0-a98f0e5ab2c0",
   "metadata": {},
   "outputs": [
    {
     "data": {
      "text/plain": [
       "[1, 2, 3, 4, 5, 6, 7, 8, 9]"
      ]
     },
     "execution_count": 36,
     "metadata": {},
     "output_type": "execute_result"
    }
   ],
   "source": [
    "flattened"
   ]
  },
  {
   "cell_type": "markdown",
   "id": "aadaddb5-5ca9-4f3e-8a42-98fb63f56610",
   "metadata": {},
   "source": [
    "*Finally, it is also perfectly valid to have a __list comprehension__ inside a __list comprehension__.*"
   ]
  },
  {
   "cell_type": "code",
   "execution_count": 37,
   "id": "ef16451e-03ab-459b-ab51-f3ceab371f7d",
   "metadata": {},
   "outputs": [
    {
     "data": {
      "text/plain": [
       "[[1, 2, 3], [4, 5, 6], [7, 8, 9]]"
      ]
     },
     "execution_count": 37,
     "metadata": {},
     "output_type": "execute_result"
    }
   ],
   "source": [
    "# List comprehension inside a list comprehension\n",
    "[[x for x in tup] for tup in some_tuples]"
   ]
  }
 ],
 "metadata": {
  "kernelspec": {
   "display_name": "Python 3 (ipykernel)",
   "language": "python",
   "name": "python3"
  },
  "language_info": {
   "codemirror_mode": {
    "name": "ipython",
    "version": 3
   },
   "file_extension": ".py",
   "mimetype": "text/x-python",
   "name": "python",
   "nbconvert_exporter": "python",
   "pygments_lexer": "ipython3",
   "version": "3.11.5"
  }
 },
 "nbformat": 4,
 "nbformat_minor": 5
}

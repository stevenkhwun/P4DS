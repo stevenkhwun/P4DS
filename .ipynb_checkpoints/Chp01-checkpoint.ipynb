{
 "cells": [
  {
   "cell_type": "markdown",
   "metadata": {
    "colab_type": "text",
    "id": "view-in-github"
   },
   "source": [
    "<a href=\"https://colab.research.google.com/github/stevenkhwun/P4DS/blob/main/Chp01.ipynb\" target=\"_parent\"><img src=\"https://colab.research.google.com/assets/colab-badge.svg\" alt=\"Open In Colab\"/></a>"
   ]
  },
  {
   "cell_type": "markdown",
   "metadata": {
    "id": "6RfaKJkRt2ug"
   },
   "source": [
    "# Some useful commands"
   ]
  },
  {
   "cell_type": "markdown",
   "metadata": {
    "id": "Urpy_2G4t7Qg"
   },
   "source": [
    "## Binary operators"
   ]
  },
  {
   "cell_type": "code",
   "execution_count": 1,
   "metadata": {
    "colab": {
     "base_uri": "https://localhost:8080/"
    },
    "id": "wdsf1VVbs_AM",
    "outputId": "595c6ffa-bbd7-4e7f-ed29-fafa24c8d948"
   },
   "outputs": [
    {
     "name": "stdout",
     "output_type": "stream",
     "text": [
      "109\n",
      "91\n",
      "900\n",
      "11.11111111111111\n",
      "11\n",
      "1\n",
      "1000000\n"
     ]
    }
   ],
   "source": [
    "# Binary operators\n",
    "print(100 + 9)   # Add\n",
    "print(100 - 9)   # Subtract\n",
    "print(100 * 9)   # Multiply\n",
    "print(100 / 9)   # Divide\n",
    "print(100 // 9)  # Floor-divide\n",
    "print(100 % 9)   # Modulo operatio\n",
    "print(100 ** 3)  # Raise to a power"
   ]
  },
  {
   "cell_type": "markdown",
   "metadata": {
    "id": "hxzlmKoEu-Ej"
   },
   "source": [
    "## Comparisons"
   ]
  },
  {
   "cell_type": "markdown",
   "metadata": {
    "id": "TVJ41T5D0Dk6"
   },
   "source": [
    "### `&` and `AND`\n",
    "\n",
    "See https://www.geeksforgeeks.org/difference-between-and-and-in-python/ for refernce."
   ]
  },
  {
   "cell_type": "markdown",
   "metadata": {
    "id": "Cj9KejZ90cWV"
   },
   "source": [
    "### `is` and `is not` keyword\n",
    "\n",
    "To check if two variables refer to the same object, use the `is` keyword. Use `is not` to check that two objects are not the same:"
   ]
  },
  {
   "cell_type": "code",
   "execution_count": 2,
   "metadata": {
    "colab": {
     "base_uri": "https://localhost:8080/"
    },
    "id": "g6Qe2cX4swor",
    "outputId": "97db7d8a-b80b-4d46-f44a-fc59c3b0337f"
   },
   "outputs": [
    {
     "data": {
      "text/plain": [
       "([1, 2, 3], [1, 2, 3], [1, 2, 3])"
      ]
     },
     "execution_count": 2,
     "metadata": {},
     "output_type": "execute_result"
    }
   ],
   "source": [
    "# Creating the objects\n",
    "a = [1, 2, 3]\n",
    "b = a\n",
    "c = list(a)\n",
    "\n",
    "a, b, c"
   ]
  },
  {
   "cell_type": "markdown",
   "metadata": {
    "id": "rldDQ_4l1HKT"
   },
   "source": [
    "The object `a`, `b` and `c` are the same in the sense that they have the same value."
   ]
  },
  {
   "cell_type": "code",
   "execution_count": 3,
   "metadata": {
    "colab": {
     "base_uri": "https://localhost:8080/"
    },
    "id": "mIuWCcb21c56",
    "outputId": "242df89a-9005-4ae3-b49f-660bd7de0f4d"
   },
   "outputs": [
    {
     "name": "stdout",
     "output_type": "stream",
     "text": [
      "True\n",
      "True\n",
      "True\n"
     ]
    }
   ],
   "source": [
    "# Compare the value of the objects\n",
    "print(a == b)\n",
    "print(b == c)\n",
    "print(a == c)"
   ]
  },
  {
   "cell_type": "markdown",
   "metadata": {
    "id": "clZ5-yBQ1pru"
   },
   "source": [
    "However, only `a` and `b` are refering to the same object, i.e. the list `[1, 2, 3]` and `c` in fact a copy of `a` created by the function `list()` and is distinct from `a`."
   ]
  },
  {
   "cell_type": "code",
   "execution_count": 4,
   "metadata": {
    "colab": {
     "base_uri": "https://localhost:8080/"
    },
    "id": "OaVev7xE2Bn7",
    "outputId": "8bf55f00-19d1-45f8-ec40-1cd8af75e42a"
   },
   "outputs": [
    {
     "name": "stdout",
     "output_type": "stream",
     "text": [
      "True\n",
      "False\n",
      "True\n"
     ]
    }
   ],
   "source": [
    "# Compare the object using is and is not\n",
    "print(a is b)\n",
    "print(a is c)\n",
    "print(b is not c)"
   ]
  },
  {
   "cell_type": "markdown",
   "metadata": {
    "id": "oFQfKsQv2gvh"
   },
   "source": [
    "By appending an element to `a` and then examining `b`, you can see that `a` and `b` are referring to the same object."
   ]
  },
  {
   "cell_type": "code",
   "execution_count": 5,
   "metadata": {
    "colab": {
     "base_uri": "https://localhost:8080/"
    },
    "id": "3mvhuMrgwNXO",
    "outputId": "e3b2125d-14ab-452a-faa8-01333b771ca4"
   },
   "outputs": [
    {
     "name": "stdout",
     "output_type": "stream",
     "text": [
      "[1, 2, 3, 4]\n",
      "[1, 2, 3, 4]\n"
     ]
    }
   ],
   "source": [
    "# Appending element to a\n",
    "a.append(4)\n",
    "print(a)\n",
    "print(b)"
   ]
  },
  {
   "cell_type": "markdown",
   "metadata": {
    "id": "qKAxpihSydUM"
   },
   "source": [
    "## The `range` function\n",
    "\n",
    "Like strings and tuples, ranges are immutable. The `range` function returns an object of type range. The `range` function takes three integer arguments: start, stop, and step, and returns the progression of integers start, start + step, start + 2\\*step, etc.\n",
    "\n",
    "Note that we can only view the elements in the range by converting it into a list or tuple."
   ]
  },
  {
   "cell_type": "code",
   "execution_count": 6,
   "metadata": {
    "colab": {
     "base_uri": "https://localhost:8080/"
    },
    "id": "afwVcrNjzmeE",
    "outputId": "eeffce21-18b7-45f5-96d5-5f7ba9dc2fed"
   },
   "outputs": [
    {
     "data": {
      "text/plain": [
       "range(0, 7, 2)"
      ]
     },
     "execution_count": 6,
     "metadata": {},
     "output_type": "execute_result"
    }
   ],
   "source": [
    "# Creating a range object\n",
    "r1 = range(0,7,2)\n",
    "r1"
   ]
  },
  {
   "cell_type": "code",
   "execution_count": 7,
   "metadata": {
    "colab": {
     "base_uri": "https://localhost:8080/"
    },
    "id": "L6TlGVzI1qmw",
    "outputId": "6f98a45a-c458-47f6-b5b0-48d8a6dfbc39"
   },
   "outputs": [
    {
     "name": "stdout",
     "output_type": "stream",
     "text": [
      "[0, 2, 4, 6]\n"
     ]
    }
   ],
   "source": [
    "# View the range object\n",
    "print(list(r1))"
   ]
  },
  {
   "cell_type": "markdown",
   "metadata": {
    "id": "unUp0M9h15u9"
   },
   "source": [
    "If we access a single element in a range by `[]`, it returns an integer:"
   ]
  },
  {
   "cell_type": "code",
   "execution_count": 8,
   "metadata": {
    "colab": {
     "base_uri": "https://localhost:8080/"
    },
    "id": "uEDZeIUS11jh",
    "outputId": "c77baf24-8956-4af9-ff77-8dd1456e48ed"
   },
   "outputs": [
    {
     "data": {
      "text/plain": [
       "2"
      ]
     },
     "execution_count": 8,
     "metadata": {},
     "output_type": "execute_result"
    }
   ],
   "source": [
    "# Accessing an element in a range\n",
    "r1[1]      # That is the second element in the range"
   ]
  },
  {
   "cell_type": "code",
   "execution_count": 9,
   "metadata": {
    "colab": {
     "base_uri": "https://localhost:8080/"
    },
    "id": "TuEAjc1N2d6k",
    "outputId": "4ea3499b-ad11-4d34-fd14-7a1717d193ea"
   },
   "outputs": [
    {
     "data": {
      "text/plain": [
       "int"
      ]
     },
     "execution_count": 9,
     "metadata": {},
     "output_type": "execute_result"
    }
   ],
   "source": [
    "# Type of the element\n",
    "type(r1[1])"
   ]
  },
  {
   "cell_type": "markdown",
   "metadata": {
    "id": "2X7qD-Ds2kNc"
   },
   "source": [
    "If we access a series of elements in the range by `[]`, it returns a range:"
   ]
  },
  {
   "cell_type": "code",
   "execution_count": 10,
   "metadata": {
    "colab": {
     "base_uri": "https://localhost:8080/"
    },
    "id": "Q2hvIPzQ0PfD",
    "outputId": "768bc912-1369-494d-a8fd-815b5d96f80a"
   },
   "outputs": [
    {
     "data": {
      "text/plain": [
       "range(2, 6, 2)"
      ]
     },
     "execution_count": 10,
     "metadata": {},
     "output_type": "execute_result"
    }
   ],
   "source": [
    "# Access a series of elements\n",
    "r2 = r1[1:3]\n",
    "r2"
   ]
  },
  {
   "cell_type": "code",
   "execution_count": 11,
   "metadata": {
    "colab": {
     "base_uri": "https://localhost:8080/"
    },
    "id": "Cl_lRPAl24ED",
    "outputId": "2780b58c-401a-4916-823d-33e6b1bbafa3"
   },
   "outputs": [
    {
     "name": "stdout",
     "output_type": "stream",
     "text": [
      "[2, 4]\n"
     ]
    }
   ],
   "source": [
    "# The elements in r2 are\n",
    "print(list(r2))"
   ]
  },
  {
   "cell_type": "markdown",
   "metadata": {
    "id": "o-8fIUwJ3vk6"
   },
   "source": [
    "We can directly access the element in r2 by nested `[]`:"
   ]
  },
  {
   "cell_type": "code",
   "execution_count": 12,
   "metadata": {
    "colab": {
     "base_uri": "https://localhost:8080/"
    },
    "id": "OtuuETyd33va",
    "outputId": "736b4872-f71c-419b-8f2f-e18379e97fc8"
   },
   "outputs": [
    {
     "data": {
      "text/plain": [
       "4"
      ]
     },
     "execution_count": 12,
     "metadata": {},
     "output_type": "execute_result"
    }
   ],
   "source": [
    "# Nested []\n",
    "r1[1:3][1]"
   ]
  },
  {
   "cell_type": "markdown",
   "metadata": {
    "id": "XiqORvBO1PXT"
   },
   "source": [
    "If step is positive, the last element is the largest integer start + i\\*step less than stop."
   ]
  },
  {
   "cell_type": "code",
   "execution_count": 13,
   "metadata": {
    "colab": {
     "base_uri": "https://localhost:8080/"
    },
    "id": "wlfIORmS4IM7",
    "outputId": "18c08f8c-e1b2-4b20-c34a-2b23ffaa1a32"
   },
   "outputs": [
    {
     "name": "stdout",
     "output_type": "stream",
     "text": [
      "[6, 5, 4, 3, 2, 1, 0, -1, -2]\n"
     ]
    }
   ],
   "source": [
    "print(list(range(6,-3, -1)))"
   ]
  },
  {
   "cell_type": "markdown",
   "metadata": {
    "id": "THl44KA6tsU-"
   },
   "source": [
    "# Some important concepts"
   ]
  },
  {
   "cell_type": "markdown",
   "metadata": {
    "id": "_MPDG078txju"
   },
   "source": [
    "## Mutable and immutable objects"
   ]
  },
  {
   "cell_type": "markdown",
   "metadata": {
    "id": "0mJz4Hkut8_N"
   },
   "source": [
    "### Mutable objects\n",
    "\n",
    "Many objects in Python, such as lists, dictionaries, NumPy arrays, and most user-defined types (classes), are mutable. This means that the object or values that they contain can be modified:"
   ]
  },
  {
   "cell_type": "code",
   "execution_count": 14,
   "metadata": {
    "colab": {
     "base_uri": "https://localhost:8080/"
    },
    "id": "Wsa2BZ_guOVM",
    "outputId": "d1f608d6-ebab-42a4-c39b-c1eb0b7cd9df"
   },
   "outputs": [
    {
     "data": {
      "text/plain": [
       "['foo', 2, [4, 5]]"
      ]
     },
     "execution_count": 14,
     "metadata": {},
     "output_type": "execute_result"
    }
   ],
   "source": [
    "# Mutable object list\n",
    "a_list = [\"foo\", 2, [4, 5]]\n",
    "a_list"
   ]
  },
  {
   "cell_type": "code",
   "execution_count": 15,
   "metadata": {
    "colab": {
     "base_uri": "https://localhost:8080/"
    },
    "id": "BRpE5Iqaud0B",
    "outputId": "880991ce-236c-4dd7-9819-d78c4ad52bf3"
   },
   "outputs": [
    {
     "data": {
      "text/plain": [
       "['foo', 2, (3, 4)]"
      ]
     },
     "execution_count": 15,
     "metadata": {},
     "output_type": "execute_result"
    }
   ],
   "source": [
    "# Modified the element in the object\n",
    "a_list[2] = (3, 4)\n",
    "a_list"
   ]
  },
  {
   "cell_type": "markdown",
   "metadata": {
    "id": "iuYKaVQwu2kJ"
   },
   "source": [
    "### Immutable objects\n",
    "\n",
    "Others, like strings and tuples, are immutable, which means their internal data cannot be changed:"
   ]
  },
  {
   "cell_type": "code",
   "execution_count": 16,
   "metadata": {
    "colab": {
     "base_uri": "https://localhost:8080/"
    },
    "id": "UwNIRTM1vBQ5",
    "outputId": "c19b2d77-28f6-4f9f-839f-54211f2b23db"
   },
   "outputs": [
    {
     "data": {
      "text/plain": [
       "(3, 5, (4, 5))"
      ]
     },
     "execution_count": 16,
     "metadata": {},
     "output_type": "execute_result"
    }
   ],
   "source": [
    "# Immutable object tuple\n",
    "a_tuple = (3, 5, (4, 5))\n",
    "a_tuple"
   ]
  },
  {
   "cell_type": "markdown",
   "metadata": {
    "id": "_M5MB4GIvkx9"
   },
   "source": [
    "When you try to modify an element in the tuple, for example:\n",
    "\n",
    "```python\n",
    "a_tuple[1] = \"four\"\n",
    "```\n",
    "\n",
    "The following error message wil return:\n",
    "\n",
    "```python\n",
    "TypeError: 'tuple' object does not support item assignment\n",
    "```"
   ]
  },
  {
   "cell_type": "markdown",
   "metadata": {
    "id": "b6xrbD9CwZIz"
   },
   "source": [
    "Recall that to access the element in a tuple, you can use the following command, which gives the second element in the tuple."
   ]
  },
  {
   "cell_type": "code",
   "execution_count": 17,
   "metadata": {
    "colab": {
     "base_uri": "https://localhost:8080/"
    },
    "id": "kG8UA87rwmhz",
    "outputId": "b595f22b-b258-4bc2-d021-da7f7c3c06a5"
   },
   "outputs": [
    {
     "data": {
      "text/plain": [
       "5"
      ]
     },
     "execution_count": 17,
     "metadata": {},
     "output_type": "execute_result"
    }
   ],
   "source": [
    "# Accessing element in a tuple\n",
    "a_tuple[1]"
   ]
  },
  {
   "cell_type": "markdown",
   "metadata": {
    "id": "N0EzGv9Iwx4G"
   },
   "source": [
    "Similarly, for a string, we can use the following commands:"
   ]
  },
  {
   "cell_type": "code",
   "execution_count": 18,
   "metadata": {
    "colab": {
     "base_uri": "https://localhost:8080/",
     "height": 35
    },
    "id": "N9hTftnjvMKu",
    "outputId": "9fad8f85-ddfa-48a7-c481-2dfa78621363"
   },
   "outputs": [
    {
     "data": {
      "text/plain": [
       "'i'"
      ]
     },
     "execution_count": 18,
     "metadata": {},
     "output_type": "execute_result"
    }
   ],
   "source": [
    "# Accessing element in a string\n",
    "string = \"this is a string\"\n",
    "string[2]     # This is \"i\""
   ]
  },
  {
   "cell_type": "code",
   "execution_count": 19,
   "metadata": {
    "colab": {
     "base_uri": "https://localhost:8080/",
     "height": 35
    },
    "id": "f53BY1UGxJWk",
    "outputId": "55360f8d-8def-4655-ad5a-e67f67c8885a"
   },
   "outputs": [
    {
     "data": {
      "text/plain": [
       "' '"
      ]
     },
     "execution_count": 19,
     "metadata": {},
     "output_type": "execute_result"
    }
   ],
   "source": [
    "# Accessing element in a string\n",
    "string[4]      # This is a space"
   ]
  },
  {
   "cell_type": "markdown",
   "metadata": {
    "id": "KMFTTpzv3kZU"
   },
   "source": [
    "# Import custom modules\n",
    "\n",
    "In Python, a module is simply a file with the `.py` extension containing Python code. Suppose we had the following module:\n",
    "\n",
    "```python\n",
    "# some_module.py\n",
    "PI = 3.14159\n",
    "\n",
    "def f(x):\n",
    "    return x + 2\n",
    "    \n",
    "def g(a, b):\n",
    "    return a + b\n",
    "```\n",
    "\n",
    "To import a module, the `.py` module file should be put into the same folder or the path of the location of the file be stated in the command:\n",
    "```python\n",
    "# In the same folder\n",
    "import module_name   # .py not necessary\n",
    "\n",
    "# In different folder\n",
    "import \\Module\\module_name   # import from a subfolder Module\n",
    "```\n",
    "\n",
    "The following example demonstrates importing a module in the Colab environment and some more steps are needed. Since Colab is a Jupyter Notebook environment working in the cloud and it cannot access the file in the hard drive of a computer, we need first upload the module file to the cloud and make it accessable by the Jupyter Notebook.\n",
    "\n"
   ]
  },
  {
   "cell_type": "markdown",
   "metadata": {
    "id": "Rd9lMcr7-ovD"
   },
   "source": [
    "## Colab operations\n",
    "\n",
    "First you need to upload the custom module file to your Google drive. In this example, the `some_module.py` file is uploaded to the sub-directory `\\Modules` in the Google drive.\n",
    "\n",
    "To make the module file accessible by Jupyter Notebook, you need to copy the module file to the working directory of the notebook. To check the working directory of the notebook, you can use the following command:\n"
   ]
  },
  {
   "cell_type": "code",
   "execution_count": 20,
   "metadata": {
    "colab": {
     "base_uri": "https://localhost:8080/"
    },
    "id": "x0DTGIwWAprS",
    "outputId": "623bd557-3afe-4807-d57e-94d05debce00"
   },
   "outputs": [
    {
     "name": "stdout",
     "output_type": "stream",
     "text": [
      "/c/Users/andyw/Repositories/P4DS\n"
     ]
    }
   ],
   "source": [
    "# Check your Colab temporary path\n",
    "! pwd"
   ]
  },
  {
   "cell_type": "markdown",
   "metadata": {
    "id": "-pqBsx6pAuKJ"
   },
   "source": [
    "Before you can copy the file to the working directory, you need to mount your Google drive to Google Colab."
   ]
  },
  {
   "cell_type": "code",
   "execution_count": 21,
   "metadata": {
    "colab": {
     "base_uri": "https://localhost:8080/"
    },
    "id": "oPcZgqvj0DBG",
    "outputId": "7f476072-7f00-4dc5-846d-2f9ddb6c57e4"
   },
   "outputs": [
    {
     "ename": "ModuleNotFoundError",
     "evalue": "No module named 'google'",
     "output_type": "error",
     "traceback": [
      "\u001b[1;31m---------------------------------------------------------------------------\u001b[0m",
      "\u001b[1;31mModuleNotFoundError\u001b[0m                       Traceback (most recent call last)",
      "Cell \u001b[1;32mIn [21], line 2\u001b[0m\n\u001b[0;32m      1\u001b[0m \u001b[38;5;66;03m# Mount your Google drive to Google Colab\u001b[39;00m\n\u001b[1;32m----> 2\u001b[0m \u001b[38;5;28;01mfrom\u001b[39;00m \u001b[38;5;21;01mgoogle\u001b[39;00m\u001b[38;5;21;01m.\u001b[39;00m\u001b[38;5;21;01mcolab\u001b[39;00m \u001b[38;5;28;01mimport\u001b[39;00m drive\n\u001b[0;32m      3\u001b[0m drive\u001b[38;5;241m.\u001b[39mmount(\u001b[38;5;124m'\u001b[39m\u001b[38;5;124m/content/drive\u001b[39m\u001b[38;5;124m'\u001b[39m)\n",
      "\u001b[1;31mModuleNotFoundError\u001b[0m: No module named 'google'"
     ]
    }
   ],
   "source": [
    "# Mount your Google drive to Google Colab\n",
    "from google.colab import drive\n",
    "drive.mount('/content/drive')"
   ]
  },
  {
   "cell_type": "markdown",
   "metadata": {
    "id": "nX91SwmzBhbg"
   },
   "source": [
    "You can check the file directory by clicking on the left panel of the Colab environment. You can also check the working directory again."
   ]
  },
  {
   "cell_type": "code",
   "execution_count": 22,
   "metadata": {
    "colab": {
     "base_uri": "https://localhost:8080/"
    },
    "id": "Hk7xXZzhrJXr",
    "outputId": "4178adc6-a99a-47d3-aed2-e132e85ec154"
   },
   "outputs": [
    {
     "name": "stdout",
     "output_type": "stream",
     "text": [
      "/c/Users/andyw/Repositories/P4DS\n"
     ]
    }
   ],
   "source": [
    "# Check your Colab temporary path\n",
    "! pwd"
   ]
  },
  {
   "cell_type": "markdown",
   "metadata": {
    "id": "xuF-DRcYB0eJ"
   },
   "source": [
    "Now you can copy the custom module from Google Drive to Colab temporary drive."
   ]
  },
  {
   "cell_type": "code",
   "execution_count": 23,
   "metadata": {
    "id": "OHxuzDKn1VR9"
   },
   "outputs": [
    {
     "name": "stderr",
     "output_type": "stream",
     "text": [
      "cp: cannot stat '/content/drive/MyDrive/Modules/some_module.py': No such file or directory\n"
     ]
    }
   ],
   "source": [
    "# Copy custom module from Google Drive to Colab temporary drive\n",
    "# !cp [path of your custom module] [path where you like to copy]\n",
    "! cp /content/drive/MyDrive/Modules/some_module.py /content/"
   ]
  },
  {
   "cell_type": "markdown",
   "metadata": {
    "id": "m1JZDXJeCwaQ"
   },
   "source": [
    "## Running the custom module\n",
    "\n",
    "The module file has now been copied to the Colab temporary drive and you can import the module by the following command:"
   ]
  },
  {
   "cell_type": "code",
   "execution_count": 24,
   "metadata": {
    "id": "3G_nqym33O5x"
   },
   "outputs": [
    {
     "ename": "ModuleNotFoundError",
     "evalue": "No module named 'some_module'",
     "output_type": "error",
     "traceback": [
      "\u001b[1;31m---------------------------------------------------------------------------\u001b[0m",
      "\u001b[1;31mModuleNotFoundError\u001b[0m                       Traceback (most recent call last)",
      "Cell \u001b[1;32mIn [24], line 2\u001b[0m\n\u001b[0;32m      1\u001b[0m \u001b[38;5;66;03m# Import the module\u001b[39;00m\n\u001b[1;32m----> 2\u001b[0m \u001b[38;5;28;01mimport\u001b[39;00m \u001b[38;5;21;01msome_module\u001b[39;00m\n",
      "\u001b[1;31mModuleNotFoundError\u001b[0m: No module named 'some_module'"
     ]
    }
   ],
   "source": [
    "# Import the module\n",
    "import some_module"
   ]
  },
  {
   "cell_type": "code",
   "execution_count": null,
   "metadata": {
    "colab": {
     "base_uri": "https://localhost:8080/"
    },
    "id": "lo3z92Yw3VDn",
    "outputId": "5a8cddca-f4f9-4d81-9c2d-9ae5f112199a"
   },
   "outputs": [],
   "source": [
    "# Run the function in the module\n",
    "result = some_module.f(5)   # Run f\n",
    "pi = some_module.PI         # Obtain the constant stated in the module\n",
    "\n",
    "# Print the results\n",
    "print(result)\n",
    "print(pi)"
   ]
  },
  {
   "cell_type": "markdown",
   "metadata": {
    "id": "m-ARjukUDsJC"
   },
   "source": [
    "To directly use the function in the module, use the following command:"
   ]
  },
  {
   "cell_type": "code",
   "execution_count": null,
   "metadata": {
    "colab": {
     "base_uri": "https://localhost:8080/"
    },
    "id": "dJExY7t23U4g",
    "outputId": "7e0d2ec5-31dd-48ec-b292-f1dcb2dcdafe"
   },
   "outputs": [],
   "source": [
    "# Directly import function in a module\n",
    "from some_module import g, PI\n",
    "\n",
    "# Run the function\n",
    "results = g(1, 10)\n",
    "print(results)\n",
    "print(PI)"
   ]
  },
  {
   "cell_type": "markdown",
   "metadata": {
    "id": "_J8En0ENEeiB"
   },
   "source": [
    "Finally, your can also using the `as` keyword to give imports different variable names:"
   ]
  },
  {
   "cell_type": "code",
   "execution_count": null,
   "metadata": {
    "colab": {
     "base_uri": "https://localhost:8080/"
    },
    "id": "1E8YjwM1Eqvx",
    "outputId": "3b3eed2f-fb13-4dc8-bbd5-d6c7dbc7d0a3"
   },
   "outputs": [],
   "source": [
    "# Use as keyword\n",
    "import some_module as sm\n",
    "from some_module import PI as pi, g as gf\n",
    "\n",
    "# Run the function\n",
    "r1 = sm.f(pi)\n",
    "r2 = gf(6, pi)\n",
    "print(r1)\n",
    "print(r2)"
   ]
  },
  {
   "cell_type": "markdown",
   "metadata": {
    "id": "7IkWQJ39FNQD"
   },
   "source": [
    "# This is the end of the document."
   ]
  },
  {
   "cell_type": "code",
   "execution_count": null,
   "metadata": {
    "id": "jlMxw0IArJJZ"
   },
   "outputs": [],
   "source": [
    "# An element appending function\n",
    "def append_element(some_list, element):\n",
    "  some_list.append(element)"
   ]
  },
  {
   "cell_type": "code",
   "execution_count": null,
   "metadata": {
    "colab": {
     "base_uri": "https://localhost:8080/"
    },
    "id": "_OFAdxY6rU-x",
    "outputId": "53f3d27d-43a9-4bfd-f8b9-5bbddea7ada4"
   },
   "outputs": [],
   "source": [
    "data = [1, 2, 3]\n",
    "append_element(data, 100)\n",
    "data"
   ]
  },
  {
   "cell_type": "code",
   "execution_count": null,
   "metadata": {
    "id": "qh4vvs43ViQD"
   },
   "outputs": [],
   "source": [
    "b = [1, 2, 3]\n",
    "b?"
   ]
  },
  {
   "cell_type": "code",
   "execution_count": null,
   "metadata": {
    "colab": {
     "base_uri": "https://localhost:8080/"
    },
    "id": "APQ2-4t4VRq3",
    "outputId": "398df3d2-46a1-4e0e-d375-a0bd9ca66a9a"
   },
   "outputs": [],
   "source": [
    "a = \"foo goo\"\n",
    "a.count(\"f\")"
   ]
  },
  {
   "cell_type": "code",
   "execution_count": null,
   "metadata": {
    "colab": {
     "base_uri": "https://localhost:8080/"
    },
    "id": "NiYdqsvitp4w",
    "outputId": "ef7661dd-e9a8-49dc-85c1-78f38c98e52b"
   },
   "outputs": [],
   "source": [
    "type(a)"
   ]
  },
  {
   "cell_type": "code",
   "execution_count": null,
   "metadata": {
    "colab": {
     "base_uri": "https://localhost:8080/"
    },
    "id": "uM8PookWs80Z",
    "outputId": "ec6c1d8a-7f96-4498-85ec-c468ba8d2a2c"
   },
   "outputs": [],
   "source": [
    "n = 689\n",
    "type(n)"
   ]
  },
  {
   "cell_type": "code",
   "execution_count": null,
   "metadata": {
    "colab": {
     "base_uri": "https://localhost:8080/"
    },
    "id": "sIgrGQCBt32D",
    "outputId": "536e6d81-7b1d-4e41-b910-3c870edbed32"
   },
   "outputs": [],
   "source": [
    "n.real"
   ]
  },
  {
   "cell_type": "code",
   "execution_count": null,
   "metadata": {
    "id": "Onc5NGLtj9aR"
   },
   "outputs": [],
   "source": [
    "import pandas as pd"
   ]
  },
  {
   "cell_type": "code",
   "execution_count": null,
   "metadata": {
    "id": "F3_Dr74vmDqN"
   },
   "outputs": [],
   "source": [
    "df = pd.read_csv(\"sample_data/mnist_test.csv\")"
   ]
  },
  {
   "cell_type": "code",
   "execution_count": 37,
   "metadata": {},
   "outputs": [],
   "source": [
    "import numpy as np"
   ]
  },
  {
   "cell_type": "code",
   "execution_count": 38,
   "metadata": {},
   "outputs": [],
   "source": [
    "data = [np.random.standard_normal() for i in range(7)]"
   ]
  },
  {
   "cell_type": "code",
   "execution_count": 39,
   "metadata": {},
   "outputs": [
    {
     "data": {
      "text/plain": [
       "[-0.7042987634495789,\n",
       " 0.32214551923025403,\n",
       " -1.8188729972272148,\n",
       " -0.47431676585612154,\n",
       " -1.2908440775810923,\n",
       " -1.657904176939516,\n",
       " 0.0407007446858117]"
      ]
     },
     "execution_count": 39,
     "metadata": {},
     "output_type": "execute_result"
    }
   ],
   "source": [
    "data"
   ]
  },
  {
   "cell_type": "code",
   "execution_count": null,
   "metadata": {},
   "outputs": [],
   "source": []
  }
 ],
 "metadata": {
  "colab": {
   "authorship_tag": "ABX9TyPVPznlMlgUMeNpYE4NqD4j",
   "include_colab_link": true,
   "provenance": [],
   "toc_visible": true
  },
  "kernelspec": {
   "display_name": "Python 3 (ipykernel)",
   "language": "python",
   "name": "python3"
  },
  "language_info": {
   "codemirror_mode": {
    "name": "ipython",
    "version": 3
   },
   "file_extension": ".py",
   "mimetype": "text/x-python",
   "name": "python",
   "nbconvert_exporter": "python",
   "pygments_lexer": "ipython3",
   "version": "3.9.5"
  }
 },
 "nbformat": 4,
 "nbformat_minor": 1
}

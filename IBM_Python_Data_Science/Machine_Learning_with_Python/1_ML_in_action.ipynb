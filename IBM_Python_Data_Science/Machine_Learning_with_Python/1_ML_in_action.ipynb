{
 "cells": [
  {
   "cell_type": "markdown",
   "id": "7f983444-8b5f-49d3-916f-7e3242bce3b9",
   "metadata": {},
   "source": [
    "# An Overview of Machine Learning"
   ]
  },
  {
   "cell_type": "markdown",
   "id": "e9f9df97-1251-489e-b5d0-e09e1c368b32",
   "metadata": {},
   "source": [
    "## AI, machine learning, and deep learning\n",
    "\n",
    "\n",
    "<b>Artificial intelligence</b>, or <b>AI</b>, makes computers appear intelligent by simulating the cognitive abilities of humans. AI is a general field with a broad scope. It comprises computer vision, natural language processing, generative AI, machine learning, and deep learning.\n",
    "\n",
    "<b>Machine learning</b>, or <b>ML</b>, is the subset of AI that uses algorithms and requires feature engineering by practitioners.\n",
    "\n",
    "<b>Deep learning</b> distinguishes itself from traditional machine learning by using many-layered neural networks that automatically extract features from highly complex, unstructured big data."
   ]
  },
  {
   "cell_type": "markdown",
   "id": "00e6d201-a623-428f-aa4f-21c3caa606ea",
   "metadata": {},
   "source": [
    "## Machine learning paradigms\n",
    "\n",
    "Machine learning teaches computers to learn from data, identify patterns, and make decisions without receiving any explicit instructions from a human being. ML algorithms use computational methods to learn information directly from data without depending on any fixed algorithm.\n",
    "\n",
    "Machine learning models differ in how they learn. For example, <b>supervised learning</b> models train on labeled data to learn how to make inferences on new data, enabling them to predict otherwise unknown labels. <b>Unsupervised learning</b> works without labels by finding patterns in data. <b>Semi-supervised learning</b> trains on a relatively small subset of data that is already labeled, and iteratively retrains itself by adding new labels that it generates with reasonably high confidence. <b>Reinforcement learning</b> simulates an artificially intelligent agent interacting with its environment and learns how to make decisions based on feedback from its environment."
   ]
  },
  {
   "cell_type": "markdown",
   "id": "43626482-a43c-41e7-a925-93e80a498251",
   "metadata": {},
   "source": [
    "## Machine learning techniques\n",
    "\n",
    "Selecting a machine learning technique depends on several factors, such as the problem you're trying to solve, the type of data you have, the available resources, and the desired outcome.\n",
    "\n",
    "A <b>classification</b> technique is used to predict the class or category of a case, such as whether a cell is benign or malignant or whether a customer will churn.\n",
    "\n",
    "The <b>regression-slash-estimation</b> technique is used to predict continuous values, such as the price of a house based on its characteristics or the CO2 emissions from a car's engine.\n",
    "\n",
    "<b>Clustering</b> groups of similar cases, for example, can find similar patients or can be used for customer segmentation in the banking field.\n",
    "\n",
    "The <b>association</b> technique is used to find items or events that often co-occur, such as grocery items usually bought together by a particular customer or market segment.\n",
    "\n",
    "<b>Anomaly detection</b> is used to discover abnormal and unusual cases. For example, it's used for credit card fraud detection. \n",
    "\n",
    "<b>Sequence mining</b> is used to predict the next event. For instance, the clickstream analytics in websites.\n",
    "\n",
    "<b>Dimension reduction</b> is used to reduce data size, particularly the number of features needed.\n",
    "\n",
    "And finally, <b>recommendation systems</b>. This associates people's preferences with others who have similar tastes and recommends new items to them, such as books or movies."
   ]
  },
  {
   "cell_type": "markdown",
   "id": "cd68e95d-d8a5-4b99-9c09-63e9498f21e9",
   "metadata": {},
   "source": [
    "## Classification, regression and clustering\n",
    "\n",
    "To train your machine learning model on <b>supervised data</b>, you can select between the <b>classification</b> or <b>regression</b> technique.\n",
    "\n",
    "<b>Classification</b> categorizes input data into one of several predefined categories or classes, and then makes predictions about the class membership of new observations.\n",
    "\n",
    "<b>Regression</b> is different from classification. It does not make predictions about the class membership of new input data. Regression predicts continuous numerical values from input data.\n",
    "\n",
    "<b>Clustering</b> is one of many <b>unsupervised machine learning</b> techniques for data modeling. It's used to group data points or objects that are somehow similar. For example, in this chart, we use a clustering algorithm to represent data points in green, red, and blue color. The uncategorized data points represented in black color are considered noise."
   ]
  },
  {
   "cell_type": "markdown",
   "id": "5f3d5934-7d3d-43ed-b138-9ef7d917d9a9",
   "metadata": {},
   "source": [
    "## Applications of machine learning\n",
    "\n",
    "Let's look at some applications of machine learning now. This is a human cell sample extracted from a patient. It has some unique characteristics. For example, its clump thickness is 6, its uniformity of cell size is 1, its marginal adhesion is 1, and so on. An interesting question we can ask by looking at this chart is, is this a benign or malignant cell? Compared to a benign cell, a malignant cell invades its surrounding tissue and spreads around the body. Identifying the cell type early can be the key to the patient's survival. One could easily presume that only a doctor with years of experience could identify the cell and confirm if the patient is developing a cancer or not. Imagine you've obtained a dataset containing characteristics of thousands of human cell samples extracted from patients believed to be at risk of developing cancer. Analysis of the original data showed that many of the characteristics differed significantly between benign and malignant samples. You can use the values of these cell characteristics in samples from other patients to indicate whether a new sample might be benign or malignant. You should clean your data, select a proper algorithm for building a prediction model, and train your model to understand patterns of benign or malignant cells within the data. Once the model has been trained by going through data iteratively, it can be used to predict your new or unknown cell with a rather high accuracy. This is the power of machine learning.\n",
    "\n",
    "Machine learning impacts society in a very meaningful way. How do Amazon and Netflix recommend content and products for their users? They use machine learning. This is similar to how your friends might recommend a television show to you based on their knowledge of the types of shows you like to watch.\n",
    "\n",
    "How do you think banks make a decision when approving a loan application? They use machine learning to predict each applicant's default probability and then augment their decision to approve or deny the loan application based on that probability.\n",
    "\n",
    "How do telecommunication companies find how many of their customers will churn? They use demographic data to segment their customers and predict whether a customer will unsubscribe within the next month."
   ]
  },
  {
   "cell_type": "markdown",
   "id": "47b14e14-4002-4ce3-88a7-c6eb174f76b4",
   "metadata": {},
   "source": [
    "## Image recognition with machine learning\n",
    "\n",
    "Let's use computer vision as an example of how machine learning works. Assume you have a large collection of images of cats and dogs. You want to develop a software application to differentiate cats from dogs. The first thing you must do here is interpret the images as a progression of features. For example, does the image show the animal's eyes? If so, what is their size? Does it have ears? What about a tail? How many legs? Does it have wings? For machine learning, we had to painstakingly create rules to get computers to appear intelligent and detect the animals, but it was a failure. It needed a lot of rules, was too dependent on the current dataset, and therefore unable to characterize unseen cases. Machine learning algorithms for computer vision have evolved to be able to identify dogs and cats in images. With machine learning, you can build a model that learns a set of distinguishing animal features from known examples and use them to infer the animal type automatically."
   ]
  },
  {
   "cell_type": "markdown",
   "id": "e166e5fe-0dc0-408f-8aae-2baa02bec599",
   "metadata": {},
   "source": [
    "## Pairing machine learning with human intelligence\n",
    "\n",
    "Although machine learning applications in the modern world are increasing, humans are still in the mix. If an ML algorithm refuses a loan application, a banker wants to know why and initiates a follow-up. There are many other applications of machine learning that we see every day, such as virtual assistants like chatbots logging into our phones using face recognition or even playing computer games like chess. Each of these use different machine learning techniques and algorithms."
   ]
  },
  {
   "cell_type": "markdown",
   "id": "2239861b-8839-4323-a1da-2bad7056ce0e",
   "metadata": {},
   "source": [
    "## Machine Learning Model Lifecycle\n",
    "\n",
    "Let’s begin by looking at the processes in the Lifecycle of a Machine Learning Model. First, <b>define the problem</b> or state the situation. Next, move to <b>data collection</b>, then to <b>data preparation</b>, then to <b>model development and evaluation</b>, and finally to <b>model deployment</b>.\n",
    "\n",
    "In reality, the model lifecycle is iterative, which means that we tend to go back and forth between these processes. For example, if you find some problems with your models that are deployed in production, you may need to go back to data collection,\n",
    "or even the problem definition step, and then re-iterate the subsequent processes.\n",
    "\n",
    "<b>Data collection and preparation</b> is called the <b>Extract</b>, <b>Transform</b>, and <b>Load</b>, or <b>ETL process</b>. The ETL process involves collecting data from various sources, then cleaning, transforming, and storing it into a new single place. The data is then accessible to the machine learning engineer, allowing them to perform tasks like building a machine learning model.\n",
    "\n",
    "\n",
    "In this video, you learned that: The processes involved in a Machine Learning\n",
    "Model Lifecycle are Problem Definition, Data Collection, Data Preparation, Model Development\n",
    "and Evaluation, and Model Deployment."
   ]
  },
  {
   "cell_type": "markdown",
   "id": "64bf66a4-a89a-4d8a-80e2-280c02e8dbd9",
   "metadata": {},
   "source": [
    "## Summary\n",
    "\n",
    "Machine learning is the subset of AI that uses algorithms and requires feature engineering by practitioners. Machine learning models learn using supervised, unsupervised, semi-supervised, and reinforcement learning. Machine learning consists of several techniques, namely classification, regression, clustering, association, anomaly detection, sequence mining, dimension reduction, and recommendation systems. Finally, machine learning is applied to predict diseases, analyze consumer behavior, and recognize images.\n",
    "\n",
    "Further, the Machine Learning Model Lifecycle are Problem Definition, Data Collection, Data Preparation, Model Development\n",
    "and Evaluation, and Model Deployment."
   ]
  }
 ],
 "metadata": {
  "kernelspec": {
   "display_name": "Python 3 (ipykernel)",
   "language": "python",
   "name": "python3"
  },
  "language_info": {
   "codemirror_mode": {
    "name": "ipython",
    "version": 3
   },
   "file_extension": ".py",
   "mimetype": "text/x-python",
   "name": "python",
   "nbconvert_exporter": "python",
   "pygments_lexer": "ipython3",
   "version": "3.11.5"
  }
 },
 "nbformat": 4,
 "nbformat_minor": 5
}

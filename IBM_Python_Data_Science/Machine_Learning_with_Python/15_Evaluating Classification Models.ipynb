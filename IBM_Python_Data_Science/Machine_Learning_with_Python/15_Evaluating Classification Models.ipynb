{
 "cells": [
  {
   "cell_type": "markdown",
   "metadata": {},
   "source": [
    "<p style=\"text-align:center\">\n",
    "    <a href=\"https://skills.network\" target=\"_blank\">\n",
    "    <img src=\"https://cf-courses-data.s3.us.cloud-object-storage.appdomain.cloud/assets/logos/SN_web_lightmode.png\" width=\"200\" alt=\"Skills Network Logo\">\n",
    "    </a>\n",
    "</p>\n",
    "\n",
    "\n",
    "# Evaluating Classification Models\n",
    "Estimated time needed: **25** minutes\n",
    "    \n",
    "\n",
    "## Objectives\n",
    "\n",
    "\n",
    "After completing this lab, you will be able to:\n",
    "\n",
    "* Implement and evaluate the performance of classification models on real-world data\n",
    "* Interpret and compare various evaluation metrics and the confusion matrix for each model\n",
    "\n"
   ]
  },
  {
   "cell_type": "markdown",
   "metadata": {},
   "source": [
    "## Introduction\n",
    "In this lab, you will:\n",
    "- Use the breast cancer data set included in scikit-learn to predict whether a tumor is benign or malignant\n",
    "- Create two classification models and evaluate them. \n",
    "- Add some Gaussian random noise to the features to simulate measurement errors\n",
    " \n",
    "Interpreting and comparing the various evaluation metrics and the confusion matrix for each model will provide you with some valuable intuition regarding what the evaluation metrics mean and how they might impact your interpretation of the model performances.\n",
    "\n",
    "Your goal in this lab is **not** to find the best classifier - it is primarily intended for you to practice interpreting and comparing results in the context of a real-world problem.\n"
   ]
  },
  {
   "cell_type": "markdown",
   "metadata": {},
   "source": [
    "First, to make sure that the required libraries are available, execute the cell below.\n"
   ]
  },
  {
   "cell_type": "code",
   "execution_count": null,
   "metadata": {},
   "outputs": [],
   "source": [
    "!pip install numpy==2.2.0\n",
    "!pip install pandas==2.2.3\n",
    "!pip install scikit-learn==1.6.0\n",
    "!pip install matplotlib==3.9.3\n",
    "!pip install seaborn==0.13.2"
   ]
  },
  {
   "cell_type": "markdown",
   "metadata": {},
   "source": [
    "## Import the required libraries\n"
   ]
  },
  {
   "cell_type": "code",
   "execution_count": null,
   "metadata": {},
   "outputs": [],
   "source": [
    "import numpy as np\n",
    "import pandas as pd\n",
    "from sklearn.datasets import load_iris\n",
    "from sklearn.datasets import load_breast_cancer\n",
    "from sklearn.preprocessing import StandardScaler\n",
    "from sklearn.model_selection import train_test_split\n",
    "from sklearn.neighbors import KNeighborsClassifier\n",
    "from sklearn.svm import SVC\n",
    "from sklearn.metrics import accuracy_score, classification_report, confusion_matrix\n",
    "import matplotlib.pyplot as plt\n",
    "import seaborn as sns"
   ]
  },
  {
   "cell_type": "markdown",
   "metadata": {},
   "source": [
    "### Load the Breast Cancer data set\n"
   ]
  },
  {
   "cell_type": "code",
   "execution_count": null,
   "metadata": {},
   "outputs": [],
   "source": [
    "data = load_breast_cancer()\n",
    "X, y = data.data, data.target\n",
    "labels = data.target_names\n",
    "feature_names = data.feature_names"
   ]
  },
  {
   "cell_type": "markdown",
   "metadata": {},
   "source": [
    "### Print the description of the Breast Cancer data set\n"
   ]
  },
  {
   "cell_type": "code",
   "execution_count": null,
   "metadata": {},
   "outputs": [],
   "source": [
    "print(data.DESCR)"
   ]
  },
  {
   "cell_type": "markdown",
   "metadata": {},
   "source": [
    "In summary, each observation in the data set consists of a variety attributes measured from a sample of cells from a suspicious mass taken from a patient. \n",
    "The goal is to predict whether a mass is malignant (positive case) or benign (negative case):\n"
   ]
  },
  {
   "cell_type": "code",
   "execution_count": null,
   "metadata": {},
   "outputs": [],
   "source": [
    "print(data.target_names)"
   ]
  },
  {
   "cell_type": "markdown",
   "metadata": {},
   "source": [
    "### Standardize the data\n"
   ]
  },
  {
   "cell_type": "code",
   "execution_count": null,
   "metadata": {},
   "outputs": [],
   "source": [
    "scaler = StandardScaler()\n",
    "X_scaled = scaler.fit_transform(X)"
   ]
  },
  {
   "cell_type": "markdown",
   "metadata": {},
   "source": [
    "### Add some noise\n",
    "Next, add some noise to simulate random measurement error, then view the first few rows of the original and noisy features for comparison.\n"
   ]
  },
  {
   "cell_type": "code",
   "execution_count": null,
   "metadata": {},
   "outputs": [],
   "source": [
    "# Add Gaussian noise to the data set\n",
    "np.random.seed(42)  # For reproducibility\n",
    "noise_factor = 0.5 # Adjust this to control the amount of noise\n",
    "X_noisy = X_scaled + noise_factor * np.random.normal(loc=0.0, scale=1.0, size=X.shape)\n",
    "\n",
    "# Load the original and noisy data sets into a DataFrame for comparison and visualization\n",
    "df = pd.DataFrame(X_scaled, columns=feature_names)\n",
    "df_noisy = pd.DataFrame(X_noisy, columns=feature_names)"
   ]
  },
  {
   "cell_type": "code",
   "execution_count": null,
   "metadata": {},
   "outputs": [],
   "source": [
    "# Display the first few rows of the standardized original and noisy data sets for comparison\n",
    "print(\"Original Data (First 5 rows):\")\n",
    "df.head()"
   ]
  },
  {
   "cell_type": "code",
   "execution_count": null,
   "metadata": {},
   "outputs": [],
   "source": [
    "print(\"\\nNoisy Data (First 5 rows):\")\n",
    "df_noisy.head()"
   ]
  },
  {
   "cell_type": "markdown",
   "metadata": {},
   "source": [
    "### Visualizing the noise content. \n",
    "You can get a good idea of how much noise there is in the features by comparing values in the previous tables. You can also visualize the differences in several ways.\n",
    "Let's begin by plotting the histograms of one of the features with and without noise for comparison.\n",
    "#### Histograms\n"
   ]
  },
  {
   "cell_type": "code",
   "execution_count": null,
   "metadata": {},
   "outputs": [],
   "source": [
    "plt.figure(figsize=(12, 6))\n",
    "\n",
    "# Original Feature Distribution (Noise-Free)\n",
    "plt.subplot(1, 2, 1)\n",
    "plt.hist(df[feature_names[5]], bins=20, alpha=0.7, color='blue', label='Original')\n",
    "plt.title('Original Feature Distribution')\n",
    "plt.xlabel(feature_names[5])\n",
    "plt.ylabel('Frequency')\n",
    "\n",
    "# Noisy Feature Distribution\n",
    "plt.subplot(1, 2, 2)\n",
    "plt.hist(df_noisy[feature_names[5]], bins=20, alpha=0.7, color='red', label='Noisy') \n",
    "plt.title('Noisy Feature Distribution')\n",
    "plt.xlabel(feature_names[5])  \n",
    "plt.ylabel('Frequency')\n",
    "\n",
    "plt.tight_layout()  # Ensures proper spacing between subplots\n",
    "plt.show()"
   ]
  },
  {
   "cell_type": "markdown",
   "metadata": {},
   "source": [
    "The noise-free histogram is skewed to the left and appears to a log-normal distribution, while the noisy histogram is less skewed, tending toward a normal distribution.\n"
   ]
  },
  {
   "cell_type": "markdown",
   "metadata": {},
   "source": [
    "#### Plots\n",
    "You can also plot the two features together to get a sense of their differences.\n"
   ]
  },
  {
   "cell_type": "code",
   "execution_count": null,
   "metadata": {},
   "outputs": [],
   "source": [
    "plt.figure(figsize=(12, 6))\n",
    "plt.plot(df[feature_names[5]], label='Original',lw=3)\n",
    "plt.plot(df_noisy[feature_names[5]], '--',label='Noisy',)\n",
    "plt.title('Scaled feature comparison with and without noise')\n",
    "plt.xlabel(feature_names[5])\n",
    "plt.legend()\n",
    "plt.tight_layout()\n",
    "plt.show()"
   ]
  },
  {
   "cell_type": "markdown",
   "metadata": {},
   "source": [
    "#### Scatterplot\n",
    "Finally, you can compare the two features ussing a scatterplot. This gives you an excellent idea of how well the two features are correlated.\n"
   ]
  },
  {
   "cell_type": "code",
   "execution_count": null,
   "metadata": {},
   "outputs": [],
   "source": [
    "plt.figure(figsize=(12, 6))\n",
    "plt.scatter(df[feature_names[5]], df_noisy[feature_names[5]],lw=5)\n",
    "plt.title('Scaled feature comparison with and without noise')\n",
    "plt.xlabel('Original Feature')\n",
    "plt.ylabel('Noisy Feature')\n",
    "plt.tight_layout()\n",
    "plt.show()"
   ]
  },
  {
   "cell_type": "markdown",
   "metadata": {},
   "source": [
    "### Exercise 1. Split the data, and fit the KNN and SVM models to the noisy training data\n"
   ]
  },
  {
   "cell_type": "code",
   "execution_count": null,
   "metadata": {},
   "outputs": [],
   "source": [
    "# Enter your code here\n",
    "\n",
    "# Split the data set into training and test sets\n",
    "X_train, X_test, y_train, y_test = train_test_split(..., y, test_size=0.3, random_state=42)\n",
    "\n",
    "# Initialize the models\n",
    "knn = ...(n_neighbors=5)\n",
    "svm = ...(kernel='linear', C=1, random_state=42)\n",
    "\n",
    "# Fit the models to the training data\n",
    "knn.fit(X_train, ...)\n",
    "svm.fit(X_train, ...)"
   ]
  },
  {
   "cell_type": "markdown",
   "metadata": {},
   "source": [
    "<details><summary>Click here for the solution</summary>\n",
    "\n",
    "```python\n",
    "# Split the data set into training and test sets\n",
    "X_train, X_test, y_train, y_test = train_test_split(X_noisy, y, test_size=0.3, random_state=42)\n",
    "#X_train, X_test, y_train, y_test = train_test_split(X, y, test_size=0.3, random_state=42)\n",
    "\n",
    "# Initialize the models\n",
    "knn = KNeighborsClassifier(n_neighbors=5)\n",
    "svm = SVC(kernel='linear', C=1, random_state=42)\n",
    "\n",
    "# Fit the models to the training data\n",
    "knn.fit(X_train, y_train)\n",
    "svm.fit(X_train, y_train)\n",
    "```\n",
    "\n",
    "</details>\n"
   ]
  },
  {
   "cell_type": "markdown",
   "metadata": {},
   "source": [
    "### Evaluate the models\n"
   ]
  },
  {
   "cell_type": "markdown",
   "metadata": {},
   "source": [
    "#### Predict on the test set\n"
   ]
  },
  {
   "cell_type": "code",
   "execution_count": null,
   "metadata": {},
   "outputs": [],
   "source": [
    "y_pred_knn = knn.predict(X_test)\n",
    "y_pred_svm = svm.predict(X_test)"
   ]
  },
  {
   "cell_type": "markdown",
   "metadata": {},
   "source": [
    "#### Print the accuracy scores and classification reports for both models\n"
   ]
  },
  {
   "cell_type": "code",
   "execution_count": null,
   "metadata": {},
   "outputs": [],
   "source": [
    "print(f\"KNN Testing Accuracy: {accuracy_score(y_test, y_pred_knn):.3f}\")\n",
    "print(f\"SVM Testing Accuracy: {accuracy_score(y_test, y_pred_svm):.3f}\")\n",
    "\n",
    "print(\"\\nKNN Testing Data Classification Report:\")\n",
    "print(classification_report(y_test, y_pred_knn))\n",
    "\n",
    "print(\"\\nSVM Testing Data Classification Report:\")\n",
    "print(classification_report(y_test, y_pred_svm))"
   ]
  },
  {
   "cell_type": "markdown",
   "metadata": {},
   "source": [
    "#### Plot the confusion matrices\n"
   ]
  },
  {
   "cell_type": "code",
   "execution_count": null,
   "metadata": {},
   "outputs": [],
   "source": [
    "conf_matrix_knn = confusion_matrix(y_test, y_pred_knn)\n",
    "conf_matrix_svm = confusion_matrix(y_test, y_pred_svm)\n",
    "fig, axes = plt.subplots(1, 2, figsize=(12, 5))\n",
    "sns.heatmap(conf_matrix_knn, annot=True, cmap='Blues', fmt='d', ax=axes[0],\n",
    "            xticklabels=labels, yticklabels=labels)\n",
    "\n",
    "axes[0].set_title('KNN Testing Confusion Matrix')\n",
    "axes[0].set_xlabel('Predicted')\n",
    "axes[0].set_ylabel('Actual')\n",
    "\n",
    "sns.heatmap(conf_matrix_svm, annot=True, cmap='Blues', fmt='d', ax=axes[1],\n",
    "            xticklabels=labels, yticklabels=labels)\n",
    "axes[1].set_title('SVM Testing Confusion Matrix')\n",
    "axes[1].set_xlabel('Predicted')\n",
    "axes[1].set_ylabel('Actual')\n",
    "\n",
    "plt.tight_layout()\n",
    "plt.show()"
   ]
  },
  {
   "cell_type": "markdown",
   "metadata": {},
   "source": [
    "### Exercise 2. What is the worst kind of prediction error in this context?\n",
    "It would indeed be very unpleasant to be told you have cancer, when in fact you don't.\n",
    "But the consequences of being told you don't have cancer when you actually do are life threatening.\n",
    "State this worse-case scenario in terms of true/false positive/negative diagnoses, and identify their counts from the confusion matrices.\n"
   ]
  },
  {
   "cell_type": "code",
   "execution_count": null,
   "metadata": {},
   "outputs": [],
   "source": [
    "#### Please enter your descriptive answer here and change the cell type to \"Markdown\" for formatting.\n"
   ]
  },
  {
   "cell_type": "markdown",
   "metadata": {},
   "source": [
    "<details><summary>Click here for the solution</summary>\n",
    "By convention, a positive test for malignancy means a diagnosis of a mass being malignant.\n",
    "Thus, a benign prediction is a negative prediction.\n",
    "The worse-case scenario then is a false negative prediction, where the test incorrectly predicts that the mass is benign. \n",
    "\n",
    "For the KNN model, the number of false negatives is 7, while for the SVM model the count is 2.\n",
    "We can say that the SVM model has a higher prediction sensitivity than the KNN model does.\n",
    "    \n",
    "</details>\n"
   ]
  },
  {
   "cell_type": "markdown",
   "metadata": {},
   "source": [
    "### Exercise 3. What can you say to compare the overall performances of the two models?\n"
   ]
  },
  {
   "cell_type": "code",
   "execution_count": null,
   "metadata": {},
   "outputs": [],
   "source": [
    "#### Please enter your descriptive answer here and change the cell type to \"Markdown\" for formatting.\n"
   ]
  },
  {
   "cell_type": "markdown",
   "metadata": {},
   "source": [
    "<details><summary>Click here for the solution</summary>\n",
    "SVM outperformed KNN in terms of precision, recall, and F1-score for both for the individual classes and their overall averages. \n",
    "This indicates that SVM is a stronger classifier. \n",
    "Although KNN performed quite well with an accuracy of 94%, SVM has better ability to correctly classify both malignant and beinign cases, with fewer errors.\n",
    "Given that the goal would be to choose the model with better generalization and fewer false negatives, SVM is certainly the preferred classifier.\n",
    "</details>\n"
   ]
  },
  {
   "cell_type": "markdown",
   "metadata": {},
   "source": [
    "### Are we overfitting?\n",
    "Let's evaluate the results on the training data and compare them against the test data results.\n"
   ]
  },
  {
   "cell_type": "markdown",
   "metadata": {},
   "source": [
    "### Exercise 4. Obtain the prediction results using the training data.\n"
   ]
  },
  {
   "cell_type": "code",
   "execution_count": null,
   "metadata": {},
   "outputs": [],
   "source": [
    "# Enter your code here:\n",
    "y_pred_train_knn = ...\n",
    "y_pred_train_svm = ..."
   ]
  },
  {
   "cell_type": "markdown",
   "metadata": {},
   "source": [
    "<details><summary>Click here for the solution</summary>\n",
    "\n",
    "```python\n",
    "y_pred_train_knn = knn.predict(X_train)\n",
    "y_pred_train_svm = svm.predict(X_train)\n",
    "```\n",
    "\n",
    "</details>\n"
   ]
  },
  {
   "cell_type": "code",
   "execution_count": null,
   "metadata": {},
   "outputs": [],
   "source": [
    "# Evaluate the models on the training data\n",
    "print(f\"KNN Training Accuracy: {accuracy_score(y_train, y_pred_train_knn):.3f}\")\n",
    "print(f\"SVM Training Accuracy: {accuracy_score(y_train, y_pred_train_svm):.3f}\")\n",
    "\n",
    "print(\"\\nKNN Training Classification Report:\")\n",
    "print(classification_report(y_train, y_pred_train_knn))\n",
    "\n",
    "print(\"\\nSVM Training Classification Report:\")\n",
    "print(classification_report(y_train, y_pred_train_svm))"
   ]
  },
  {
   "cell_type": "markdown",
   "metadata": {},
   "source": [
    "### Exercise 5. Plot the confusion matrices for the training data\n"
   ]
  },
  {
   "cell_type": "code",
   "execution_count": null,
   "metadata": {},
   "outputs": [],
   "source": [
    "# Enter your code here\n",
    "conf_matrix_knn = confusion_matrix(y_train, ...)\n",
    "conf_matrix_svm = confusion_matrix(y_train, ...)\n",
    "\n",
    "fig, axes = plt.subplots(1, 2, figsize=(12, 5))\n",
    "sns....(..., annot=True, cmap='Blues', fmt='d', ax=axes[0],\n",
    "            xticklabels=labels, yticklabels=labels)\n",
    "\n",
    "axes[0].set_title('KNN Training Confusion Matrix')\n",
    "axes[0].set_xlabel('Predicted')\n",
    "axes[0].set_ylabel('Actual')\n",
    "\n",
    "sns.heatmap(..., annot=True, cmap='Blues', fmt='d', ax=axes[1],\n",
    "            xticklabels=labels, yticklabels=labels)\n",
    "axes[1].set_title('SVM Training Confusion Matrix')\n",
    "axes[1].set_xlabel('Predicted')\n",
    "axes[1].set_ylabel('Actual')\n",
    "\n",
    "plt.tight_layout()\n",
    "plt.show()"
   ]
  },
  {
   "cell_type": "markdown",
   "metadata": {},
   "source": [
    "<details><summary>Click here for the solution</summary>\n",
    "    \n",
    "```python\n",
    "# Plot the confusion matrices\n",
    "conf_matrix_knn = confusion_matrix(y_train, y_pred_train_knn)\n",
    "conf_matrix_svm = confusion_matrix(y_train, y_pred_train_svm)\n",
    "fig, axes = plt.subplots(1, 2, figsize=(12, 5))\n",
    "sns.heatmap(conf_matrix_knn, annot=True, cmap='Blues', fmt='d', ax=axes[0],\n",
    "            xticklabels=labels, yticklabels=labels)\n",
    "\n",
    "axes[0].set_title('KNN Training Confusion Matrix')\n",
    "axes[0].set_xlabel('Predicted')\n",
    "axes[0].set_ylabel('Actual')\n",
    "\n",
    "sns.heatmap(conf_matrix_svm, annot=True, cmap='Blues', fmt='d', ax=axes[1],\n",
    "            xticklabels=labels, yticklabels=labels)\n",
    "axes[1].set_title('SVM Training Confusion Matrix')\n",
    "axes[1].set_xlabel('Predicted')\n",
    "axes[1].set_ylabel('Actual')\n",
    "\n",
    "plt.tight_layout()\n",
    "plt.show()\n",
    "```\n",
    "</details>\n"
   ]
  },
  {
   "cell_type": "markdown",
   "metadata": {},
   "source": [
    "### Exercise 6. Comparing training and testing accuracies for both models\n",
    "What can you say about the accuracy of the two models on the training and test data sets?\n",
    "\n",
    "What do these results possibly indicate?\n"
   ]
  },
  {
   "cell_type": "code",
   "execution_count": null,
   "metadata": {},
   "outputs": [],
   "source": [
    "#### Please enter your descriptive answer here and change the cell type to \"Markdown\" for formatting.\n"
   ]
  },
  {
   "cell_type": "markdown",
   "metadata": {},
   "source": [
    "<details><summary>Click here for the solution</summary>\n",
    "\n",
    "\n",
    "Ideally the accuracy of a model would be almost the same on the training and testing data sets.\n",
    "\n",
    "It would be unusual for the accuracy to be higher on the test set and this might occur due to chance or some sort of data leakage. For example, here we have normalized all of the data rather than fitting StandardScaler to the training data and only then applying it to the train and test sets separately. We'll revisit this and other pitfalls in another lab. \n",
    "\n",
    "When the accuracy is substantially higher on the training data than on the testing data, the model is likely memorizing details in the training data that don't generalize to the unseen data - the model is overfitting to the training data.\n",
    "\n",
    "\n",
    "| Model | Phase |  Accuracy |\n",
    "| ------------  | -------- | --------- |\n",
    "| KNN  | Train  | 95.5% |\n",
    "| KNN  | Test   | 93.6% |\n",
    "| SVM  | Train  | 97.2% |\n",
    "| SVM  | Test   | 97.1% |\n",
    "\n",
    "For the SVM model, the training and testing accuracies are essentially the same at about 97%. This is ideal - the SVM model is likely not overfit.\n",
    "For the KNN model, however, the training accuracy is about 2% higher that the test accuracy, indicating there might be some overfitting.\n",
    "\n",
    "In summary, the SVM model is both more convincing and has a higher accuracy than the KNN model. \n",
    "Remember, we aren't trying to tune these models; we are just comparing their performance with a fixed set of hyperparamters.\n",
    "\n",
    "\n",
    "</details>\n"
   ]
  },
  {
   "cell_type": "markdown",
   "metadata": {},
   "source": [
    "## Summary\n",
    "Congratulations! You're ready to move on to your next lesson! \n",
    "In this lab, you learned how to implement and assess the performance of classification models using real-world data. You explored different evaluation metrics and the confusion matrix to understand how well your models performed. By working with the breast cancer data set, you created two classification models to predict whether a mass is benign or malignant. Additionally, you simulated measurement errors by adding Gaussian random noise to the features and then evaluated the impact on your model's performance.\n",
    "\n",
    "\n",
    "## Author\n",
    "\n",
    "<a href=\"https://www.linkedin.com/in/jpgrossman/\" target=\"_blank\">Jeff Grossman</a>\n",
    "\n",
    "\n",
    "### Other Contributors\n",
    "\n",
    "<a href=\"https://www.linkedin.com/in/abhishek-gagneja-23051987/\" target=\"_blank\">Abhishek Gagneja</a>\n",
    "\n",
    "<!-- ## Changelog\n",
    "\n",
    "| Date | Version | Changed by | Change Description |\n",
    "|:------------|:------|:------------------|:---------------------------------------|\n",
    "| 2024-11-05 | 1.0  | Jeff Grossman    | Create content | -->\n",
    "\n",
    "\n",
    "\n",
    "## <h3 align=\"center\"> © IBM Corporation. All rights reserved. <h3/>\n"
   ]
  }
 ],
 "metadata": {
  "kernelspec": {
   "display_name": "Python 3 (ipykernel)",
   "language": "python",
   "name": "python3"
  },
  "language_info": {
   "codemirror_mode": {
    "name": "ipython",
    "version": 3
   },
   "file_extension": ".py",
   "mimetype": "text/x-python",
   "name": "python",
   "nbconvert_exporter": "python",
   "pygments_lexer": "ipython3",
   "version": "3.11.5"
  },
  "prev_pub_hash": "99894bef5d4129388bef7155ee21312dd542cc5ef9ffca25617d69e9394356ae"
 },
 "nbformat": 4,
 "nbformat_minor": 4
}

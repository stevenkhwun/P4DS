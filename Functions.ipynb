{
 "cells": [
  {
   "cell_type": "markdown",
   "id": "0b6d4ade-ad7c-404b-8725-a07704c86b20",
   "metadata": {},
   "source": [
    "# Built-In Data Structures, Functions, and Files\n",
    "\n",
    "This notebook is based on [Chapter 3](https://wesmckinney.com/book/python-builtin) of *Python for Data Analysis (3rd ed.)* by *Wes Mckinney*."
   ]
  },
  {
   "cell_type": "markdown",
   "id": "a2b08eea-685c-4b3c-b9d9-1fd35dcd01b6",
   "metadata": {},
   "source": [
    "## Functions"
   ]
  },
  {
   "cell_type": "markdown",
   "id": "42c4d34a-3c75-489b-9fcb-7fe0bae9b51f",
   "metadata": {},
   "source": [
    "*Functions are declared with the __`def`__ keyword. A function contains a block of code with an optional use of the __`return`__ keyword:*\n",
    "\n",
    "```Python\n",
    "# Function syntax\n",
    "def my_function(x, y):\n",
    "    retrun x + y\n",
    "```"
   ]
  },
  {
   "cell_type": "code",
   "execution_count": null,
   "id": "198fe82b-4d94-4004-978a-7ba90146acc2",
   "metadata": {},
   "outputs": [],
   "source": []
  }
 ],
 "metadata": {
  "kernelspec": {
   "display_name": "Python 3 (ipykernel)",
   "language": "python",
   "name": "python3"
  },
  "language_info": {
   "codemirror_mode": {
    "name": "ipython",
    "version": 3
   },
   "file_extension": ".py",
   "mimetype": "text/x-python",
   "name": "python",
   "nbconvert_exporter": "python",
   "pygments_lexer": "ipython3",
   "version": "3.11.5"
  }
 },
 "nbformat": 4,
 "nbformat_minor": 5
}

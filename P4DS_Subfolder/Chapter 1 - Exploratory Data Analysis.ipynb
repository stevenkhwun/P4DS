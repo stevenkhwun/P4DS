{
 "cells": [
  {
   "cell_type": "markdown",
   "metadata": {},
   "source": [
    "# Practical Statistics for Data Scientists (Python)\n",
    "# Chapter 1. Exploratory Data Analysis\n",
    "> (c) 2019 Peter C. Bruce, Andrew Bruce, Peter Gedeck"
   ]
  },
  {
   "cell_type": "markdown",
   "metadata": {},
   "source": [
    "Import required Python packages."
   ]
  },
  {
   "cell_type": "code",
   "execution_count": 1,
   "metadata": {},
   "outputs": [
    {
     "name": "stdout",
     "output_type": "stream",
     "text": [
      "Requirement already satisfied: wquantiles in c:\\edb\\languagepack\\v2\\python-3.9\\lib\\site-packages (0.6)\n",
      "Requirement already satisfied: numpy>=1.18 in c:\\edb\\languagepack\\v2\\python-3.9\\lib\\site-packages (from wquantiles) (1.23.3)\n"
     ]
    },
    {
     "name": "stderr",
     "output_type": "stream",
     "text": [
      "\n",
      "[notice] A new release of pip available: 22.2.2 -> 23.3.1\n",
      "[notice] To update, run: python.exe -m pip install --upgrade pip\n"
     ]
    }
   ],
   "source": [
    "import sys\n",
    "!{sys.executable} -m pip install wquantiles"
   ]
  },
  {
   "cell_type": "code",
   "execution_count": 2,
   "metadata": {},
   "outputs": [],
   "source": [
    "# %load common.py\n",
    "from pathlib import Path\n",
    "\n",
    "\n",
    "def dataDirectory(dataDirectoryName='data'):\n",
    "    \"\"\"\n",
    "    Return the directory that contains the data.\n",
    "    \n",
    "    We assume that the data folder is locate in a parent directory of this file and named 'data'.\n",
    "    If your setup is different, you will need to change this method.\n",
    "    \"\"\"\n",
    "    dataDir = Path(__file__).resolve().parent\n",
    "    while not list(dataDir.rglob('data')):\n",
    "        dataDir = dataDir.parent\n",
    "    found = [d for d in dataDir.rglob('data') if d.is_dir()]\n",
    "    if not found:\n",
    "        raise Exception(f'Cannot find data directory with name {dataDirectoryName} along the path of your source files')\n",
    "    return found[0]\n",
    "    \n",
    "    \n",
    "    "
   ]
  },
  {
   "cell_type": "code",
   "execution_count": 3,
   "metadata": {
    "execution": {
     "iopub.execute_input": "2022-04-26T19:41:32.294296Z",
     "iopub.status.busy": "2022-04-26T19:41:32.293278Z",
     "iopub.status.idle": "2022-04-26T19:41:34.654458Z",
     "shell.execute_reply": "2022-04-26T19:41:34.653515Z"
    }
   },
   "outputs": [],
   "source": [
    "%matplotlib inline\n",
    "\n",
    "from pathlib import Path\n",
    "\n",
    "import pandas as pd\n",
    "import numpy as np\n",
    "from scipy.stats import trim_mean\n",
    "from statsmodels import robust\n",
    "import wquantiles\n",
    "\n",
    "import seaborn as sns\n",
    "import matplotlib.pylab as plt"
   ]
  },
  {
   "cell_type": "code",
   "execution_count": null,
   "metadata": {
    "execution": {
     "iopub.execute_input": "2022-04-26T19:41:34.658338Z",
     "iopub.status.busy": "2022-04-26T19:41:34.658135Z",
     "iopub.status.idle": "2022-04-26T19:41:35.666930Z",
     "shell.execute_reply": "2022-04-26T19:41:35.666004Z"
    }
   },
   "outputs": [],
   "source": [
    "try:\n",
    "    import common\n",
    "    DATA = common.dataDirectory()\n",
    "except ImportError:\n",
    "    DATA = Path().resolve() / 'data'"
   ]
  },
  {
   "cell_type": "code",
   "execution_count": null,
   "metadata": {},
   "outputs": [],
   "source": [
    "DATA"
   ]
  },
  {
   "cell_type": "markdown",
   "metadata": {},
   "source": [
    "Define paths to data sets. If you don't keep your data in the same directory as the code, adapt the path names."
   ]
  },
  {
   "cell_type": "code",
   "execution_count": null,
   "metadata": {
    "execution": {
     "iopub.execute_input": "2022-04-26T19:41:35.671310Z",
     "iopub.status.busy": "2022-04-26T19:41:35.671080Z",
     "iopub.status.idle": "2022-04-26T19:41:35.675307Z",
     "shell.execute_reply": "2022-04-26T19:41:35.674572Z"
    }
   },
   "outputs": [],
   "source": [
    "AIRLINE_STATS_CSV = DATA / 'airline_stats.csv'\n",
    "KC_TAX_CSV = DATA / 'kc_tax.csv.gz'\n",
    "LC_LOANS_CSV = DATA / 'lc_loans.csv'\n",
    "AIRPORT_DELAYS_CSV = DATA / 'dfw_airline.csv'\n",
    "SP500_DATA_CSV = DATA / 'sp500_data.csv.gz'\n",
    "SP500_SECTORS_CSV = DATA / 'sp500_sectors.csv'\n",
    "STATE_CSV = DATA / 'state.csv'"
   ]
  },
  {
   "cell_type": "code",
   "execution_count": null,
   "metadata": {},
   "outputs": [],
   "source": [
    "AIRLINE_STATS_CSV"
   ]
  },
  {
   "cell_type": "markdown",
   "metadata": {},
   "source": [
    "# Estimates of Location\n",
    "## Example: Location Estimates of Population and Murder Rates"
   ]
  },
  {
   "cell_type": "code",
   "execution_count": null,
   "metadata": {
    "execution": {
     "iopub.execute_input": "2022-04-26T19:41:35.678420Z",
     "iopub.status.busy": "2022-04-26T19:41:35.678202Z",
     "iopub.status.idle": "2022-04-26T19:41:35.691453Z",
     "shell.execute_reply": "2022-04-26T19:41:35.690552Z"
    }
   },
   "outputs": [],
   "source": [
    "# Table 1-2\n",
    "state = pd.read_csv(STATE_CSV)\n",
    "print(state.head(8))"
   ]
  },
  {
   "cell_type": "markdown",
   "metadata": {},
   "source": [
    "Compute the mean, trimmed mean, and median for Population. For `mean` and `median` we can use the _pandas_ methods of the data frame. The trimmed mean requires the `trim_mean` function in _scipy.stats_."
   ]
  },
  {
   "cell_type": "code",
   "execution_count": null,
   "metadata": {
    "execution": {
     "iopub.execute_input": "2022-04-26T19:41:35.720234Z",
     "iopub.status.busy": "2022-04-26T19:41:35.719289Z",
     "iopub.status.idle": "2022-04-26T19:41:35.728249Z",
     "shell.execute_reply": "2022-04-26T19:41:35.727173Z"
    }
   },
   "outputs": [],
   "source": [
    "state = pd.read_csv(STATE_CSV)\n",
    "print(state['Population'].mean())"
   ]
  },
  {
   "cell_type": "code",
   "execution_count": null,
   "metadata": {
    "execution": {
     "iopub.execute_input": "2022-04-26T19:41:35.731743Z",
     "iopub.status.busy": "2022-04-26T19:41:35.731507Z",
     "iopub.status.idle": "2022-04-26T19:41:35.736311Z",
     "shell.execute_reply": "2022-04-26T19:41:35.735324Z"
    }
   },
   "outputs": [],
   "source": [
    "print(trim_mean(state['Population'], 0.1))"
   ]
  },
  {
   "cell_type": "code",
   "execution_count": null,
   "metadata": {
    "execution": {
     "iopub.execute_input": "2022-04-26T19:41:35.739570Z",
     "iopub.status.busy": "2022-04-26T19:41:35.738914Z",
     "iopub.status.idle": "2022-04-26T19:41:35.743616Z",
     "shell.execute_reply": "2022-04-26T19:41:35.742791Z"
    }
   },
   "outputs": [],
   "source": [
    "print(state['Population'].median())"
   ]
  },
  {
   "cell_type": "markdown",
   "metadata": {},
   "source": [
    "Weighted mean is available with numpy. For weighted median, we can use the specialised package `wquantiles` (https://pypi.org/project/wquantiles/)."
   ]
  },
  {
   "cell_type": "code",
   "execution_count": null,
   "metadata": {
    "execution": {
     "iopub.execute_input": "2022-04-26T19:41:35.747867Z",
     "iopub.status.busy": "2022-04-26T19:41:35.746718Z",
     "iopub.status.idle": "2022-04-26T19:41:35.751766Z",
     "shell.execute_reply": "2022-04-26T19:41:35.750725Z"
    }
   },
   "outputs": [],
   "source": [
    "print(state['Murder.Rate'].mean())"
   ]
  },
  {
   "cell_type": "code",
   "execution_count": null,
   "metadata": {
    "execution": {
     "iopub.execute_input": "2022-04-26T19:41:35.754703Z",
     "iopub.status.busy": "2022-04-26T19:41:35.754436Z",
     "iopub.status.idle": "2022-04-26T19:41:35.758428Z",
     "shell.execute_reply": "2022-04-26T19:41:35.757718Z"
    }
   },
   "outputs": [],
   "source": [
    "print(np.average(state['Murder.Rate'], weights=state['Population']))"
   ]
  },
  {
   "cell_type": "code",
   "execution_count": null,
   "metadata": {
    "execution": {
     "iopub.execute_input": "2022-04-26T19:41:35.762385Z",
     "iopub.status.busy": "2022-04-26T19:41:35.761389Z",
     "iopub.status.idle": "2022-04-26T19:41:35.767182Z",
     "shell.execute_reply": "2022-04-26T19:41:35.766512Z"
    },
    "scrolled": true
   },
   "outputs": [],
   "source": [
    "print(wquantiles.median(state['Murder.Rate'], weights=state['Population']))"
   ]
  },
  {
   "cell_type": "markdown",
   "metadata": {},
   "source": [
    "# Estimates of Variability"
   ]
  },
  {
   "cell_type": "code",
   "execution_count": null,
   "metadata": {
    "execution": {
     "iopub.execute_input": "2022-04-26T19:41:35.770317Z",
     "iopub.status.busy": "2022-04-26T19:41:35.770083Z",
     "iopub.status.idle": "2022-04-26T19:41:35.776432Z",
     "shell.execute_reply": "2022-04-26T19:41:35.775632Z"
    }
   },
   "outputs": [],
   "source": [
    "# Table 1-2\n",
    "print(state.head(8))"
   ]
  },
  {
   "cell_type": "markdown",
   "metadata": {},
   "source": [
    "Standard deviation"
   ]
  },
  {
   "cell_type": "code",
   "execution_count": null,
   "metadata": {
    "execution": {
     "iopub.execute_input": "2022-04-26T19:41:35.779557Z",
     "iopub.status.busy": "2022-04-26T19:41:35.779301Z",
     "iopub.status.idle": "2022-04-26T19:41:35.784171Z",
     "shell.execute_reply": "2022-04-26T19:41:35.783323Z"
    }
   },
   "outputs": [],
   "source": [
    "print(state['Population'].std())"
   ]
  },
  {
   "cell_type": "markdown",
   "metadata": {},
   "source": [
    "Interquartile range is calculated as the difference of the 75% and 25% quantile."
   ]
  },
  {
   "cell_type": "code",
   "execution_count": null,
   "metadata": {
    "execution": {
     "iopub.execute_input": "2022-04-26T19:41:35.787566Z",
     "iopub.status.busy": "2022-04-26T19:41:35.787016Z",
     "iopub.status.idle": "2022-04-26T19:41:35.792405Z",
     "shell.execute_reply": "2022-04-26T19:41:35.791742Z"
    }
   },
   "outputs": [],
   "source": [
    "print(state['Population'].quantile(0.75) - state['Population'].quantile(0.25))"
   ]
  },
  {
   "cell_type": "markdown",
   "metadata": {},
   "source": [
    "Median absolute deviation from the median can be calculated with a method in _statsmodels_"
   ]
  },
  {
   "cell_type": "code",
   "execution_count": null,
   "metadata": {
    "execution": {
     "iopub.execute_input": "2022-04-26T19:41:35.795428Z",
     "iopub.status.busy": "2022-04-26T19:41:35.795210Z",
     "iopub.status.idle": "2022-04-26T19:41:35.801633Z",
     "shell.execute_reply": "2022-04-26T19:41:35.800953Z"
    }
   },
   "outputs": [],
   "source": [
    "print(robust.scale.mad(state['Population']))\n",
    "print(abs(state['Population'] - state['Population'].median()).median() / 0.6744897501960817)"
   ]
  },
  {
   "cell_type": "markdown",
   "metadata": {},
   "source": [
    "## Percentiles and Boxplots\n",
    "_Pandas_ has the `quantile` method for data frames."
   ]
  },
  {
   "cell_type": "code",
   "execution_count": null,
   "metadata": {
    "execution": {
     "iopub.execute_input": "2022-04-26T19:41:35.805389Z",
     "iopub.status.busy": "2022-04-26T19:41:35.804986Z",
     "iopub.status.idle": "2022-04-26T19:41:35.813654Z",
     "shell.execute_reply": "2022-04-26T19:41:35.812743Z"
    }
   },
   "outputs": [],
   "source": [
    "print(state['Murder.Rate'].quantile([0.05, 0.25, 0.5, 0.75, 0.95]))"
   ]
  },
  {
   "cell_type": "code",
   "execution_count": null,
   "metadata": {
    "execution": {
     "iopub.execute_input": "2022-04-26T19:41:35.816851Z",
     "iopub.status.busy": "2022-04-26T19:41:35.816645Z",
     "iopub.status.idle": "2022-04-26T19:41:35.825931Z",
     "shell.execute_reply": "2022-04-26T19:41:35.825018Z"
    }
   },
   "outputs": [],
   "source": [
    "# Table 1.4\n",
    "percentages = [0.05, 0.25, 0.5, 0.75, 0.95]\n",
    "df = pd.DataFrame(state['Murder.Rate'].quantile(percentages))\n",
    "df.index = [f'{p * 100}%' for p in percentages]\n",
    "print(df.transpose())"
   ]
  },
  {
   "cell_type": "markdown",
   "metadata": {},
   "source": [
    "_Pandas_ provides a number of basic exploratory plots; one of them are boxplots"
   ]
  },
  {
   "cell_type": "code",
   "execution_count": null,
   "metadata": {
    "execution": {
     "iopub.execute_input": "2022-04-26T19:41:35.829031Z",
     "iopub.status.busy": "2022-04-26T19:41:35.828825Z",
     "iopub.status.idle": "2022-04-26T19:41:36.009799Z",
     "shell.execute_reply": "2022-04-26T19:41:36.008741Z"
    }
   },
   "outputs": [],
   "source": [
    "ax = (state['Population']/1_000_000).plot.box(figsize=(3, 4))\n",
    "ax.set_ylabel('Population (millions)')\n",
    "\n",
    "plt.tight_layout()\n",
    "plt.show()"
   ]
  },
  {
   "cell_type": "markdown",
   "metadata": {},
   "source": [
    "## Frequency Table and Histograms\n",
    "The `cut` method for _pandas_ data splits the dataset into bins. There are a number of arguments for the method. The following code creates equal sized bins. The method `value_counts` returns a frequency table."
   ]
  },
  {
   "cell_type": "code",
   "execution_count": null,
   "metadata": {
    "execution": {
     "iopub.execute_input": "2022-04-26T19:41:36.013220Z",
     "iopub.status.busy": "2022-04-26T19:41:36.013014Z",
     "iopub.status.idle": "2022-04-26T19:41:36.024317Z",
     "shell.execute_reply": "2022-04-26T19:41:36.023625Z"
    }
   },
   "outputs": [],
   "source": [
    "binnedPopulation = pd.cut(state['Population'], 10)\n",
    "print(binnedPopulation.value_counts())"
   ]
  },
  {
   "cell_type": "code",
   "execution_count": null,
   "metadata": {
    "execution": {
     "iopub.execute_input": "2022-04-26T19:41:36.027414Z",
     "iopub.status.busy": "2022-04-26T19:41:36.027172Z",
     "iopub.status.idle": "2022-04-26T19:41:36.043921Z",
     "shell.execute_reply": "2022-04-26T19:41:36.043149Z"
    }
   },
   "outputs": [],
   "source": [
    "# Table 1.5\n",
    "binnedPopulation.name = 'binnedPopulation'\n",
    "df = pd.concat([state, binnedPopulation], axis=1)\n",
    "df = df.sort_values(by='Population')\n",
    "\n",
    "groups = []\n",
    "for group, subset in df.groupby(by='binnedPopulation'):\n",
    "    groups.append({\n",
    "        'BinRange': group,\n",
    "        'Count': len(subset),\n",
    "        'States': ','.join(subset.Abbreviation)\n",
    "    })\n",
    "print(pd.DataFrame(groups))"
   ]
  },
  {
   "cell_type": "markdown",
   "metadata": {},
   "source": [
    "_Pandas_ also supports histograms for exploratory data analysis."
   ]
  },
  {
   "cell_type": "code",
   "execution_count": null,
   "metadata": {
    "execution": {
     "iopub.execute_input": "2022-04-26T19:41:36.047730Z",
     "iopub.status.busy": "2022-04-26T19:41:36.047476Z",
     "iopub.status.idle": "2022-04-26T19:41:36.184054Z",
     "shell.execute_reply": "2022-04-26T19:41:36.183237Z"
    }
   },
   "outputs": [],
   "source": [
    "ax = (state['Population'] / 1_000_000).plot.hist(figsize=(4, 4))\n",
    "ax.set_xlabel('Population (millions)')\n",
    "\n",
    "plt.tight_layout()\n",
    "plt.show()"
   ]
  },
  {
   "cell_type": "markdown",
   "metadata": {},
   "source": [
    "## Density Estimates\n",
    "Density is an alternative to histograms that can provide more insight into the distribution of the data points. Use the argument `bw_method` to control the smoothness of the density curve."
   ]
  },
  {
   "cell_type": "code",
   "execution_count": null,
   "metadata": {
    "execution": {
     "iopub.execute_input": "2022-04-26T19:41:36.202105Z",
     "iopub.status.busy": "2022-04-26T19:41:36.201867Z",
     "iopub.status.idle": "2022-04-26T19:41:36.366117Z",
     "shell.execute_reply": "2022-04-26T19:41:36.365240Z"
    }
   },
   "outputs": [],
   "source": [
    "ax = state['Murder.Rate'].plot.hist(density=True, xlim=[0, 12], \n",
    "                                    bins=range(1,12), figsize=(4, 4))\n",
    "state['Murder.Rate'].plot.density(ax=ax)\n",
    "ax.set_xlabel('Murder Rate (per 100,000)')\n",
    "\n",
    "plt.tight_layout()\n",
    "plt.show()"
   ]
  },
  {
   "cell_type": "markdown",
   "metadata": {},
   "source": [
    "# Exploring Binary and Categorical Data"
   ]
  },
  {
   "cell_type": "code",
   "execution_count": null,
   "metadata": {
    "execution": {
     "iopub.execute_input": "2022-04-26T19:41:36.369880Z",
     "iopub.status.busy": "2022-04-26T19:41:36.369186Z",
     "iopub.status.idle": "2022-04-26T19:41:36.379958Z",
     "shell.execute_reply": "2022-04-26T19:41:36.379056Z"
    }
   },
   "outputs": [],
   "source": [
    "# Table 1-6\n",
    "dfw = pd.read_csv(AIRPORT_DELAYS_CSV)\n",
    "print(100 * dfw / dfw.values.sum())"
   ]
  },
  {
   "cell_type": "markdown",
   "metadata": {},
   "source": [
    "_Pandas_ also supports bar charts for displaying a single categorical variable."
   ]
  },
  {
   "cell_type": "code",
   "execution_count": null,
   "metadata": {
    "execution": {
     "iopub.execute_input": "2022-04-26T19:41:36.383643Z",
     "iopub.status.busy": "2022-04-26T19:41:36.383383Z",
     "iopub.status.idle": "2022-04-26T19:41:36.498392Z",
     "shell.execute_reply": "2022-04-26T19:41:36.497651Z"
    }
   },
   "outputs": [],
   "source": [
    "ax = dfw.transpose().plot.bar(figsize=(4, 4), legend=False)\n",
    "ax.set_xlabel('Cause of delay')\n",
    "ax.set_ylabel('Count')\n",
    "\n",
    "plt.tight_layout()\n",
    "plt.show()"
   ]
  },
  {
   "cell_type": "markdown",
   "metadata": {},
   "source": [
    "# Correlation\n",
    "First read the required datasets"
   ]
  },
  {
   "cell_type": "code",
   "execution_count": null,
   "metadata": {
    "execution": {
     "iopub.execute_input": "2022-04-26T19:41:36.501519Z",
     "iopub.status.busy": "2022-04-26T19:41:36.501289Z",
     "iopub.status.idle": "2022-04-26T19:41:37.559617Z",
     "shell.execute_reply": "2022-04-26T19:41:37.558569Z"
    }
   },
   "outputs": [],
   "source": [
    "sp500_sym = pd.read_csv(SP500_SECTORS_CSV)\n",
    "sp500_px = pd.read_csv(SP500_DATA_CSV, index_col=0)"
   ]
  },
  {
   "cell_type": "code",
   "execution_count": null,
   "metadata": {
    "execution": {
     "iopub.execute_input": "2022-04-26T19:41:37.563195Z",
     "iopub.status.busy": "2022-04-26T19:41:37.563002Z",
     "iopub.status.idle": "2022-04-26T19:41:37.573188Z",
     "shell.execute_reply": "2022-04-26T19:41:37.572360Z"
    }
   },
   "outputs": [],
   "source": [
    "# Table 1-7\n",
    "# Determine telecommunications symbols\n",
    "telecomSymbols = sp500_sym[sp500_sym['sector'] == 'telecommunications_services']['symbol']\n",
    "\n",
    "# Filter data for dates July 2012 through June 2015\n",
    "telecom = sp500_px.loc[sp500_px.index >= '2012-07-01', telecomSymbols]\n",
    "telecom.corr()\n",
    "print(telecom)"
   ]
  },
  {
   "cell_type": "markdown",
   "metadata": {},
   "source": [
    "Next we focus on funds traded on major exchanges (sector == 'etf'). "
   ]
  },
  {
   "cell_type": "code",
   "execution_count": null,
   "metadata": {
    "execution": {
     "iopub.execute_input": "2022-04-26T19:41:37.576401Z",
     "iopub.status.busy": "2022-04-26T19:41:37.576201Z",
     "iopub.status.idle": "2022-04-26T19:41:37.588251Z",
     "shell.execute_reply": "2022-04-26T19:41:37.587426Z"
    }
   },
   "outputs": [],
   "source": [
    "etfs = sp500_px.loc[sp500_px.index > '2012-07-01', \n",
    "                    sp500_sym[sp500_sym['sector'] == 'etf']['symbol']]\n",
    "print(etfs.head())"
   ]
  },
  {
   "cell_type": "markdown",
   "metadata": {},
   "source": [
    "Due to the large number of columns in this table, looking at the correlation matrix is cumbersome and it's more convenient to plot the correlation as a heatmap. The _seaborn_ package provides a convenient implementation for heatmaps."
   ]
  },
  {
   "cell_type": "code",
   "execution_count": null,
   "metadata": {
    "execution": {
     "iopub.execute_input": "2022-04-26T19:41:37.591316Z",
     "iopub.status.busy": "2022-04-26T19:41:37.591125Z",
     "iopub.status.idle": "2022-04-26T19:41:37.859238Z",
     "shell.execute_reply": "2022-04-26T19:41:37.858610Z"
    }
   },
   "outputs": [],
   "source": [
    "fig, ax = plt.subplots(figsize=(5, 4))\n",
    "ax = sns.heatmap(etfs.corr(), vmin=-1, vmax=1, \n",
    "                 cmap=sns.diverging_palette(20, 220, as_cmap=True),\n",
    "                 ax=ax)\n",
    "\n",
    "plt.tight_layout()\n",
    "plt.show()"
   ]
  },
  {
   "cell_type": "markdown",
   "metadata": {},
   "source": [
    "The above heatmap works when you have color. For the greyscale images, as used in the book, we need to visualize the direction as well. The following code shows the strength of the correlation using ellipses."
   ]
  },
  {
   "cell_type": "code",
   "execution_count": null,
   "metadata": {
    "execution": {
     "iopub.execute_input": "2022-04-26T19:41:37.862840Z",
     "iopub.status.busy": "2022-04-26T19:41:37.862681Z",
     "iopub.status.idle": "2022-04-26T19:41:38.085375Z",
     "shell.execute_reply": "2022-04-26T19:41:38.084653Z"
    }
   },
   "outputs": [],
   "source": [
    "from matplotlib.collections import EllipseCollection\n",
    "from matplotlib.colors import Normalize\n",
    "\n",
    "def plot_corr_ellipses(data, figsize=None, **kwargs):\n",
    "    ''' https://stackoverflow.com/a/34558488 '''\n",
    "    M = np.array(data)\n",
    "    if not M.ndim == 2:\n",
    "        raise ValueError('data must be a 2D array')\n",
    "    fig, ax = plt.subplots(1, 1, figsize=figsize, subplot_kw={'aspect':'equal'})\n",
    "    ax.set_xlim(-0.5, M.shape[1] - 0.5)\n",
    "    ax.set_ylim(-0.5, M.shape[0] - 0.5)\n",
    "    ax.invert_yaxis()\n",
    "\n",
    "    # xy locations of each ellipse center\n",
    "    xy = np.indices(M.shape)[::-1].reshape(2, -1).T\n",
    "\n",
    "    # set the relative sizes of the major/minor axes according to the strength of\n",
    "    # the positive/negative correlation\n",
    "    w = np.ones_like(M).ravel() + 0.01\n",
    "    h = 1 - np.abs(M).ravel() - 0.01\n",
    "    a = 45 * np.sign(M).ravel()\n",
    "\n",
    "    ec = EllipseCollection(widths=w, heights=h, angles=a, units='x', offsets=xy,\n",
    "                           norm=Normalize(vmin=-1, vmax=1),\n",
    "                           transOffset=ax.transData, array=M.ravel(), **kwargs)\n",
    "    ax.add_collection(ec)\n",
    "\n",
    "    # if data is a DataFrame, use the row/column names as tick labels\n",
    "    if isinstance(data, pd.DataFrame):\n",
    "        ax.set_xticks(np.arange(M.shape[1]))\n",
    "        ax.set_xticklabels(data.columns, rotation=90)\n",
    "        ax.set_yticks(np.arange(M.shape[0]))\n",
    "        ax.set_yticklabels(data.index)\n",
    "\n",
    "    return ec, ax\n",
    "\n",
    "m, ax = plot_corr_ellipses(etfs.corr(), figsize=(5, 4), cmap='bwr_r')\n",
    "cb = fig.colorbar(m, ax=ax)\n",
    "cb.set_label('Correlation coefficient')\n",
    "\n",
    "plt.tight_layout()\n",
    "plt.show()"
   ]
  },
  {
   "cell_type": "markdown",
   "metadata": {},
   "source": [
    "## Scatterplots\n",
    "Simple scatterplots are supported by _pandas_. Specifying the marker as `$\\u25EF$` uses an open circle for each point."
   ]
  },
  {
   "cell_type": "code",
   "execution_count": null,
   "metadata": {
    "execution": {
     "iopub.execute_input": "2022-04-26T19:41:38.088751Z",
     "iopub.status.busy": "2022-04-26T19:41:38.088496Z",
     "iopub.status.idle": "2022-04-26T19:41:38.360367Z",
     "shell.execute_reply": "2022-04-26T19:41:38.359445Z"
    },
    "scrolled": true
   },
   "outputs": [],
   "source": [
    "ax = telecom.plot.scatter(x='T', y='VZ', figsize=(4, 4), marker='$\\u25EF$')\n",
    "ax.set_xlabel('ATT (T)')\n",
    "ax.set_ylabel('Verizon (VZ)')\n",
    "ax.axhline(0, color='grey', lw=1)\n",
    "ax.axvline(0, color='grey', lw=1)\n",
    "\n",
    "plt.tight_layout()\n",
    "plt.show()"
   ]
  },
  {
   "cell_type": "code",
   "execution_count": null,
   "metadata": {
    "execution": {
     "iopub.execute_input": "2022-04-26T19:41:38.363544Z",
     "iopub.status.busy": "2022-04-26T19:41:38.363347Z",
     "iopub.status.idle": "2022-04-26T19:41:38.499518Z",
     "shell.execute_reply": "2022-04-26T19:41:38.498761Z"
    }
   },
   "outputs": [],
   "source": [
    "ax = telecom.plot.scatter(x='T', y='VZ', figsize=(4, 4), marker='$\\u25EF$', alpha=0.5)\n",
    "ax.set_xlabel('ATT (T)')\n",
    "ax.set_ylabel('Verizon (VZ)')\n",
    "ax.axhline(0, color='grey', lw=1)\n",
    "print(ax.axvline(0, color='grey', lw=1))"
   ]
  },
  {
   "cell_type": "markdown",
   "metadata": {},
   "source": [
    "# Exploring Two or More Variables\n",
    "Load the kc_tax dataset and filter based on a variety of criteria"
   ]
  },
  {
   "cell_type": "code",
   "execution_count": null,
   "metadata": {
    "execution": {
     "iopub.execute_input": "2022-04-26T19:41:38.509031Z",
     "iopub.status.busy": "2022-04-26T19:41:38.507149Z",
     "iopub.status.idle": "2022-04-26T19:41:38.722378Z",
     "shell.execute_reply": "2022-04-26T19:41:38.721537Z"
    }
   },
   "outputs": [],
   "source": [
    "kc_tax = pd.read_csv(KC_TAX_CSV)\n",
    "kc_tax0 = kc_tax.loc[(kc_tax.TaxAssessedValue < 750000) & \n",
    "                     (kc_tax.SqFtTotLiving > 100) &\n",
    "                     (kc_tax.SqFtTotLiving < 3500), :]\n",
    "print(kc_tax0.shape)"
   ]
  },
  {
   "cell_type": "markdown",
   "metadata": {},
   "source": [
    "## Hexagonal binning and Contours \n",
    "### Plotting numeric versus numeric data"
   ]
  },
  {
   "cell_type": "markdown",
   "metadata": {},
   "source": [
    "If the number of data points gets large, scatter plots will no longer be meaningful. Here methods that visualize densities are more useful. The `hexbin` method for _pandas_ data frames is one powerful approach."
   ]
  },
  {
   "cell_type": "code",
   "execution_count": null,
   "metadata": {
    "execution": {
     "iopub.execute_input": "2022-04-26T19:41:38.729374Z",
     "iopub.status.busy": "2022-04-26T19:41:38.729102Z",
     "iopub.status.idle": "2022-04-26T19:41:39.130929Z",
     "shell.execute_reply": "2022-04-26T19:41:39.129237Z"
    },
    "scrolled": true
   },
   "outputs": [],
   "source": [
    "ax = kc_tax0.plot.hexbin(x='SqFtTotLiving', y='TaxAssessedValue',\n",
    "                         gridsize=30, sharex=False, figsize=(5, 4))\n",
    "ax.set_xlabel('Finished Square Feet')\n",
    "ax.set_ylabel('Tax Assessed Value')\n",
    "\n",
    "plt.tight_layout()\n",
    "plt.show()"
   ]
  },
  {
   "cell_type": "markdown",
   "metadata": {},
   "source": [
    "The _seaborn_ kdeplot is a two-dimensional extension of the density plot. The calculation of the 2D-density for the full dataset takes several minutes. It is sufficient to create the visualization with a smaller sample of the dataset. With 10,000 data points, creating the graph takes only seconds. While some details may be lost, the overall shape is preserved. "
   ]
  },
  {
   "cell_type": "code",
   "execution_count": null,
   "metadata": {
    "execution": {
     "iopub.execute_input": "2022-04-26T19:41:39.137141Z",
     "iopub.status.busy": "2022-04-26T19:41:39.136603Z",
     "iopub.status.idle": "2022-04-26T19:41:43.526285Z",
     "shell.execute_reply": "2022-04-26T19:41:43.525736Z"
    },
    "scrolled": true
   },
   "outputs": [],
   "source": [
    "fig, ax = plt.subplots(figsize=(4, 4))\n",
    "sns.kdeplot(data=kc_tax0.sample(10000), x='SqFtTotLiving', y='TaxAssessedValue', ax=ax)\n",
    "ax.set_xlabel('Finished Square Feet')\n",
    "ax.set_ylabel('Tax Assessed Value')\n",
    "\n",
    "plt.tight_layout()\n",
    "plt.show()"
   ]
  },
  {
   "cell_type": "markdown",
   "metadata": {},
   "source": [
    "## Two Categorical Variables\n",
    "Load the `lc_loans` dataset"
   ]
  },
  {
   "cell_type": "code",
   "execution_count": null,
   "metadata": {
    "execution": {
     "iopub.execute_input": "2022-04-26T19:41:43.530303Z",
     "iopub.status.busy": "2022-04-26T19:41:43.529012Z",
     "iopub.status.idle": "2022-04-26T19:41:43.626716Z",
     "shell.execute_reply": "2022-04-26T19:41:43.626048Z"
    }
   },
   "outputs": [],
   "source": [
    "lc_loans = pd.read_csv(LC_LOANS_CSV)"
   ]
  },
  {
   "cell_type": "code",
   "execution_count": null,
   "metadata": {
    "execution": {
     "iopub.execute_input": "2022-04-26T19:41:43.630123Z",
     "iopub.status.busy": "2022-04-26T19:41:43.629381Z",
     "iopub.status.idle": "2022-04-26T19:41:43.888611Z",
     "shell.execute_reply": "2022-04-26T19:41:43.887946Z"
    }
   },
   "outputs": [],
   "source": [
    "# Table 1-8(1)\n",
    "crosstab = lc_loans.pivot_table(index='grade', columns='status', \n",
    "                                aggfunc=lambda x: len(x), margins=True)\n",
    "print(crosstab)"
   ]
  },
  {
   "cell_type": "code",
   "execution_count": null,
   "metadata": {
    "execution": {
     "iopub.execute_input": "2022-04-26T19:41:43.892014Z",
     "iopub.status.busy": "2022-04-26T19:41:43.891253Z",
     "iopub.status.idle": "2022-04-26T19:41:43.902378Z",
     "shell.execute_reply": "2022-04-26T19:41:43.901751Z"
    },
    "scrolled": true
   },
   "outputs": [],
   "source": [
    "# Table 1-8(2)\n",
    "df = crosstab.copy().loc['A':'G',:]\n",
    "df.loc[:,'Charged Off':'Late'] = df.loc[:,'Charged Off':'Late'].div(df['All'], axis=0)\n",
    "df['All'] = df['All'] / sum(df['All'])\n",
    "perc_crosstab = df\n",
    "print(perc_crosstab)"
   ]
  },
  {
   "cell_type": "markdown",
   "metadata": {},
   "source": [
    "## Categorical and Numeric Data\n",
    "_Pandas_ boxplots of a column can be grouped by a different column."
   ]
  },
  {
   "cell_type": "code",
   "execution_count": null,
   "metadata": {
    "execution": {
     "iopub.execute_input": "2022-04-26T19:41:43.907303Z",
     "iopub.status.busy": "2022-04-26T19:41:43.906520Z",
     "iopub.status.idle": "2022-04-26T19:41:44.102351Z",
     "shell.execute_reply": "2022-04-26T19:41:44.101632Z"
    }
   },
   "outputs": [],
   "source": [
    "airline_stats = pd.read_csv(AIRLINE_STATS_CSV)\n",
    "airline_stats.head()\n",
    "ax = airline_stats.boxplot(by='airline', column='pct_carrier_delay',\n",
    "                           figsize=(5, 5))\n",
    "ax.set_xlabel('')\n",
    "ax.set_ylabel('Daily % of Delayed Flights')\n",
    "plt.suptitle('')\n",
    "\n",
    "plt.tight_layout()\n",
    "plt.show()"
   ]
  },
  {
   "cell_type": "markdown",
   "metadata": {},
   "source": [
    "_Pandas_ also supports a variation of boxplots called _violinplot_. "
   ]
  },
  {
   "cell_type": "code",
   "execution_count": null,
   "metadata": {
    "execution": {
     "iopub.execute_input": "2022-04-26T19:41:44.106286Z",
     "iopub.status.busy": "2022-04-26T19:41:44.105258Z",
     "iopub.status.idle": "2022-04-26T19:41:44.289049Z",
     "shell.execute_reply": "2022-04-26T19:41:44.288573Z"
    },
    "scrolled": false
   },
   "outputs": [],
   "source": [
    "fig, ax = plt.subplots(figsize=(5, 5))\n",
    "sns.violinplot(data=airline_stats, x='airline', y='pct_carrier_delay',\n",
    "               ax=ax, inner='quartile', color='white')\n",
    "ax.set_xlabel('')\n",
    "ax.set_ylabel('Daily % of Delayed Flights')\n",
    "\n",
    "plt.tight_layout()\n",
    "plt.show()"
   ]
  },
  {
   "cell_type": "markdown",
   "metadata": {},
   "source": [
    "## Visualizing Multiple Variables"
   ]
  },
  {
   "cell_type": "code",
   "execution_count": null,
   "metadata": {
    "execution": {
     "iopub.execute_input": "2022-04-26T19:41:44.292201Z",
     "iopub.status.busy": "2022-04-26T19:41:44.291815Z",
     "iopub.status.idle": "2022-04-26T19:41:44.783055Z",
     "shell.execute_reply": "2022-04-26T19:41:44.782390Z"
    },
    "scrolled": false
   },
   "outputs": [],
   "source": [
    "zip_codes = [98188, 98105, 98108, 98126]\n",
    "kc_tax_zip = kc_tax0.loc[kc_tax0.ZipCode.isin(zip_codes),:]\n",
    "kc_tax_zip\n",
    "\n",
    "def hexbin(x, y, color, **kwargs):\n",
    "    cmap = sns.light_palette(color, as_cmap=True)\n",
    "    plt.hexbin(x, y, gridsize=25, cmap=cmap, **kwargs)\n",
    "\n",
    "g = sns.FacetGrid(kc_tax_zip, col='ZipCode', col_wrap=2)\n",
    "g.map(hexbin, 'SqFtTotLiving', 'TaxAssessedValue', \n",
    "      extent=[0, 3500, 0, 700000])\n",
    "g.set_axis_labels('Finished Square Feet', 'Tax Assessed Value')\n",
    "g.set_titles('Zip code {col_name:.0f}')\n",
    "\n",
    "plt.tight_layout()\n",
    "plt.show()"
   ]
  }
 ],
 "metadata": {
  "kernelspec": {
   "display_name": "Python 3 (ipykernel)",
   "language": "python",
   "name": "python3"
  },
  "language_info": {
   "codemirror_mode": {
    "name": "ipython",
    "version": 3
   },
   "file_extension": ".py",
   "mimetype": "text/x-python",
   "name": "python",
   "nbconvert_exporter": "python",
   "pygments_lexer": "ipython3",
   "version": "3.9.5"
  }
 },
 "nbformat": 4,
 "nbformat_minor": 2
}

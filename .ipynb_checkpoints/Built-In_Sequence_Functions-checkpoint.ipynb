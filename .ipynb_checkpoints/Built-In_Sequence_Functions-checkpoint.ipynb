{
 "cells": [
  {
   "cell_type": "markdown",
   "id": "9ec6228b-eddb-4786-84a7-778a53860f42",
   "metadata": {},
   "source": [
    "# Built-In Data Structures, Functions, and Files\n",
    "\n",
    "This notebook is based on [Chapter 3](https://wesmckinney.com/book/python-builtin) of *Python for Data Analysis (3rd ed.)* by *Wes Mckinney*."
   ]
  },
  {
   "cell_type": "markdown",
   "id": "bcec5c5c-4929-4655-997b-b7b8103fe28e",
   "metadata": {},
   "source": [
    "## Built-In Data Structures"
   ]
  },
  {
   "cell_type": "markdown",
   "id": "5cf72ca5-7c66-49fc-af2f-0809ebfb825d",
   "metadata": {},
   "source": [
    "### Built-In Sequence Functions"
   ]
  },
  {
   "cell_type": "markdown",
   "id": "e1e6f765-76bb-455f-9759-eeabc6507640",
   "metadata": {},
   "source": [
    "__`enumerate()` function__\n",
    "\n",
    "*The __`enumerate()`__ function takes a collection (e.g. a tuple) and retruns it as an enumerate object. It adds a counter as the key of the enumerate object.*"
   ]
  },
  {
   "cell_type": "code",
   "execution_count": 11,
   "id": "c952a14f-7519-49ce-ac02-c55147fe24c3",
   "metadata": {},
   "outputs": [],
   "source": [
    "# Use the enumerate() function\n",
    "x = ('apple', 'banana', 'cherry')\n",
    "y = enumerate(x)"
   ]
  },
  {
   "cell_type": "code",
   "execution_count": 12,
   "id": "c05c6d27-1dbb-439f-9790-86ce6a771168",
   "metadata": {},
   "outputs": [
    {
     "data": {
      "text/plain": [
       "<enumerate at 0x1bc9e62e9d0>"
      ]
     },
     "execution_count": 12,
     "metadata": {},
     "output_type": "execute_result"
    }
   ],
   "source": [
    "y"
   ]
  },
  {
   "cell_type": "code",
   "execution_count": 13,
   "id": "086b7fad-abf3-422f-8d8c-51e86b0e70f3",
   "metadata": {},
   "outputs": [
    {
     "name": "stdout",
     "output_type": "stream",
     "text": [
      "[(0, 'apple'), (1, 'banana'), (2, 'cherry')]\n"
     ]
    }
   ],
   "source": [
    "print(list(y))"
   ]
  },
  {
   "cell_type": "markdown",
   "id": "7c937228-c5d5-4829-9b53-b6a9191f3aac",
   "metadata": {},
   "source": [
    "*It's common when iterating over a sequence to want to keep track of the index of the current item. A do-it-yourself approach would look like:*\n",
    "\n",
    "```Python\n",
    "# do-it-yourself approach\n",
    "index = 0\n",
    "for value in collection:\n",
    "    # do something with value\n",
    "    index += 1\n",
    "```\n",
    "\n",
    "*Python has a built-in function, __`enumerate`__, which returns a sequence of __`(i, value)`__ tuples and can simply the above code.*\n",
    "\n",
    "```Python\n",
    "# Use enumerate() function\n",
    "for index, value in enumerate(collection):\n",
    "    # do something with value\n",
    "```"
   ]
  },
  {
   "cell_type": "code",
   "execution_count": 16,
   "id": "3ff97716-5908-401a-b055-6ec923fadd62",
   "metadata": {},
   "outputs": [
    {
     "name": "stdout",
     "output_type": "stream",
     "text": [
      "(0, 'Lok Lok')\n",
      "(1, 'Ka Ka')\n",
      "(2, 'Bailey')\n",
      "(3, 'Mui Mui')\n",
      "(4, 'Moji')\n"
     ]
    }
   ],
   "source": [
    "# Example\n",
    "for family in enumerate(['Lok Lok', 'Ka Ka', 'Bailey', 'Mui Mui', 'Moji']):\n",
    "    print(family)"
   ]
  },
  {
   "cell_type": "markdown",
   "id": "117954d3-d312-4066-b186-e20151375340",
   "metadata": {},
   "source": [
    "__`sorted()` function__\n",
    "\n",
    "*The __`sorted()`__ function returns a new sorted list from the elements in any sequence.*"
   ]
  },
  {
   "cell_type": "code",
   "execution_count": 17,
   "id": "8172aca2-5d73-4aa9-97d7-b8716614f0bb",
   "metadata": {},
   "outputs": [
    {
     "data": {
      "text/plain": [
       "[0, 1, 2, 2, 3, 6, 7]"
      ]
     },
     "execution_count": 17,
     "metadata": {},
     "output_type": "execute_result"
    }
   ],
   "source": [
    "# sorted() function\n",
    "sorted([7, 1, 2, 6, 0, 3, 2])"
   ]
  },
  {
   "cell_type": "code",
   "execution_count": 18,
   "id": "00c9f4ca-2d8d-41be-9a20-221d965e0226",
   "metadata": {},
   "outputs": [
    {
     "data": {
      "text/plain": [
       "[' ', 'a', 'c', 'e', 'e', 'h', 'o', 'r', 'r', 's']"
      ]
     },
     "execution_count": 18,
     "metadata": {},
     "output_type": "execute_result"
    }
   ],
   "source": [
    "# sorted() function\n",
    "sorted(\"horse race\")"
   ]
  },
  {
   "cell_type": "markdown",
   "id": "4aaf10ff-32e6-46eb-9a8f-a843a0ae3ea3",
   "metadata": {},
   "source": [
    "__`zip()` function__\n",
    "\n",
    "*__`zip()`__ \"pairs\" up the elements of a number of lists, tuples, or other sequences to create a list of tuples.*"
   ]
  },
  {
   "cell_type": "code",
   "execution_count": 3,
   "id": "88aa8428-3476-4b94-977d-fc8978faa339",
   "metadata": {},
   "outputs": [],
   "source": [
    "# Using zip() to pair up list\n",
    "seq1 = [\"foo\", \"bar\", \"baz\"]\n",
    "seq2 = [\"one\", \"two\", \"three\"]\n",
    "zipped = zip(seq1, seq2)"
   ]
  },
  {
   "cell_type": "code",
   "execution_count": 5,
   "id": "b45689f7-94d4-4d79-ab9a-83940ab21ce2",
   "metadata": {},
   "outputs": [
    {
     "data": {
      "text/plain": [
       "[('foo', 'one'), ('bar', 'two'), ('baz', 'three')]"
      ]
     },
     "execution_count": 5,
     "metadata": {},
     "output_type": "execute_result"
    }
   ],
   "source": [
    "list(zipped)"
   ]
  },
  {
   "cell_type": "markdown",
   "id": "5bf3fcc2-ebf6-49be-8367-cd1e825d4cab",
   "metadata": {},
   "source": [
    "*__`zip()`__ can take an arbitrary number of sequences, and the number of elements it produces is determined by the shortest sequence.*"
   ]
  },
  {
   "cell_type": "code",
   "execution_count": 6,
   "id": "05fc2f52-8e10-4a52-9e6e-69f08ce00a60",
   "metadata": {},
   "outputs": [
    {
     "data": {
      "text/plain": [
       "[('foo', 'one', False), ('bar', 'two', True)]"
      ]
     },
     "execution_count": 6,
     "metadata": {},
     "output_type": "execute_result"
    }
   ],
   "source": [
    "# Pairs up more than two series\n",
    "seq3 = [False, True]\n",
    "list(zip(seq1, seq2, seq3))"
   ]
  },
  {
   "cell_type": "markdown",
   "id": "e1208b40-9bf4-4fd9-b31a-fc97d14afa46",
   "metadata": {},
   "source": [
    "*A common use of __`zip()`__ is simultaneously iterating over multiple sequences, possibly also combined with __`enumerate`__.*"
   ]
  },
  {
   "cell_type": "code",
   "execution_count": 7,
   "id": "09606159-a179-4776-a774-fdf05c8d156b",
   "metadata": {},
   "outputs": [
    {
     "name": "stdout",
     "output_type": "stream",
     "text": [
      "0: foo, one\n",
      "1: bar, two\n",
      "2: baz, three\n"
     ]
    }
   ],
   "source": [
    "# Use zip() and enumerate() together\n",
    "for index, (a, b) in enumerate(zip(seq1, seq2)):\n",
    "    print(f\"{index}: {a}, {b}\")"
   ]
  },
  {
   "cell_type": "markdown",
   "id": "e2fd41fa-f809-450a-869f-b74ba366432a",
   "metadata": {},
   "source": [
    "__`reversed()` function__\n",
    "\n",
    "*__`reversed()`__ iterates over the elements of a sequence in reverse order.*"
   ]
  },
  {
   "cell_type": "code",
   "execution_count": 8,
   "id": "2d7b9750-1243-4603-86d8-adf188026c03",
   "metadata": {},
   "outputs": [
    {
     "data": {
      "text/plain": [
       "[9, 8, 7, 6, 5, 4, 3, 2, 1, 0]"
      ]
     },
     "execution_count": 8,
     "metadata": {},
     "output_type": "execute_result"
    }
   ],
   "source": [
    "# Reverse a sequence\n",
    "list(reversed(range(10)))"
   ]
  },
  {
   "cell_type": "markdown",
   "id": "9a3d6a73-e25a-48b1-a529-c14593a92fbb",
   "metadata": {},
   "source": [
    "*Keep in mind that __`reversed()`__ is a generator, so it does not create the reversed sequence until materialized (e.g., with `list` or a `for` loop).*"
   ]
  },
  {
   "cell_type": "markdown",
   "id": "24abe1fa-53f6-432b-9277-ab5d969eab5a",
   "metadata": {},
   "source": [
    "### List, Set, and Dictionary Comprehensions"
   ]
  },
  {
   "cell_type": "markdown",
   "id": "e91782f1-9965-4c51-99d9-d95e44d025b7",
   "metadata": {},
   "source": [
    "*__List comprehensions__ are a convenient and widely used Python language feature. They allow you to concisely form a new list by filtering the elements of a collection, transforming the elements passing the filter into one concise expression. They take the basic form:*\n",
    "\n",
    "```Python\n",
    "# List comprehensions basic form\n",
    "[expr for value in collection if condition]\n",
    "```\n",
    "\n",
    "*This is equivalent to the following `for` loop:\n",
    "\n",
    "```Python\n",
    "# List comprehensions using for loop\n",
    "result = []\n",
    "for value in collection:\n",
    "    if condition:\n",
    "        result.append(expr)\n",
    "```"
   ]
  },
  {
   "cell_type": "markdown",
   "id": "839c94dd-69c4-47fb-99b6-3aea9d65e9b8",
   "metadata": {},
   "source": [
    "*For example, given a list of strings, we could filter out strings with length `2` or less and convert them to uppercase.*"
   ]
  },
  {
   "cell_type": "code",
   "execution_count": 9,
   "id": "970cdffe-5ce7-4536-b613-ad44d083f99b",
   "metadata": {},
   "outputs": [
    {
     "data": {
      "text/plain": [
       "['BAT', 'CAR', 'DOVE', 'PYTHON']"
      ]
     },
     "execution_count": 9,
     "metadata": {},
     "output_type": "execute_result"
    }
   ],
   "source": [
    "# List comprehensions example\n",
    "strings = [\"a\", \"as\", \"bat\", \"car\", \"dove\", \"python\"]\n",
    "[x.upper() for x in strings if len(x) > 2]"
   ]
  },
  {
   "cell_type": "code",
   "execution_count": null,
   "id": "527c2efd-55a5-4cc8-ad57-d812271f3820",
   "metadata": {},
   "outputs": [],
   "source": []
  }
 ],
 "metadata": {
  "kernelspec": {
   "display_name": "Python 3 (ipykernel)",
   "language": "python",
   "name": "python3"
  },
  "language_info": {
   "codemirror_mode": {
    "name": "ipython",
    "version": 3
   },
   "file_extension": ".py",
   "mimetype": "text/x-python",
   "name": "python",
   "nbconvert_exporter": "python",
   "pygments_lexer": "ipython3",
   "version": "3.11.5"
  }
 },
 "nbformat": 4,
 "nbformat_minor": 5
}

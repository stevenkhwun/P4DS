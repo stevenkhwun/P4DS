{
 "cells": [
  {
   "cell_type": "markdown",
   "metadata": {
    "colab_type": "text",
    "id": "view-in-github"
   },
   "source": [
    "<a href=\"https://colab.research.google.com/github/stevenkhwun/P4DS/blob/main/Chp99.ipynb\" target=\"_parent\"><img src=\"https://colab.research.google.com/assets/colab-badge.svg\" alt=\"Open In Colab\"/></a>"
   ]
  },
  {
   "cell_type": "markdown",
   "metadata": {
    "id": "x2e2te2SnhjL"
   },
   "source": [
    "# Some built-in functions/methods"
   ]
  },
  {
   "cell_type": "markdown",
   "metadata": {
    "id": "yaIsZuP1noaB"
   },
   "source": [
    "## `any()` on a list\n",
    "\n",
    "The `any()` function returns True if any item in the list evaluates to True. Otherwise, it returns False."
   ]
  },
  {
   "cell_type": "code",
   "execution_count": 8,
   "metadata": {
    "colab": {
     "base_uri": "https://localhost:8080/"
    },
    "id": "hOkxujfmmEy4",
    "outputId": "53db8ede-0e38-4271-d89f-496c23662d37"
   },
   "outputs": [
    {
     "name": "stdout",
     "output_type": "stream",
     "text": [
      "Yes, there is True\n"
     ]
    }
   ],
   "source": [
    "# any() function\n",
    "if any([True, False, False, False]) == True:\n",
    "    print('Yes, there is True')"
   ]
  },
  {
   "cell_type": "markdown",
   "metadata": {
    "id": "RsdM5ftKoUt_"
   },
   "source": [
    "## `.pop()` method\n",
    "\n",
    "A built-in list method to remove items from a list."
   ]
  },
  {
   "cell_type": "code",
   "execution_count": 10,
   "metadata": {
    "colab": {
     "base_uri": "https://localhost:8080/"
    },
    "id": "nY03Xc_JnOrj",
    "outputId": "1c08bc20-f7ca-44da-ae9c-a360de1c09fb"
   },
   "outputs": [
    {
     "data": {
      "text/plain": [
       "[1, 3]"
      ]
     },
     "execution_count": 10,
     "metadata": {},
     "output_type": "execute_result"
    }
   ],
   "source": [
    "# .pop() method\n",
    "my_list = [1, 2, 3]\n",
    "my_list.pop(1)\n",
    "my_list"
   ]
  },
  {
   "cell_type": "markdown",
   "metadata": {
    "id": "_TAl-40AqrUs"
   },
   "source": [
    "## `map()` function\n",
    "\n",
    "It applies a function to each item in an iterable and returns the value of that function. The synax for `map()` function is `list(map(function, iterable))`."
   ]
  },
  {
   "cell_type": "code",
   "execution_count": 19,
   "metadata": {
    "colab": {
     "base_uri": "https://localhost:8080/"
    },
    "id": "QPX4_lBuo9wH",
    "outputId": "e1cb5631-970c-4486-b9c3-cdb7ae5852b4"
   },
   "outputs": [
    {
     "data": {
      "text/plain": [
       "[3.14, 12.57, 28.27]"
      ]
     },
     "execution_count": 19,
     "metadata": {},
     "output_type": "execute_result"
    }
   ],
   "source": [
    "import math\n",
    "radius = [1,2,3]\n",
    "area = list(map(lambda x: round(math.pi*(x**2), 2), radius))\n",
    "area"
   ]
  },
  {
   "cell_type": "markdown",
   "metadata": {},
   "source": [
    "# This is the end of file."
   ]
  },
  {
   "cell_type": "code",
   "execution_count": null,
   "metadata": {},
   "outputs": [],
   "source": []
  }
 ],
 "metadata": {
  "colab": {
   "authorship_tag": "ABX9TyPuGPwhCbjFl9Ns1O2cWsIq",
   "include_colab_link": true,
   "provenance": [],
   "toc_visible": true
  },
  "kernelspec": {
   "display_name": "Python 3 (ipykernel)",
   "language": "python",
   "name": "python3"
  },
  "language_info": {
   "codemirror_mode": {
    "name": "ipython",
    "version": 3
   },
   "file_extension": ".py",
   "mimetype": "text/x-python",
   "name": "python",
   "nbconvert_exporter": "python",
   "pygments_lexer": "ipython3",
   "version": "3.9.5"
  }
 },
 "nbformat": 4,
 "nbformat_minor": 4
}

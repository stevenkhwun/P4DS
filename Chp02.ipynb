{
  "nbformat": 4,
  "nbformat_minor": 0,
  "metadata": {
    "colab": {
      "provenance": [],
      "toc_visible": true,
      "authorship_tag": "ABX9TyNnKc6Cy7iTt6RrtvnP9Bnm",
      "include_colab_link": true
    },
    "kernelspec": {
      "name": "python3",
      "display_name": "Python 3"
    },
    "language_info": {
      "name": "python"
    }
  },
  "cells": [
    {
      "cell_type": "markdown",
      "metadata": {
        "id": "view-in-github",
        "colab_type": "text"
      },
      "source": [
        "<a href=\"https://colab.research.google.com/github/stevenkhwun/P4DS/blob/main/Chp02.ipynb\" target=\"_parent\"><img src=\"https://colab.research.google.com/assets/colab-badge.svg\" alt=\"Open In Colab\"/></a>"
      ]
    },
    {
      "cell_type": "markdown",
      "source": [
        "# Built-In Data Structures, Functions, and Files"
      ],
      "metadata": {
        "id": "6RfaKJkRt2ug"
      }
    },
    {
      "cell_type": "markdown",
      "source": [
        "## Data Structures and Sequences"
      ],
      "metadata": {
        "id": "Urpy_2G4t7Qg"
      }
    },
    {
      "cell_type": "markdown",
      "source": [
        "### Tuple\n",
        "\n",
        "A tuple is a fixed-length, immutable sequence of Python objects which, once assigned, cannot be changed."
      ],
      "metadata": {
        "id": "tSwrt_36c9yz"
      }
    },
    {
      "cell_type": "code",
      "source": [
        "# Create a tuple (with parentheses)\n",
        "tup1 = (4, 5, 6)\n",
        "tup1"
      ],
      "metadata": {
        "colab": {
          "base_uri": "https://localhost:8080/"
        },
        "id": "wdsf1VVbs_AM",
        "outputId": "afa06b32-143c-44ce-ec1f-a66641038d0b"
      },
      "execution_count": 28,
      "outputs": [
        {
          "output_type": "execute_result",
          "data": {
            "text/plain": [
              "(4, 5, 6)"
            ]
          },
          "metadata": {},
          "execution_count": 28
        }
      ]
    },
    {
      "cell_type": "code",
      "source": [
        "# Create a tuple (without parentheses)\n",
        "tup2 = 7, 8, 9\n",
        "tup2"
      ],
      "metadata": {
        "id": "QOqsMQH3drTB",
        "outputId": "dc2ef1aa-6f64-4884-da74-cde75ebb2d1d",
        "colab": {
          "base_uri": "https://localhost:8080/"
        }
      },
      "execution_count": 29,
      "outputs": [
        {
          "output_type": "execute_result",
          "data": {
            "text/plain": [
              "(7, 8, 9)"
            ]
          },
          "metadata": {},
          "execution_count": 29
        }
      ]
    },
    {
      "cell_type": "markdown",
      "source": [
        "#### Converting any sequence or iterator to a tuple by invoking `tuple`"
      ],
      "metadata": {
        "id": "EDq3O9-Ped41"
      }
    },
    {
      "cell_type": "code",
      "source": [
        "# Convert a list into a tuple\n",
        "tuple([4, 0, 2])"
      ],
      "metadata": {
        "id": "LUaL-nV3eVFS",
        "outputId": "f4b68f74-7012-45d9-b322-83a1602ab277",
        "colab": {
          "base_uri": "https://localhost:8080/"
        }
      },
      "execution_count": 30,
      "outputs": [
        {
          "output_type": "execute_result",
          "data": {
            "text/plain": [
              "(4, 0, 2)"
            ]
          },
          "metadata": {},
          "execution_count": 30
        }
      ]
    },
    {
      "cell_type": "code",
      "source": [
        "# Convert a string into a tuple\n",
        "tup3 = tuple('string')\n",
        "tup3"
      ],
      "metadata": {
        "id": "F68vwoZTeyd4",
        "outputId": "c865a20a-021e-4503-d92b-7adb2d05ac5d",
        "colab": {
          "base_uri": "https://localhost:8080/"
        }
      },
      "execution_count": 31,
      "outputs": [
        {
          "output_type": "execute_result",
          "data": {
            "text/plain": [
              "('s', 't', 'r', 'i', 'n', 'g')"
            ]
          },
          "metadata": {},
          "execution_count": 31
        }
      ]
    },
    {
      "cell_type": "markdown",
      "source": [
        "#### Accessing elements by `[]`"
      ],
      "metadata": {
        "id": "OlvNBtDpfOTP"
      }
    },
    {
      "cell_type": "code",
      "source": [
        "# Accessing elements of tuple\n",
        "tup3[0]"
      ],
      "metadata": {
        "id": "z6TWdZVwfULq",
        "outputId": "7d6ff861-ab75-4a60-ba03-88f52cf7580b",
        "colab": {
          "base_uri": "https://localhost:8080/",
          "height": 35
        }
      },
      "execution_count": 32,
      "outputs": [
        {
          "output_type": "execute_result",
          "data": {
            "text/plain": [
              "'s'"
            ],
            "application/vnd.google.colaboratory.intrinsic+json": {
              "type": "string"
            }
          },
          "metadata": {},
          "execution_count": 32
        }
      ]
    },
    {
      "cell_type": "markdown",
      "source": [
        "#### Complicated tuples"
      ],
      "metadata": {
        "id": "hxzlmKoEu-Ej"
      }
    },
    {
      "cell_type": "code",
      "source": [
        "# Create complicated tuples by enclosing the values in parentheses\n",
        "nested_tup = (4, 5, 6), (7, 8)\n",
        "nested_tup"
      ],
      "metadata": {
        "id": "yve0gjGfgGue",
        "outputId": "470399a8-76bf-4adb-8dd7-6443fc87e70b",
        "colab": {
          "base_uri": "https://localhost:8080/"
        }
      },
      "execution_count": 33,
      "outputs": [
        {
          "output_type": "execute_result",
          "data": {
            "text/plain": [
              "((4, 5, 6), (7, 8))"
            ]
          },
          "metadata": {},
          "execution_count": 33
        }
      ]
    },
    {
      "cell_type": "code",
      "source": [
        "# Accessing the value of a complicated tuple\n",
        "nested_tup[0]"
      ],
      "metadata": {
        "id": "X7kkY5G7gqrP",
        "outputId": "6a912937-fc12-45c6-f92c-35fa7f122e7b",
        "colab": {
          "base_uri": "https://localhost:8080/"
        }
      },
      "execution_count": 34,
      "outputs": [
        {
          "output_type": "execute_result",
          "data": {
            "text/plain": [
              "(4, 5, 6)"
            ]
          },
          "metadata": {},
          "execution_count": 34
        }
      ]
    },
    {
      "cell_type": "markdown",
      "source": [
        "#### Mutable elements in a tuple\n",
        "\n",
        "While the objects stored in a tuple may be mutable themselves, once the tuple is created it's not possible to modify which object is stored in each slot:"
      ],
      "metadata": {
        "id": "TVJ41T5D0Dk6"
      }
    },
    {
      "cell_type": "code",
      "source": [
        "# Creating a tuple with different type of objects\n",
        "tup4 = ('foo'), [1, 2], (True)\n",
        "tup4"
      ],
      "metadata": {
        "id": "oAf-rMPXhflf",
        "outputId": "80fae905-cc92-4aa1-a9fd-fcf0b62cc907",
        "colab": {
          "base_uri": "https://localhost:8080/"
        }
      },
      "execution_count": 35,
      "outputs": [
        {
          "output_type": "execute_result",
          "data": {
            "text/plain": [
              "('foo', [1, 2], True)"
            ]
          },
          "metadata": {},
          "execution_count": 35
        }
      ]
    },
    {
      "cell_type": "code",
      "source": [
        "# Another way to create the same tuple\n",
        "tup5 =  ('foo', [1, 2], True)\n",
        "tup5"
      ],
      "metadata": {
        "id": "PLTlN37Ah2p7",
        "outputId": "badabda6-827d-484d-95a3-2bc1191bac92",
        "colab": {
          "base_uri": "https://localhost:8080/"
        }
      },
      "execution_count": 36,
      "outputs": [
        {
          "output_type": "execute_result",
          "data": {
            "text/plain": [
              "('foo', [1, 2], True)"
            ]
          },
          "metadata": {},
          "execution_count": 36
        }
      ]
    },
    {
      "cell_type": "code",
      "source": [
        "# Checking equivalence of the tuples\n",
        "tup4 == tup5"
      ],
      "metadata": {
        "id": "H5tBGW1YiDkd",
        "outputId": "38bef906-fcba-4751-e260-dfd1ca77a1ec",
        "colab": {
          "base_uri": "https://localhost:8080/"
        }
      },
      "execution_count": 37,
      "outputs": [
        {
          "output_type": "execute_result",
          "data": {
            "text/plain": [
              "True"
            ]
          },
          "metadata": {},
          "execution_count": 37
        }
      ]
    },
    {
      "cell_type": "code",
      "source": [
        "# Elements in a tuple cannot be modified\n",
        "tup4[2] = False"
      ],
      "metadata": {
        "id": "flAgJlQwi_8k",
        "outputId": "ed8b4189-4bcb-4666-b6a4-98ca5b0b13ac",
        "colab": {
          "base_uri": "https://localhost:8080/",
          "height": 184
        }
      },
      "execution_count": 38,
      "outputs": [
        {
          "output_type": "error",
          "ename": "TypeError",
          "evalue": "ignored",
          "traceback": [
            "\u001b[0;31m---------------------------------------------------------------------------\u001b[0m",
            "\u001b[0;31mTypeError\u001b[0m                                 Traceback (most recent call last)",
            "\u001b[0;32m<ipython-input-38-7a93537ed3e3>\u001b[0m in \u001b[0;36m<cell line: 2>\u001b[0;34m()\u001b[0m\n\u001b[1;32m      1\u001b[0m \u001b[0;31m# Elements in a tuple cannot be modified\u001b[0m\u001b[0;34m\u001b[0m\u001b[0;34m\u001b[0m\u001b[0m\n\u001b[0;32m----> 2\u001b[0;31m \u001b[0mtup4\u001b[0m\u001b[0;34m[\u001b[0m\u001b[0;36m2\u001b[0m\u001b[0;34m]\u001b[0m \u001b[0;34m=\u001b[0m \u001b[0;32mFalse\u001b[0m\u001b[0;34m\u001b[0m\u001b[0;34m\u001b[0m\u001b[0m\n\u001b[0m",
            "\u001b[0;31mTypeError\u001b[0m: 'tuple' object does not support item assignment"
          ]
        }
      ]
    },
    {
      "cell_type": "code",
      "source": [
        "# Modifying an mutable object in a tuple\n",
        "tup4[1].append(3)\n",
        "tup4"
      ],
      "metadata": {
        "id": "QoUZiT7uju1Z",
        "outputId": "c87aa8c9-52df-41f2-fa4e-eac42bc351b4",
        "colab": {
          "base_uri": "https://localhost:8080/"
        }
      },
      "execution_count": 39,
      "outputs": [
        {
          "output_type": "execute_result",
          "data": {
            "text/plain": [
              "('foo', [1, 2, 3], True)"
            ]
          },
          "metadata": {},
          "execution_count": 39
        }
      ]
    },
    {
      "cell_type": "markdown",
      "source": [
        "#### Concatenating tuples using the `+` operator"
      ],
      "metadata": {
        "id": "90P9m8ZRk4DJ"
      }
    },
    {
      "cell_type": "code",
      "source": [
        "# Concatentating tuples\n",
        "# Note the end , is needed if a tuple contain only one 'string' element\n",
        "tup6 = (4, None, 'foo') + (6, 0)\n",
        "tup6"
      ],
      "metadata": {
        "id": "nWh2TXI4j6WT",
        "outputId": "66e477cc-26df-4101-9f7d-b41369b81883",
        "colab": {
          "base_uri": "https://localhost:8080/"
        }
      },
      "execution_count": 40,
      "outputs": [
        {
          "output_type": "execute_result",
          "data": {
            "text/plain": [
              "(4, None, 'foo', 6, 0)"
            ]
          },
          "metadata": {},
          "execution_count": 40
        }
      ]
    },
    {
      "cell_type": "code",
      "source": [
        "# Creating tuple with only one string\n",
        "# Note the end , is needed if a tuple contain only one 'string' element\n",
        "k = ('bar',)\n",
        "print(k)\n",
        "type(k)"
      ],
      "metadata": {
        "id": "c2j_Nqdvl5D5",
        "outputId": "96dceed7-6036-42df-c905-730e97f6e241",
        "colab": {
          "base_uri": "https://localhost:8080/"
        }
      },
      "execution_count": 41,
      "outputs": [
        {
          "output_type": "stream",
          "name": "stdout",
          "text": [
            "('bar',)\n"
          ]
        },
        {
          "output_type": "execute_result",
          "data": {
            "text/plain": [
              "tuple"
            ]
          },
          "metadata": {},
          "execution_count": 41
        }
      ]
    },
    {
      "cell_type": "code",
      "source": [
        "# Concatentating tuples\n",
        "tup6 + k"
      ],
      "metadata": {
        "id": "bpWasrMemgI3",
        "outputId": "e103f5f0-1d14-4ee9-f393-619b6599818a",
        "colab": {
          "base_uri": "https://localhost:8080/"
        }
      },
      "execution_count": 42,
      "outputs": [
        {
          "output_type": "execute_result",
          "data": {
            "text/plain": [
              "(4, None, 'foo', 6, 0, 'bar')"
            ]
          },
          "metadata": {},
          "execution_count": 42
        }
      ]
    },
    {
      "cell_type": "markdown",
      "source": [
        "#### Multiplying a tuple by an integer"
      ],
      "metadata": {
        "id": "Cj9KejZ90cWV"
      }
    },
    {
      "cell_type": "code",
      "source": [
        "# Multiplying a tuple\n",
        "('foo', 'bar') * 4"
      ],
      "metadata": {
        "colab": {
          "base_uri": "https://localhost:8080/"
        },
        "id": "g6Qe2cX4swor",
        "outputId": "f1136a89-7c7c-49ce-aa8c-f16f81b28ff8"
      },
      "execution_count": 43,
      "outputs": [
        {
          "output_type": "execute_result",
          "data": {
            "text/plain": [
              "('foo', 'bar', 'foo', 'bar', 'foo', 'bar', 'foo', 'bar')"
            ]
          },
          "metadata": {},
          "execution_count": 43
        }
      ]
    },
    {
      "cell_type": "markdown",
      "source": [
        "# Basic descriptive statistics\n",
        "\n",
        "The following demonstrates calculation of some common descriptive statistics, which includes mean, trimmed mean, weighted mean, weighted median, sample standard deviation, interquartile range (IQR) and median absolute deviation from the median (MAD).\n",
        "\n",
        "We import the data as a pandas dataframe as the pandas dataframe methods, that is the `.method()`, can easily provide the mean, median, sample standard deviation and quantiles.\n",
        "\n",
        "For trimmed mean, we need to use the `trim_mean` function in `scipy.stats`. For weighted mean, we use `average` function in `NumPy`. For weighted median, we use the specialized package `wquantiles`. And for MAD, we need the `robust` module in the package `statsmodels`.\n",
        "\n",
        "Firstly, we need to install the `wquantiles` package as this is not included in the base Colab environment."
      ],
      "metadata": {
        "id": "rldDQ_4l1HKT"
      }
    },
    {
      "cell_type": "code",
      "source": [
        "# Install the package \"wquantiles\"\n",
        "!pip install wquantiles"
      ],
      "metadata": {
        "colab": {
          "base_uri": "https://localhost:8080/"
        },
        "id": "MRt_YdHkxuLc",
        "outputId": "a048d05d-17af-415d-a3b7-605d2c5548fb"
      },
      "execution_count": 44,
      "outputs": [
        {
          "output_type": "stream",
          "name": "stdout",
          "text": [
            "Looking in indexes: https://pypi.org/simple, https://us-python.pkg.dev/colab-wheels/public/simple/\n",
            "Requirement already satisfied: wquantiles in /usr/local/lib/python3.9/dist-packages (0.6)\n",
            "Requirement already satisfied: numpy>=1.18 in /usr/local/lib/python3.9/dist-packages (from wquantiles) (1.22.4)\n"
          ]
        }
      ]
    },
    {
      "cell_type": "markdown",
      "source": [
        "We now import the necessary packages:"
      ],
      "metadata": {
        "id": "xb8Gah4P7eJd"
      }
    },
    {
      "cell_type": "code",
      "source": [
        "# Import necessary packages\n",
        "import pandas as pd\n",
        "import numpy as np\n",
        "import scipy.stats\n",
        "import wquantiles\n",
        "from statsmodels import robust"
      ],
      "metadata": {
        "id": "mIuWCcb21c56"
      },
      "execution_count": 45,
      "outputs": []
    },
    {
      "cell_type": "markdown",
      "source": [
        "We now load the data as a pandas dataframe:"
      ],
      "metadata": {
        "id": "Y6J-Jf1Z7lZD"
      }
    },
    {
      "cell_type": "code",
      "source": [
        "# Load the dataset as pandas dataframe\n",
        "link = \"https://raw.githubusercontent.com/stevenkhwun/P4DS/main/Data/state.csv\"\n",
        "state = pd.read_csv(link)\n",
        "state.head()"
      ],
      "metadata": {
        "colab": {
          "base_uri": "https://localhost:8080/",
          "height": 206
        },
        "id": "FneRRgoewBGS",
        "outputId": "bd4a1666-3040-4bc3-f12a-ca812b68c990"
      },
      "execution_count": 46,
      "outputs": [
        {
          "output_type": "execute_result",
          "data": {
            "text/plain": [
              "        State  Population  Murder.Rate Abbreviation\n",
              "0     Alabama     4779736          5.7           AL\n",
              "1      Alaska      710231          5.6           AK\n",
              "2     Arizona     6392017          4.7           AZ\n",
              "3    Arkansas     2915918          5.6           AR\n",
              "4  California    37253956          4.4           CA"
            ],
            "text/html": [
              "\n",
              "  <div id=\"df-37a45f7d-aa04-4ad8-ba67-15efb920274d\">\n",
              "    <div class=\"colab-df-container\">\n",
              "      <div>\n",
              "<style scoped>\n",
              "    .dataframe tbody tr th:only-of-type {\n",
              "        vertical-align: middle;\n",
              "    }\n",
              "\n",
              "    .dataframe tbody tr th {\n",
              "        vertical-align: top;\n",
              "    }\n",
              "\n",
              "    .dataframe thead th {\n",
              "        text-align: right;\n",
              "    }\n",
              "</style>\n",
              "<table border=\"1\" class=\"dataframe\">\n",
              "  <thead>\n",
              "    <tr style=\"text-align: right;\">\n",
              "      <th></th>\n",
              "      <th>State</th>\n",
              "      <th>Population</th>\n",
              "      <th>Murder.Rate</th>\n",
              "      <th>Abbreviation</th>\n",
              "    </tr>\n",
              "  </thead>\n",
              "  <tbody>\n",
              "    <tr>\n",
              "      <th>0</th>\n",
              "      <td>Alabama</td>\n",
              "      <td>4779736</td>\n",
              "      <td>5.7</td>\n",
              "      <td>AL</td>\n",
              "    </tr>\n",
              "    <tr>\n",
              "      <th>1</th>\n",
              "      <td>Alaska</td>\n",
              "      <td>710231</td>\n",
              "      <td>5.6</td>\n",
              "      <td>AK</td>\n",
              "    </tr>\n",
              "    <tr>\n",
              "      <th>2</th>\n",
              "      <td>Arizona</td>\n",
              "      <td>6392017</td>\n",
              "      <td>4.7</td>\n",
              "      <td>AZ</td>\n",
              "    </tr>\n",
              "    <tr>\n",
              "      <th>3</th>\n",
              "      <td>Arkansas</td>\n",
              "      <td>2915918</td>\n",
              "      <td>5.6</td>\n",
              "      <td>AR</td>\n",
              "    </tr>\n",
              "    <tr>\n",
              "      <th>4</th>\n",
              "      <td>California</td>\n",
              "      <td>37253956</td>\n",
              "      <td>4.4</td>\n",
              "      <td>CA</td>\n",
              "    </tr>\n",
              "  </tbody>\n",
              "</table>\n",
              "</div>\n",
              "      <button class=\"colab-df-convert\" onclick=\"convertToInteractive('df-37a45f7d-aa04-4ad8-ba67-15efb920274d')\"\n",
              "              title=\"Convert this dataframe to an interactive table.\"\n",
              "              style=\"display:none;\">\n",
              "        \n",
              "  <svg xmlns=\"http://www.w3.org/2000/svg\" height=\"24px\"viewBox=\"0 0 24 24\"\n",
              "       width=\"24px\">\n",
              "    <path d=\"M0 0h24v24H0V0z\" fill=\"none\"/>\n",
              "    <path d=\"M18.56 5.44l.94 2.06.94-2.06 2.06-.94-2.06-.94-.94-2.06-.94 2.06-2.06.94zm-11 1L8.5 8.5l.94-2.06 2.06-.94-2.06-.94L8.5 2.5l-.94 2.06-2.06.94zm10 10l.94 2.06.94-2.06 2.06-.94-2.06-.94-.94-2.06-.94 2.06-2.06.94z\"/><path d=\"M17.41 7.96l-1.37-1.37c-.4-.4-.92-.59-1.43-.59-.52 0-1.04.2-1.43.59L10.3 9.45l-7.72 7.72c-.78.78-.78 2.05 0 2.83L4 21.41c.39.39.9.59 1.41.59.51 0 1.02-.2 1.41-.59l7.78-7.78 2.81-2.81c.8-.78.8-2.07 0-2.86zM5.41 20L4 18.59l7.72-7.72 1.47 1.35L5.41 20z\"/>\n",
              "  </svg>\n",
              "      </button>\n",
              "      \n",
              "  <style>\n",
              "    .colab-df-container {\n",
              "      display:flex;\n",
              "      flex-wrap:wrap;\n",
              "      gap: 12px;\n",
              "    }\n",
              "\n",
              "    .colab-df-convert {\n",
              "      background-color: #E8F0FE;\n",
              "      border: none;\n",
              "      border-radius: 50%;\n",
              "      cursor: pointer;\n",
              "      display: none;\n",
              "      fill: #1967D2;\n",
              "      height: 32px;\n",
              "      padding: 0 0 0 0;\n",
              "      width: 32px;\n",
              "    }\n",
              "\n",
              "    .colab-df-convert:hover {\n",
              "      background-color: #E2EBFA;\n",
              "      box-shadow: 0px 1px 2px rgba(60, 64, 67, 0.3), 0px 1px 3px 1px rgba(60, 64, 67, 0.15);\n",
              "      fill: #174EA6;\n",
              "    }\n",
              "\n",
              "    [theme=dark] .colab-df-convert {\n",
              "      background-color: #3B4455;\n",
              "      fill: #D2E3FC;\n",
              "    }\n",
              "\n",
              "    [theme=dark] .colab-df-convert:hover {\n",
              "      background-color: #434B5C;\n",
              "      box-shadow: 0px 1px 3px 1px rgba(0, 0, 0, 0.15);\n",
              "      filter: drop-shadow(0px 1px 2px rgba(0, 0, 0, 0.3));\n",
              "      fill: #FFFFFF;\n",
              "    }\n",
              "  </style>\n",
              "\n",
              "      <script>\n",
              "        const buttonEl =\n",
              "          document.querySelector('#df-37a45f7d-aa04-4ad8-ba67-15efb920274d button.colab-df-convert');\n",
              "        buttonEl.style.display =\n",
              "          google.colab.kernel.accessAllowed ? 'block' : 'none';\n",
              "\n",
              "        async function convertToInteractive(key) {\n",
              "          const element = document.querySelector('#df-37a45f7d-aa04-4ad8-ba67-15efb920274d');\n",
              "          const dataTable =\n",
              "            await google.colab.kernel.invokeFunction('convertToInteractive',\n",
              "                                                     [key], {});\n",
              "          if (!dataTable) return;\n",
              "\n",
              "          const docLinkHtml = 'Like what you see? Visit the ' +\n",
              "            '<a target=\"_blank\" href=https://colab.research.google.com/notebooks/data_table.ipynb>data table notebook</a>'\n",
              "            + ' to learn more about interactive tables.';\n",
              "          element.innerHTML = '';\n",
              "          dataTable['output_type'] = 'display_data';\n",
              "          await google.colab.output.renderOutput(dataTable, element);\n",
              "          const docLink = document.createElement('div');\n",
              "          docLink.innerHTML = docLinkHtml;\n",
              "          element.appendChild(docLink);\n",
              "        }\n",
              "      </script>\n",
              "    </div>\n",
              "  </div>\n",
              "  "
            ]
          },
          "metadata": {},
          "execution_count": 46
        }
      ]
    },
    {
      "cell_type": "markdown",
      "source": [
        "## Mean"
      ],
      "metadata": {
        "id": "q--mDIyC7uch"
      }
    },
    {
      "cell_type": "code",
      "source": [
        "# Mean by pandas dataframe method\n",
        "state['Population'].mean()"
      ],
      "metadata": {
        "colab": {
          "base_uri": "https://localhost:8080/"
        },
        "id": "Ip-PyOgbwVHU",
        "outputId": "60450e3d-87ec-473c-f58e-b754e50883af"
      },
      "execution_count": 47,
      "outputs": [
        {
          "output_type": "execute_result",
          "data": {
            "text/plain": [
              "6162876.3"
            ]
          },
          "metadata": {},
          "execution_count": 47
        }
      ]
    },
    {
      "cell_type": "markdown",
      "source": [
        "## Trimmed mean"
      ],
      "metadata": {
        "id": "aVAGz4yZ76qo"
      }
    },
    {
      "cell_type": "code",
      "source": [
        "# Trimmed mean using the scipy.stats package\n",
        "scipy.stats.trim_mean(state['Population'], 0.1)"
      ],
      "metadata": {
        "colab": {
          "base_uri": "https://localhost:8080/"
        },
        "id": "Kl6H-fdNwdjs",
        "outputId": "3379c309-835e-493d-f72c-0bbcd26a0b01"
      },
      "execution_count": 48,
      "outputs": [
        {
          "output_type": "execute_result",
          "data": {
            "text/plain": [
              "4783697.125"
            ]
          },
          "metadata": {},
          "execution_count": 48
        }
      ]
    },
    {
      "cell_type": "markdown",
      "source": [
        "## Median"
      ],
      "metadata": {
        "id": "-PQDOeg68HPI"
      }
    },
    {
      "cell_type": "code",
      "source": [
        "# Median by pandas dataframe method\n",
        "state['Population'].median()"
      ],
      "metadata": {
        "id": "f8_79hYI5yLj",
        "outputId": "ac0dc5c1-aebe-424a-ccb3-facfbbeac874",
        "colab": {
          "base_uri": "https://localhost:8080/"
        }
      },
      "execution_count": 49,
      "outputs": [
        {
          "output_type": "execute_result",
          "data": {
            "text/plain": [
              "4436369.5"
            ]
          },
          "metadata": {},
          "execution_count": 49
        }
      ]
    },
    {
      "cell_type": "markdown",
      "source": [
        "## Weighted mean"
      ],
      "metadata": {
        "id": "clZ5-yBQ1pru"
      }
    },
    {
      "cell_type": "code",
      "source": [
        "# Weighted mean by average function in NumPy\n",
        "np.average(state['Murder.Rate'], weights=state['Population'])"
      ],
      "metadata": {
        "colab": {
          "base_uri": "https://localhost:8080/"
        },
        "id": "OaVev7xE2Bn7",
        "outputId": "b97f5d50-3b99-4808-b922-6520e57ecb24"
      },
      "execution_count": 50,
      "outputs": [
        {
          "output_type": "execute_result",
          "data": {
            "text/plain": [
              "4.445833981123393"
            ]
          },
          "metadata": {},
          "execution_count": 50
        }
      ]
    },
    {
      "cell_type": "markdown",
      "source": [
        "## Weighted median"
      ],
      "metadata": {
        "id": "oFQfKsQv2gvh"
      }
    },
    {
      "cell_type": "code",
      "source": [
        "# Weighted median by median function in wquantiles\n",
        "wquantiles.median(state['Murder.Rate'], weights=state['Population'])"
      ],
      "metadata": {
        "colab": {
          "base_uri": "https://localhost:8080/"
        },
        "id": "3mvhuMrgwNXO",
        "outputId": "b6adc4d0-4594-479d-d4e8-8db2f969e8a2"
      },
      "execution_count": 51,
      "outputs": [
        {
          "output_type": "execute_result",
          "data": {
            "text/plain": [
              "4.4"
            ]
          },
          "metadata": {},
          "execution_count": 51
        }
      ]
    },
    {
      "cell_type": "markdown",
      "source": [
        "## Standard deviation\n",
        "\n",
        "Note that the result is a sample standard deviation."
      ],
      "metadata": {
        "id": "1uM5ZGr49RQ3"
      }
    },
    {
      "cell_type": "code",
      "source": [
        "# Sample standard deviation by pandas datafram method\n",
        "state['Population'].std()"
      ],
      "metadata": {
        "id": "O2LaZcewzM-5",
        "outputId": "dd8f454c-81b8-4fd5-c35f-5d8b21a2c407",
        "colab": {
          "base_uri": "https://localhost:8080/"
        }
      },
      "execution_count": 52,
      "outputs": [
        {
          "output_type": "execute_result",
          "data": {
            "text/plain": [
              "6848235.347401142"
            ]
          },
          "metadata": {},
          "execution_count": 52
        }
      ]
    },
    {
      "cell_type": "code",
      "source": [
        "data = [2, 9, 12, 19, 86]\n",
        "datadf = pd.DataFrame (data)\n",
        "datadf.std()"
      ],
      "metadata": {
        "id": "z7GfWNblz1k7",
        "outputId": "ee5171b2-06f1-4fa7-ad64-bdf198638a3d",
        "colab": {
          "base_uri": "https://localhost:8080/"
        }
      },
      "execution_count": 53,
      "outputs": [
        {
          "output_type": "execute_result",
          "data": {
            "text/plain": [
              "0    34.311806\n",
              "dtype: float64"
            ]
          },
          "metadata": {},
          "execution_count": 53
        }
      ]
    },
    {
      "cell_type": "markdown",
      "source": [
        "## Interquartile range (IQR)"
      ],
      "metadata": {
        "id": "EToN9aaZ9iHv"
      }
    },
    {
      "cell_type": "code",
      "source": [
        "# Interquartile range (IQR) by pandas dataframe method\n",
        "state['Population'].quantile(0.75) - state['Population'].quantile(0.25)"
      ],
      "metadata": {
        "id": "8HtZOdFH1xE3",
        "outputId": "aa71f735-c863-4f2a-afb3-9631bafbc1f2",
        "colab": {
          "base_uri": "https://localhost:8080/"
        }
      },
      "execution_count": 54,
      "outputs": [
        {
          "output_type": "execute_result",
          "data": {
            "text/plain": [
              "4847308.0"
            ]
          },
          "metadata": {},
          "execution_count": 54
        }
      ]
    },
    {
      "cell_type": "markdown",
      "source": [
        "## Absolute deviation from the median (MAD)"
      ],
      "metadata": {
        "id": "Z0FMzPFw9zzC"
      }
    },
    {
      "cell_type": "code",
      "source": [
        "# MAD by robust function in statsmodels package\n",
        "robust.mad(state['Population'])"
      ],
      "metadata": {
        "id": "ICHAMfgS2GF9",
        "outputId": "bd0b5a80-fabb-4241-8478-d201ffb21fbf",
        "colab": {
          "base_uri": "https://localhost:8080/"
        }
      },
      "execution_count": 55,
      "outputs": [
        {
          "output_type": "execute_result",
          "data": {
            "text/plain": [
              "3849876.1459979336"
            ]
          },
          "metadata": {},
          "execution_count": 55
        }
      ]
    }
  ]
}
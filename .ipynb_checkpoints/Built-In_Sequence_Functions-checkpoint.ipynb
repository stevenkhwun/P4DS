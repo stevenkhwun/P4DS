{
 "cells": [
  {
   "cell_type": "markdown",
   "id": "9ec6228b-eddb-4786-84a7-778a53860f42",
   "metadata": {},
   "source": [
    "# Built-In Data Structures, Functions, and Files\n",
    "\n",
    "This notebook is based on [Chapter 3](https://wesmckinney.com/book/python-builtin) of *Python for Data Analysis (3rd ed.)* by *Wes Mckinney*."
   ]
  },
  {
   "cell_type": "markdown",
   "id": "bcec5c5c-4929-4655-997b-b7b8103fe28e",
   "metadata": {},
   "source": [
    "## Built-In Sequence Functions"
   ]
  },
  {
   "cell_type": "markdown",
   "id": "e1e6f765-76bb-455f-9759-eeabc6507640",
   "metadata": {},
   "source": [
    "__`enumerate()` function__\n",
    "\n",
    "*The __`enumerate()`__ function takes a collection (e.g. a tuple) and retruns it as an enumerate object. It adds a counter as the key of the enumerate object.*"
   ]
  },
  {
   "cell_type": "code",
   "execution_count": 11,
   "id": "c952a14f-7519-49ce-ac02-c55147fe24c3",
   "metadata": {},
   "outputs": [],
   "source": [
    "# Use the enumerate() function\n",
    "x = ('apple', 'banana', 'cherry')\n",
    "y = enumerate(x)"
   ]
  },
  {
   "cell_type": "code",
   "execution_count": 12,
   "id": "c05c6d27-1dbb-439f-9790-86ce6a771168",
   "metadata": {},
   "outputs": [
    {
     "data": {
      "text/plain": [
       "<enumerate at 0x1bc9e62e9d0>"
      ]
     },
     "execution_count": 12,
     "metadata": {},
     "output_type": "execute_result"
    }
   ],
   "source": [
    "y"
   ]
  },
  {
   "cell_type": "code",
   "execution_count": 13,
   "id": "086b7fad-abf3-422f-8d8c-51e86b0e70f3",
   "metadata": {},
   "outputs": [
    {
     "name": "stdout",
     "output_type": "stream",
     "text": [
      "[(0, 'apple'), (1, 'banana'), (2, 'cherry')]\n"
     ]
    }
   ],
   "source": [
    "print(list(y))"
   ]
  },
  {
   "cell_type": "markdown",
   "id": "7c937228-c5d5-4829-9b53-b6a9191f3aac",
   "metadata": {},
   "source": [
    "*It's common when iterating over a sequence to want to keep track of the index of the current item. A do-it-yourself approach would look like:*\n",
    "\n",
    "```Python\n",
    "# do-it-yourself approach\n",
    "index = 0\n",
    "for value in collection:\n",
    "    # do something with value\n",
    "    index += 1\n",
    "```\n",
    "\n",
    "*Python has a built-in function, __`enumerate`__, which returns a sequence of __`(i, value)`__ tuples and can simply the above code.*\n",
    "\n",
    "```Python\n",
    "# Use enumerate() function\n",
    "for index, value in enumerate(collection):\n",
    "    # do something with value\n",
    "```"
   ]
  },
  {
   "cell_type": "code",
   "execution_count": 16,
   "id": "3ff97716-5908-401a-b055-6ec923fadd62",
   "metadata": {},
   "outputs": [
    {
     "name": "stdout",
     "output_type": "stream",
     "text": [
      "(0, 'Lok Lok')\n",
      "(1, 'Ka Ka')\n",
      "(2, 'Bailey')\n",
      "(3, 'Mui Mui')\n",
      "(4, 'Moji')\n"
     ]
    }
   ],
   "source": [
    "# Example\n",
    "for family in enumerate(['Lok Lok', 'Ka Ka', 'Bailey', 'Mui Mui', 'Moji']):\n",
    "    print(family)"
   ]
  },
  {
   "cell_type": "markdown",
   "id": "117954d3-d312-4066-b186-e20151375340",
   "metadata": {},
   "source": [
    "__`sorted()` function__\n",
    "\n",
    "*The __`sorted()`__ function returns a new sorted list from the elements in any sequence.*"
   ]
  },
  {
   "cell_type": "code",
   "execution_count": 17,
   "id": "8172aca2-5d73-4aa9-97d7-b8716614f0bb",
   "metadata": {},
   "outputs": [
    {
     "data": {
      "text/plain": [
       "[0, 1, 2, 2, 3, 6, 7]"
      ]
     },
     "execution_count": 17,
     "metadata": {},
     "output_type": "execute_result"
    }
   ],
   "source": [
    "# sorted() function\n",
    "sorted([7, 1, 2, 6, 0, 3, 2])"
   ]
  },
  {
   "cell_type": "code",
   "execution_count": 18,
   "id": "00c9f4ca-2d8d-41be-9a20-221d965e0226",
   "metadata": {},
   "outputs": [
    {
     "data": {
      "text/plain": [
       "[' ', 'a', 'c', 'e', 'e', 'h', 'o', 'r', 'r', 's']"
      ]
     },
     "execution_count": 18,
     "metadata": {},
     "output_type": "execute_result"
    }
   ],
   "source": [
    "# sorted() function\n",
    "sorted(\"horse race\")"
   ]
  },
  {
   "cell_type": "code",
   "execution_count": null,
   "id": "0d5053b2-0a6b-4dd9-b6e6-761a9c130710",
   "metadata": {},
   "outputs": [],
   "source": []
  }
 ],
 "metadata": {
  "kernelspec": {
   "display_name": "Python 3 (ipykernel)",
   "language": "python",
   "name": "python3"
  },
  "language_info": {
   "codemirror_mode": {
    "name": "ipython",
    "version": 3
   },
   "file_extension": ".py",
   "mimetype": "text/x-python",
   "name": "python",
   "nbconvert_exporter": "python",
   "pygments_lexer": "ipython3",
   "version": "3.11.5"
  }
 },
 "nbformat": 4,
 "nbformat_minor": 5
}

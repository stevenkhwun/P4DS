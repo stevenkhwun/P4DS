{
 "cells": [
  {
   "cell_type": "markdown",
   "metadata": {
    "colab_type": "text",
    "id": "view-in-github"
   },
   "source": [
    "<a href=\"https://colab.research.google.com/github/stevenkhwun/P4DS/blob/main/Chp02.ipynb\" target=\"_parent\"><img src=\"https://colab.research.google.com/assets/colab-badge.svg\" alt=\"Open In Colab\"/></a>"
   ]
  },
  {
   "cell_type": "markdown",
   "metadata": {
    "id": "6RfaKJkRt2ug"
   },
   "source": [
    "# Built-In Data Structures, Functions, and Files\n",
    "\n",
    "This notebook is based on [Chapter 3](https://wesmckinney.com/book/python-builtin) of Python for Data Analysis (3rd ed.) by Wes Mckinney."
   ]
  },
  {
   "cell_type": "markdown",
   "metadata": {
    "id": "Urpy_2G4t7Qg"
   },
   "source": [
    "## Data Structures and Sequences"
   ]
  },
  {
   "cell_type": "markdown",
   "metadata": {
    "id": "tSwrt_36c9yz"
   },
   "source": [
    "### Tuple\n",
    "\n",
    "A tuple is a **fixed-length**, **immutable** sequence of Python objects which, once assigned, cannot be changed."
   ]
  },
  {
   "cell_type": "markdown",
   "metadata": {},
   "source": [
    "**Creating a tuple**"
   ]
  },
  {
   "cell_type": "code",
   "execution_count": 2,
   "metadata": {
    "colab": {
     "base_uri": "https://localhost:8080/"
    },
    "id": "wdsf1VVbs_AM",
    "outputId": "afa06b32-143c-44ce-ec1f-a66641038d0b"
   },
   "outputs": [],
   "source": [
    "# Create a tuple (with parentheses)\n",
    "tup1 = (4, 5, 6)"
   ]
  },
  {
   "cell_type": "code",
   "execution_count": 3,
   "metadata": {},
   "outputs": [
    {
     "data": {
      "text/plain": [
       "(4, 5, 6)"
      ]
     },
     "execution_count": 3,
     "metadata": {},
     "output_type": "execute_result"
    }
   ],
   "source": [
    "tup1"
   ]
  },
  {
   "cell_type": "code",
   "execution_count": 4,
   "metadata": {
    "colab": {
     "base_uri": "https://localhost:8080/"
    },
    "id": "QOqsMQH3drTB",
    "outputId": "dc2ef1aa-6f64-4884-da74-cde75ebb2d1d"
   },
   "outputs": [],
   "source": [
    "# Create a tuple (without parentheses)\n",
    "tup2 = 7, 8, 9"
   ]
  },
  {
   "cell_type": "code",
   "execution_count": 5,
   "metadata": {},
   "outputs": [
    {
     "data": {
      "text/plain": [
       "(7, 8, 9)"
      ]
     },
     "execution_count": 5,
     "metadata": {},
     "output_type": "execute_result"
    }
   ],
   "source": [
    "tup2"
   ]
  },
  {
   "cell_type": "markdown",
   "metadata": {
    "id": "EDq3O9-Ped41"
   },
   "source": [
    "**Converting any sequence or iterator to a tuple by invoking `tuple`**"
   ]
  },
  {
   "cell_type": "code",
   "execution_count": 6,
   "metadata": {
    "colab": {
     "base_uri": "https://localhost:8080/"
    },
    "id": "LUaL-nV3eVFS",
    "outputId": "f4b68f74-7012-45d9-b322-83a1602ab277"
   },
   "outputs": [
    {
     "data": {
      "text/plain": [
       "(4, 0, 2)"
      ]
     },
     "execution_count": 6,
     "metadata": {},
     "output_type": "execute_result"
    }
   ],
   "source": [
    "# Convert a list into a tuple\n",
    "tuple([4, 0, 2])"
   ]
  },
  {
   "cell_type": "code",
   "execution_count": 8,
   "metadata": {
    "colab": {
     "base_uri": "https://localhost:8080/"
    },
    "id": "F68vwoZTeyd4",
    "outputId": "c865a20a-021e-4503-d92b-7adb2d05ac5d"
   },
   "outputs": [],
   "source": [
    "# Convert a string into a tuple\n",
    "tup3 = tuple('string')"
   ]
  },
  {
   "cell_type": "code",
   "execution_count": 9,
   "metadata": {},
   "outputs": [
    {
     "data": {
      "text/plain": [
       "('s', 't', 'r', 'i', 'n', 'g')"
      ]
     },
     "execution_count": 9,
     "metadata": {},
     "output_type": "execute_result"
    }
   ],
   "source": [
    "tup3"
   ]
  },
  {
   "cell_type": "markdown",
   "metadata": {
    "id": "OlvNBtDpfOTP"
   },
   "source": [
    "**Accessing elements by `[]`**\n",
    "\n",
    "Sequences are 0-indexed in Python."
   ]
  },
  {
   "cell_type": "code",
   "execution_count": 10,
   "metadata": {
    "colab": {
     "base_uri": "https://localhost:8080/",
     "height": 35
    },
    "id": "z6TWdZVwfULq",
    "outputId": "7d6ff861-ab75-4a60-ba03-88f52cf7580b"
   },
   "outputs": [
    {
     "data": {
      "text/plain": [
       "'s'"
      ]
     },
     "execution_count": 10,
     "metadata": {},
     "output_type": "execute_result"
    }
   ],
   "source": [
    "# Accessing elements of tuple\n",
    "tup3[0]"
   ]
  },
  {
   "cell_type": "markdown",
   "metadata": {
    "id": "hxzlmKoEu-Ej"
   },
   "source": [
    "**Complicated tuples**\n",
    "\n",
    "When defining tuples within more complicated expressions, it's often necessary to enclose the values in parentheses."
   ]
  },
  {
   "cell_type": "code",
   "execution_count": 11,
   "metadata": {
    "colab": {
     "base_uri": "https://localhost:8080/"
    },
    "id": "yve0gjGfgGue",
    "outputId": "470399a8-76bf-4adb-8dd7-6443fc87e70b"
   },
   "outputs": [],
   "source": [
    "# Create a tuple of tuples\n",
    "nested_tup = (4, 5, 6), (7, 8)"
   ]
  },
  {
   "cell_type": "code",
   "execution_count": 12,
   "metadata": {},
   "outputs": [
    {
     "data": {
      "text/plain": [
       "((4, 5, 6), (7, 8))"
      ]
     },
     "execution_count": 12,
     "metadata": {},
     "output_type": "execute_result"
    }
   ],
   "source": [
    "nested_tup"
   ]
  },
  {
   "cell_type": "code",
   "execution_count": 13,
   "metadata": {},
   "outputs": [
    {
     "data": {
      "text/plain": [
       "(4, 5, 6)"
      ]
     },
     "execution_count": 13,
     "metadata": {},
     "output_type": "execute_result"
    }
   ],
   "source": [
    "nested_tup[0]"
   ]
  },
  {
   "cell_type": "code",
   "execution_count": 14,
   "metadata": {
    "colab": {
     "base_uri": "https://localhost:8080/"
    },
    "id": "X7kkY5G7gqrP",
    "outputId": "6a912937-fc12-45c6-f92c-35fa7f122e7b"
   },
   "outputs": [
    {
     "data": {
      "text/plain": [
       "(7, 8)"
      ]
     },
     "execution_count": 14,
     "metadata": {},
     "output_type": "execute_result"
    }
   ],
   "source": [
    "nested_tup[1]"
   ]
  },
  {
   "cell_type": "markdown",
   "metadata": {
    "id": "TVJ41T5D0Dk6"
   },
   "source": [
    "**Mutable elements in a tuple**\n",
    "\n",
    "While the objects stored in a tuple may be mutable themselves, once the tuple is created it's not possible to modify which object is stored in each slot:"
   ]
  },
  {
   "cell_type": "code",
   "execution_count": 15,
   "metadata": {
    "colab": {
     "base_uri": "https://localhost:8080/"
    },
    "id": "oAf-rMPXhflf",
    "outputId": "80fae905-cc92-4aa1-a9fd-fcf0b62cc907"
   },
   "outputs": [],
   "source": [
    "# Creating a tuple with different type of objects\n",
    "tup4 = ('foo'), [1, 2], (True)"
   ]
  },
  {
   "cell_type": "code",
   "execution_count": 16,
   "metadata": {},
   "outputs": [
    {
     "data": {
      "text/plain": [
       "('foo', [1, 2], True)"
      ]
     },
     "execution_count": 16,
     "metadata": {},
     "output_type": "execute_result"
    }
   ],
   "source": [
    "tup4"
   ]
  },
  {
   "cell_type": "code",
   "execution_count": 17,
   "metadata": {
    "colab": {
     "base_uri": "https://localhost:8080/"
    },
    "id": "PLTlN37Ah2p7",
    "outputId": "badabda6-827d-484d-95a3-2bc1191bac92"
   },
   "outputs": [],
   "source": [
    "# Another way to create the same tuple\n",
    "tup5 =  ('foo', [1, 2], True)"
   ]
  },
  {
   "cell_type": "code",
   "execution_count": 18,
   "metadata": {},
   "outputs": [
    {
     "data": {
      "text/plain": [
       "('foo', [1, 2], True)"
      ]
     },
     "execution_count": 18,
     "metadata": {},
     "output_type": "execute_result"
    }
   ],
   "source": [
    "tup5"
   ]
  },
  {
   "cell_type": "code",
   "execution_count": 19,
   "metadata": {
    "colab": {
     "base_uri": "https://localhost:8080/"
    },
    "id": "H5tBGW1YiDkd",
    "outputId": "38bef906-fcba-4751-e260-dfd1ca77a1ec"
   },
   "outputs": [
    {
     "data": {
      "text/plain": [
       "True"
      ]
     },
     "execution_count": 19,
     "metadata": {},
     "output_type": "execute_result"
    }
   ],
   "source": [
    "# Checking equivalence of the tuples\n",
    "tup4 == tup5"
   ]
  },
  {
   "cell_type": "markdown",
   "metadata": {},
   "source": [
    "*Elements in a tuple cannot be modified*"
   ]
  },
  {
   "cell_type": "code",
   "execution_count": 21,
   "metadata": {
    "colab": {
     "base_uri": "https://localhost:8080/",
     "height": 184
    },
    "id": "flAgJlQwi_8k",
    "outputId": "ed8b4189-4bcb-4666-b6a4-98ca5b0b13ac"
   },
   "outputs": [
    {
     "ename": "TypeError",
     "evalue": "'tuple' object does not support item assignment",
     "output_type": "error",
     "traceback": [
      "\u001b[1;31m---------------------------------------------------------------------------\u001b[0m",
      "\u001b[1;31mTypeError\u001b[0m                                 Traceback (most recent call last)",
      "Cell \u001b[1;32mIn[21], line 2\u001b[0m\n\u001b[0;32m      1\u001b[0m \u001b[38;5;66;03m# Elements in a tuple cannot be modified\u001b[39;00m\n\u001b[1;32m----> 2\u001b[0m \u001b[43mtup4\u001b[49m\u001b[43m[\u001b[49m\u001b[38;5;241;43m2\u001b[39;49m\u001b[43m]\u001b[49m \u001b[38;5;241m=\u001b[39m \u001b[38;5;28;01mFalse\u001b[39;00m\n",
      "\u001b[1;31mTypeError\u001b[0m: 'tuple' object does not support item assignment"
     ]
    }
   ],
   "source": [
    "# Elements in a tuple cannot be modified\n",
    "tup4[2] = False"
   ]
  },
  {
   "cell_type": "markdown",
   "metadata": {},
   "source": [
    "*If an object inside a tuple is mutable, such as a list, you can modify it in place.*"
   ]
  },
  {
   "cell_type": "code",
   "execution_count": 23,
   "metadata": {
    "colab": {
     "base_uri": "https://localhost:8080/"
    },
    "id": "QoUZiT7uju1Z",
    "outputId": "c87aa8c9-52df-41f2-fa4e-eac42bc351b4"
   },
   "outputs": [],
   "source": [
    "# Modifying an mutable object in a tuple\n",
    "tup4[1].append(3)"
   ]
  },
  {
   "cell_type": "code",
   "execution_count": 24,
   "metadata": {},
   "outputs": [
    {
     "data": {
      "text/plain": [
       "('foo', [1, 2, 3, 3], True)"
      ]
     },
     "execution_count": 24,
     "metadata": {},
     "output_type": "execute_result"
    }
   ],
   "source": [
    "tup4"
   ]
  },
  {
   "cell_type": "markdown",
   "metadata": {
    "id": "90P9m8ZRk4DJ"
   },
   "source": [
    "**Concatenating tuples using the `+` operator**"
   ]
  },
  {
   "cell_type": "code",
   "execution_count": 25,
   "metadata": {},
   "outputs": [
    {
     "data": {
      "text/plain": [
       "(4, 5, 6, 7, 8, 9)"
      ]
     },
     "execution_count": 25,
     "metadata": {},
     "output_type": "execute_result"
    }
   ],
   "source": [
    "# Concatentating tuples\n",
    "tup1 + tup2"
   ]
  },
  {
   "cell_type": "code",
   "execution_count": 27,
   "metadata": {
    "colab": {
     "base_uri": "https://localhost:8080/"
    },
    "id": "nWh2TXI4j6WT",
    "outputId": "66e477cc-26df-4101-9f7d-b41369b81883"
   },
   "outputs": [],
   "source": [
    "# Concatentating tuples\n",
    "tup6 = (4, None, 'foo') + (6, 0)"
   ]
  },
  {
   "cell_type": "code",
   "execution_count": 28,
   "metadata": {},
   "outputs": [
    {
     "data": {
      "text/plain": [
       "(4, None, 'foo', 6, 0)"
      ]
     },
     "execution_count": 28,
     "metadata": {},
     "output_type": "execute_result"
    }
   ],
   "source": [
    "tup6"
   ]
  },
  {
   "cell_type": "markdown",
   "metadata": {},
   "source": [
    "*Note that the end `,` is needed if a tuple contain only one 'string' element*"
   ]
  },
  {
   "cell_type": "code",
   "execution_count": 32,
   "metadata": {
    "colab": {
     "base_uri": "https://localhost:8080/"
    },
    "id": "c2j_Nqdvl5D5",
    "outputId": "96dceed7-6036-42df-c905-730e97f6e241"
   },
   "outputs": [],
   "source": [
    "# Creating tuple with only one string\n",
    "# Note the end , is needed if a tuple contain only one 'string' element\n",
    "k = ('bar',)"
   ]
  },
  {
   "cell_type": "code",
   "execution_count": 33,
   "metadata": {},
   "outputs": [
    {
     "data": {
      "text/plain": [
       "('bar',)"
      ]
     },
     "execution_count": 33,
     "metadata": {},
     "output_type": "execute_result"
    }
   ],
   "source": [
    "k"
   ]
  },
  {
   "cell_type": "code",
   "execution_count": 34,
   "metadata": {},
   "outputs": [
    {
     "data": {
      "text/plain": [
       "tuple"
      ]
     },
     "execution_count": 34,
     "metadata": {},
     "output_type": "execute_result"
    }
   ],
   "source": [
    "type(k)"
   ]
  },
  {
   "cell_type": "code",
   "execution_count": 35,
   "metadata": {},
   "outputs": [
    {
     "data": {
      "text/plain": [
       "'bar'"
      ]
     },
     "execution_count": 35,
     "metadata": {},
     "output_type": "execute_result"
    }
   ],
   "source": [
    "k[0]"
   ]
  },
  {
   "cell_type": "markdown",
   "metadata": {},
   "source": [
    "*If there is no end `,`, only a string will be created.*"
   ]
  },
  {
   "cell_type": "code",
   "execution_count": 36,
   "metadata": {},
   "outputs": [],
   "source": [
    "# Without the end ',', only a string will be created\n",
    "s = ('bar')"
   ]
  },
  {
   "cell_type": "code",
   "execution_count": 37,
   "metadata": {
    "colab": {
     "base_uri": "https://localhost:8080/"
    },
    "id": "bpWasrMemgI3",
    "outputId": "e103f5f0-1d14-4ee9-f393-619b6599818a"
   },
   "outputs": [
    {
     "data": {
      "text/plain": [
       "'bar'"
      ]
     },
     "execution_count": 37,
     "metadata": {},
     "output_type": "execute_result"
    }
   ],
   "source": [
    "s"
   ]
  },
  {
   "cell_type": "code",
   "execution_count": 38,
   "metadata": {},
   "outputs": [
    {
     "data": {
      "text/plain": [
       "str"
      ]
     },
     "execution_count": 38,
     "metadata": {},
     "output_type": "execute_result"
    }
   ],
   "source": [
    "type(s)"
   ]
  },
  {
   "cell_type": "code",
   "execution_count": 39,
   "metadata": {},
   "outputs": [
    {
     "data": {
      "text/plain": [
       "'b'"
      ]
     },
     "execution_count": 39,
     "metadata": {},
     "output_type": "execute_result"
    }
   ],
   "source": [
    "s[0]"
   ]
  },
  {
   "cell_type": "markdown",
   "metadata": {
    "id": "Cj9KejZ90cWV"
   },
   "source": [
    "**Multiplying a tuple by an integer**"
   ]
  },
  {
   "cell_type": "code",
   "execution_count": 40,
   "metadata": {
    "colab": {
     "base_uri": "https://localhost:8080/"
    },
    "id": "g6Qe2cX4swor",
    "outputId": "f1136a89-7c7c-49ce-aa8c-f16f81b28ff8"
   },
   "outputs": [
    {
     "data": {
      "text/plain": [
       "('foo', 'bar', 'foo', 'bar', 'foo', 'bar', 'foo', 'bar')"
      ]
     },
     "execution_count": 40,
     "metadata": {},
     "output_type": "execute_result"
    }
   ],
   "source": [
    "# Multiplying a tuple\n",
    "('foo', 'bar') * 4"
   ]
  },
  {
   "cell_type": "markdown",
   "metadata": {
    "id": "p-MwN4M_9dg-"
   },
   "source": [
    "**Unpacking tuples**\n",
    "\n",
    "If you try to assign to a tuple-like expression of variables, Python will attempt to unpack the value on the righthand side of the equal sign:"
   ]
  },
  {
   "cell_type": "code",
   "execution_count": 41,
   "metadata": {
    "colab": {
     "base_uri": "https://localhost:8080/"
    },
    "id": "fJ3pu1y596KO",
    "outputId": "0424f8db-f7cf-4f4b-c87f-71ee29423dbe"
   },
   "outputs": [],
   "source": [
    "# Unpacking tuples\n",
    "tup = (4, 5, 6)\n",
    "a, b, c = tup"
   ]
  },
  {
   "cell_type": "code",
   "execution_count": 42,
   "metadata": {},
   "outputs": [
    {
     "name": "stdout",
     "output_type": "stream",
     "text": [
      "a is 4 , b is 5 , and c is 6 .\n"
     ]
    }
   ],
   "source": [
    "print(\"a is\", a, \",\", \"b is\", b, \",\", \"and c is\", c, \".\")"
   ]
  },
  {
   "cell_type": "markdown",
   "metadata": {
    "id": "2fhQr-VC-jSa"
   },
   "source": [
    "*Even sequences with nested tuples can be unpacked:*"
   ]
  },
  {
   "cell_type": "code",
   "execution_count": 43,
   "metadata": {
    "colab": {
     "base_uri": "https://localhost:8080/"
    },
    "id": "eY-AVOu6-inp",
    "outputId": "bd917315-cf78-4086-b1cf-a54b71a93a45"
   },
   "outputs": [],
   "source": [
    "# Unpacking nested tuples\n",
    "tup = 4, 5, (6, 7)\n",
    "a, b, (c, d) = tup"
   ]
  },
  {
   "cell_type": "code",
   "execution_count": 44,
   "metadata": {},
   "outputs": [
    {
     "name": "stdout",
     "output_type": "stream",
     "text": [
      "a is 4 , b is 5 , c is 6 , and d is 7 .\n"
     ]
    }
   ],
   "source": [
    "print(\"a is\", a, \",\", \"b is\", b, \",\", \"c is\", c, \",\", \"and d is\", d, \".\")"
   ]
  },
  {
   "cell_type": "markdown",
   "metadata": {
    "id": "ul39fUPP_R8N"
   },
   "source": [
    "**Swapping**\n",
    "\n",
    "*In Python, **swap** can be done like this:*"
   ]
  },
  {
   "cell_type": "code",
   "execution_count": 45,
   "metadata": {
    "colab": {
     "base_uri": "https://localhost:8080/"
    },
    "id": "MFhNtDmM_Wgz",
    "outputId": "115126a6-7576-46d9-93d5-cee15a471ba3"
   },
   "outputs": [],
   "source": [
    "# Initial setup\n",
    "a, b = 1, 2"
   ]
  },
  {
   "cell_type": "code",
   "execution_count": 46,
   "metadata": {},
   "outputs": [
    {
     "name": "stdout",
     "output_type": "stream",
     "text": [
      "a is 1 and b is 2 .\n"
     ]
    }
   ],
   "source": [
    "print(\"a is\", a, \"and b is\", b, \".\")"
   ]
  },
  {
   "cell_type": "code",
   "execution_count": 47,
   "metadata": {
    "colab": {
     "base_uri": "https://localhost:8080/"
    },
    "id": "nFVu4h53_uis",
    "outputId": "c7acc90c-9217-4ccf-d023-8e5c2f1b22d0"
   },
   "outputs": [],
   "source": [
    "# Swapping\n",
    "b, a = a, b"
   ]
  },
  {
   "cell_type": "code",
   "execution_count": 48,
   "metadata": {},
   "outputs": [
    {
     "name": "stdout",
     "output_type": "stream",
     "text": [
      "Now, a is 2 and b is 1 .\n"
     ]
    }
   ],
   "source": [
    "print(\"Now, a is\", a, \"and b is\", b, \".\")"
   ]
  },
  {
   "cell_type": "markdown",
   "metadata": {
    "id": "wabwe_k_A5K-"
   },
   "source": [
    "There are some situations where you may want to \"pluck\" a few elements from the beginning of a tuple. There is a special syntax that can do this, **`*rest`**."
   ]
  },
  {
   "cell_type": "code",
   "execution_count": 49,
   "metadata": {
    "colab": {
     "base_uri": "https://localhost:8080/"
    },
    "id": "gmbnUL0hBVEU",
    "outputId": "62645886-44de-4104-9adc-1d529780ae5e"
   },
   "outputs": [],
   "source": [
    "# Pluck the first few elements with *rest\n",
    "values = 1, 2, 3, 4, 5\n",
    "a, b, *rest = values"
   ]
  },
  {
   "cell_type": "code",
   "execution_count": 50,
   "metadata": {},
   "outputs": [
    {
     "data": {
      "text/plain": [
       "1"
      ]
     },
     "execution_count": 50,
     "metadata": {},
     "output_type": "execute_result"
    }
   ],
   "source": [
    "a"
   ]
  },
  {
   "cell_type": "code",
   "execution_count": 51,
   "metadata": {
    "colab": {
     "base_uri": "https://localhost:8080/"
    },
    "id": "sXw9G4qfBr-E",
    "outputId": "38ade30e-317a-40d3-bba2-bbaf3f7ab216"
   },
   "outputs": [
    {
     "data": {
      "text/plain": [
       "2"
      ]
     },
     "execution_count": 51,
     "metadata": {},
     "output_type": "execute_result"
    }
   ],
   "source": [
    "b"
   ]
  },
  {
   "cell_type": "code",
   "execution_count": 52,
   "metadata": {
    "colab": {
     "base_uri": "https://localhost:8080/"
    },
    "id": "F_ajX2DwBrzL",
    "outputId": "1c2610cc-98df-45b0-f034-670355a2e173"
   },
   "outputs": [
    {
     "data": {
      "text/plain": [
       "[3, 4, 5]"
      ]
     },
     "execution_count": 52,
     "metadata": {},
     "output_type": "execute_result"
    }
   ],
   "source": [
    "rest"
   ]
  },
  {
   "cell_type": "markdown",
   "metadata": {},
   "source": [
    "*As a matter of cnvention, many Python programmers will use the underscore (`_`) for unwanted variables.*"
   ]
  },
  {
   "cell_type": "code",
   "execution_count": 53,
   "metadata": {},
   "outputs": [],
   "source": [
    "# use '_' instead of 'rest'\n",
    "a, b, *_ = values"
   ]
  },
  {
   "cell_type": "code",
   "execution_count": 54,
   "metadata": {},
   "outputs": [
    {
     "data": {
      "text/plain": [
       "1"
      ]
     },
     "execution_count": 54,
     "metadata": {},
     "output_type": "execute_result"
    }
   ],
   "source": [
    "a"
   ]
  },
  {
   "cell_type": "code",
   "execution_count": 55,
   "metadata": {},
   "outputs": [
    {
     "data": {
      "text/plain": [
       "2"
      ]
     },
     "execution_count": 55,
     "metadata": {},
     "output_type": "execute_result"
    }
   ],
   "source": [
    "b"
   ]
  },
  {
   "cell_type": "code",
   "execution_count": 56,
   "metadata": {},
   "outputs": [
    {
     "data": {
      "text/plain": [
       "[3, 4, 5]"
      ]
     },
     "execution_count": 56,
     "metadata": {},
     "output_type": "execute_result"
    }
   ],
   "source": [
    "_"
   ]
  },
  {
   "cell_type": "markdown",
   "metadata": {
    "id": "GvyOUJksCAiM"
   },
   "source": [
    "**Tuple methods**\n",
    "\n",
    "The method **`.count()`** counts the number of occurrences of a value:"
   ]
  },
  {
   "cell_type": "code",
   "execution_count": 57,
   "metadata": {
    "colab": {
     "base_uri": "https://localhost:8080/"
    },
    "id": "FXSm9b8dCTri",
    "outputId": "3ff2d172-e502-4d7d-875d-033033945006"
   },
   "outputs": [
    {
     "data": {
      "text/plain": [
       "4"
      ]
     },
     "execution_count": 57,
     "metadata": {},
     "output_type": "execute_result"
    }
   ],
   "source": [
    "# .count() method\n",
    "a = (1, 2, 2, 2, 3, 4, 2)\n",
    "a.count(2)"
   ]
  },
  {
   "cell_type": "markdown",
   "metadata": {
    "id": "qxAvz5fmDAbH"
   },
   "source": [
    "### List\n",
    "\n",
    "Lists are variable length and their contents can be modified in place. Lists are mutable. You can define them using square brackets **`[]`** or using the **`list`** type function:"
   ]
  },
  {
   "cell_type": "code",
   "execution_count": 27,
   "metadata": {
    "colab": {
     "base_uri": "https://localhost:8080/"
    },
    "id": "tkJ6R6sZDCL3",
    "outputId": "c802f6fc-d5ba-41c1-e10f-3f566d4cd03d"
   },
   "outputs": [
    {
     "data": {
      "text/plain": [
       "[2, 3, 7, None]"
      ]
     },
     "execution_count": 27,
     "metadata": {},
     "output_type": "execute_result"
    }
   ],
   "source": [
    "# Create a list\n",
    "a_list = [2, 3, 7, None]\n",
    "a_list"
   ]
  },
  {
   "cell_type": "code",
   "execution_count": 28,
   "metadata": {
    "colab": {
     "base_uri": "https://localhost:8080/"
    },
    "id": "Lfz5m5nkDiuy",
    "outputId": "3c803606-0dae-4b6f-9a74-729dec9af2dc"
   },
   "outputs": [
    {
     "data": {
      "text/plain": [
       "['foo', 'bar', 'baz']"
      ]
     },
     "execution_count": 28,
     "metadata": {},
     "output_type": "execute_result"
    }
   ],
   "source": [
    "# Create a list using list\n",
    "tup = (\"foo\", \"bar\", \"baz\")    # This is a tuple\n",
    "b_list = list(tup)\n",
    "b_list"
   ]
  },
  {
   "cell_type": "code",
   "execution_count": 29,
   "metadata": {
    "colab": {
     "base_uri": "https://localhost:8080/"
    },
    "id": "ag9Oa0aMD7Q8",
    "outputId": "252f3941-e48b-4f71-dd93-a4776860745e"
   },
   "outputs": [
    {
     "data": {
      "text/plain": [
       "['foo', 'peekaboo', 'baz']"
      ]
     },
     "execution_count": 29,
     "metadata": {},
     "output_type": "execute_result"
    }
   ],
   "source": [
    "# Assign a new value to a list\n",
    "b_list[1] = \"peekaboo\"\n",
    "b_list"
   ]
  },
  {
   "cell_type": "markdown",
   "metadata": {
    "id": "OTS1UG6NEPzz"
   },
   "source": [
    "The **`list`** built-in function is frequently used in data processing as a way to materialze an iterator or generator expression:"
   ]
  },
  {
   "cell_type": "code",
   "execution_count": 30,
   "metadata": {
    "colab": {
     "base_uri": "https://localhost:8080/"
    },
    "id": "wsm9Af9gEaAE",
    "outputId": "a05c411f-7804-4d3d-9209-11684f95f7e7"
   },
   "outputs": [
    {
     "data": {
      "text/plain": [
       "[0, 1, 2, 3, 4, 5, 6, 7, 8, 9]"
      ]
     },
     "execution_count": 30,
     "metadata": {},
     "output_type": "execute_result"
    }
   ],
   "source": [
    "# Materialize an iterator using list\n",
    "gen = range(10)\n",
    "list(gen)"
   ]
  },
  {
   "cell_type": "markdown",
   "metadata": {
    "id": "foEUX2lyEtwh"
   },
   "source": [
    "#### List methods"
   ]
  },
  {
   "cell_type": "code",
   "execution_count": 31,
   "metadata": {
    "colab": {
     "base_uri": "https://localhost:8080/"
    },
    "id": "zwjzFCuOEwZq",
    "outputId": "81c6c6e3-674c-4fa8-eab3-8647835a5b7a"
   },
   "outputs": [
    {
     "data": {
      "text/plain": [
       "['foo', 'peekaboo', 'baz', 'dwarf']"
      ]
     },
     "execution_count": 31,
     "metadata": {},
     "output_type": "execute_result"
    }
   ],
   "source": [
    "# Append an element to the end of the list\n",
    "b_list.append(\"dwarf\")\n",
    "b_list"
   ]
  },
  {
   "cell_type": "code",
   "execution_count": 32,
   "metadata": {
    "colab": {
     "base_uri": "https://localhost:8080/"
    },
    "id": "QM-6VKgDFDM9",
    "outputId": "aefd01bb-9ab7-46a4-d9b6-0313fdb57d27"
   },
   "outputs": [
    {
     "data": {
      "text/plain": [
       "['foo', 'red', 'peekaboo', 'baz', 'dwarf']"
      ]
     },
     "execution_count": 32,
     "metadata": {},
     "output_type": "execute_result"
    }
   ],
   "source": [
    "# Insert an element at a specific location in the list\n",
    "b_list.insert(1, \"red\")\n",
    "b_list"
   ]
  },
  {
   "cell_type": "code",
   "execution_count": 33,
   "metadata": {
    "colab": {
     "base_uri": "https://localhost:8080/",
     "height": 35
    },
    "id": "i96Fpv2_FRhF",
    "outputId": "60a67364-3b39-45c7-880e-e51709105940"
   },
   "outputs": [
    {
     "data": {
      "application/vnd.google.colaboratory.intrinsic+json": {
       "type": "string"
      },
      "text/plain": [
       "'peekaboo'"
      ]
     },
     "execution_count": 33,
     "metadata": {},
     "output_type": "execute_result"
    }
   ],
   "source": [
    "# Removes and returns an element at a particular index\n",
    "b_list.pop(2)"
   ]
  },
  {
   "cell_type": "code",
   "execution_count": 34,
   "metadata": {
    "colab": {
     "base_uri": "https://localhost:8080/"
    },
    "id": "_Ht19n8RFaGz",
    "outputId": "b654345d-bc36-43c8-89af-a14c5013017f"
   },
   "outputs": [
    {
     "data": {
      "text/plain": [
       "['foo', 'red', 'baz', 'dwarf']"
      ]
     },
     "execution_count": 34,
     "metadata": {},
     "output_type": "execute_result"
    }
   ],
   "source": [
    "b_list"
   ]
  },
  {
   "cell_type": "code",
   "execution_count": 35,
   "metadata": {
    "colab": {
     "base_uri": "https://localhost:8080/"
    },
    "id": "XKks-vpJFrSn",
    "outputId": "ecb70efd-087f-4f94-bd74-19de16e7de6c"
   },
   "outputs": [
    {
     "data": {
      "text/plain": [
       "['foo', 'red', 'baz', 'dwarf', 'foo']"
      ]
     },
     "execution_count": 35,
     "metadata": {},
     "output_type": "execute_result"
    }
   ],
   "source": [
    "# Remove the element at the first occurence in a list\n",
    "b_list.append(\"foo\")\n",
    "b_list"
   ]
  },
  {
   "cell_type": "code",
   "execution_count": 36,
   "metadata": {
    "colab": {
     "base_uri": "https://localhost:8080/"
    },
    "id": "5MZg5ri9F3Zz",
    "outputId": "a6e89224-f311-442d-b55d-fe99fbc2ce32"
   },
   "outputs": [
    {
     "data": {
      "text/plain": [
       "['red', 'baz', 'dwarf', 'foo']"
      ]
     },
     "execution_count": 36,
     "metadata": {},
     "output_type": "execute_result"
    }
   ],
   "source": [
    "b_list.remove(\"foo\")\n",
    "b_list"
   ]
  },
  {
   "cell_type": "code",
   "execution_count": 37,
   "metadata": {
    "colab": {
     "base_uri": "https://localhost:8080/"
    },
    "id": "JJRS5LLGGEmU",
    "outputId": "aa971ddf-80ca-4e4d-8b1e-cb6e397a55c3"
   },
   "outputs": [
    {
     "data": {
      "text/plain": [
       "True"
      ]
     },
     "execution_count": 37,
     "metadata": {},
     "output_type": "execute_result"
    }
   ],
   "source": [
    "# Check if a list contains a value using the in keyword\n",
    "\"dwarf\" in b_list"
   ]
  },
  {
   "cell_type": "code",
   "execution_count": 38,
   "metadata": {
    "colab": {
     "base_uri": "https://localhost:8080/"
    },
    "id": "3Q0bcaKJGNlb",
    "outputId": "f12107c2-2685-4b19-8d6f-7cdca4dffa6c"
   },
   "outputs": [
    {
     "data": {
      "text/plain": [
       "False"
      ]
     },
     "execution_count": 38,
     "metadata": {},
     "output_type": "execute_result"
    }
   ],
   "source": [
    "# The keyword not can be used to negate in\n",
    "\"dwarf\" not in b_list"
   ]
  },
  {
   "cell_type": "markdown",
   "metadata": {
    "id": "IZq_rUZqGo6A"
   },
   "source": [
    "#### Concatenating and combining lists"
   ]
  },
  {
   "cell_type": "code",
   "execution_count": 39,
   "metadata": {
    "colab": {
     "base_uri": "https://localhost:8080/"
    },
    "id": "zLSDybcMGsFq",
    "outputId": "8f3d91d7-bd0b-44f4-b730-3a69f0655509"
   },
   "outputs": [
    {
     "data": {
      "text/plain": [
       "[4, None, 'foo', 7, 8, (2, 3)]"
      ]
     },
     "execution_count": 39,
     "metadata": {},
     "output_type": "execute_result"
    }
   ],
   "source": [
    "# Adding two lists together with +\n",
    "[4, None, \"foo\"] + [7, 8, (2, 3)]"
   ]
  },
  {
   "cell_type": "code",
   "execution_count": 40,
   "metadata": {
    "colab": {
     "base_uri": "https://localhost:8080/"
    },
    "id": "rnhYe8iQG6CS",
    "outputId": "590fea92-79bd-4382-c5a7-f35433f8e149"
   },
   "outputs": [
    {
     "data": {
      "text/plain": [
       "[4, None, 'foo', 7, 8, (2, 3)]"
      ]
     },
     "execution_count": 40,
     "metadata": {},
     "output_type": "execute_result"
    }
   ],
   "source": [
    "# Append multiple elements using extend method\n",
    "x = [4, None, \"foo\"]\n",
    "x.extend([7, 8, (2, 3)])\n",
    "x"
   ]
  },
  {
   "cell_type": "markdown",
   "metadata": {
    "id": "I_DoaH0vH095"
   },
   "source": [
    "#### Sorting\n",
    "\n",
    "You can sort a list in place (without creating a new object) by calling its **`sort`** function:"
   ]
  },
  {
   "cell_type": "code",
   "execution_count": 41,
   "metadata": {
    "colab": {
     "base_uri": "https://localhost:8080/"
    },
    "id": "1eK4cq0OIAjI",
    "outputId": "fc45df65-d06c-4e5d-9952-49a02664ac05"
   },
   "outputs": [
    {
     "data": {
      "text/plain": [
       "[1, 2, 3, 5, 7]"
      ]
     },
     "execution_count": 41,
     "metadata": {},
     "output_type": "execute_result"
    }
   ],
   "source": [
    "# Sorting\n",
    "a = [7, 2, 5, 1, 3]\n",
    "a.sort()\n",
    "a"
   ]
  },
  {
   "cell_type": "code",
   "execution_count": 45,
   "metadata": {
    "colab": {
     "base_uri": "https://localhost:8080/"
    },
    "id": "QRmYmuHTIJLp",
    "outputId": "6643477b-8deb-447f-eb09-e63c25be9c3b"
   },
   "outputs": [
    {
     "data": {
      "text/plain": [
       "['He', 'saw', 'six', 'small', 'foxes']"
      ]
     },
     "execution_count": 45,
     "metadata": {},
     "output_type": "execute_result"
    }
   ],
   "source": [
    "# Sort a collection of strings by their lengths\n",
    "b = [\"saw\", \"small\", \"He\", \"foxes\", \"six\"]\n",
    "b.sort(key=len)\n",
    "b"
   ]
  },
  {
   "cell_type": "code",
   "execution_count": 43,
   "metadata": {
    "colab": {
     "base_uri": "https://localhost:8080/"
    },
    "id": "EXRmXfV3If3f",
    "outputId": "c0df0ff5-beed-421e-b5f4-fce2d7534469"
   },
   "outputs": [
    {
     "data": {
      "text/plain": [
       "['He', 'saw', 'six', 'foxes', 'small']"
      ]
     },
     "execution_count": 43,
     "metadata": {},
     "output_type": "execute_result"
    }
   ],
   "source": [
    "b.sort(key=len)\n",
    "b"
   ]
  },
  {
   "cell_type": "markdown",
   "metadata": {
    "id": "rldDQ_4l1HKT"
   },
   "source": [
    "# Basic descriptive statistics\n",
    "\n",
    "The following demonstrates calculation of some common descriptive statistics, which includes mean, trimmed mean, weighted mean, weighted median, sample standard deviation, interquartile range (IQR) and median absolute deviation from the median (MAD).\n",
    "\n",
    "We import the data as a pandas dataframe as the pandas dataframe methods, that is the `.method()`, can easily provide the mean, median, sample standard deviation and quantiles.\n",
    "\n",
    "For trimmed mean, we need to use the `trim_mean` function in `scipy.stats`. For weighted mean, we use `average` function in `NumPy`. For weighted median, we use the specialized package `wquantiles`. And for MAD, we need the `robust` module in the package `statsmodels`.\n",
    "\n",
    "Firstly, we need to install the `wquantiles` package as this is not included in the base Colab environment."
   ]
  },
  {
   "cell_type": "code",
   "execution_count": null,
   "metadata": {
    "colab": {
     "base_uri": "https://localhost:8080/"
    },
    "id": "MRt_YdHkxuLc",
    "outputId": "44790b52-8aa0-4e7a-a469-9daac082f259"
   },
   "outputs": [
    {
     "name": "stdout",
     "output_type": "stream",
     "text": [
      "Looking in indexes: https://pypi.org/simple, https://us-python.pkg.dev/colab-wheels/public/simple/\n",
      "Collecting wquantiles\n",
      "  Downloading wquantiles-0.6-py3-none-any.whl (3.3 kB)\n",
      "Requirement already satisfied: numpy>=1.18 in /usr/local/lib/python3.9/dist-packages (from wquantiles) (1.22.4)\n",
      "Installing collected packages: wquantiles\n",
      "Successfully installed wquantiles-0.6\n"
     ]
    }
   ],
   "source": [
    "# Install the package \"wquantiles\"\n",
    "!pip install wquantiles"
   ]
  },
  {
   "cell_type": "markdown",
   "metadata": {
    "id": "xb8Gah4P7eJd"
   },
   "source": [
    "We now import the necessary packages:"
   ]
  },
  {
   "cell_type": "code",
   "execution_count": null,
   "metadata": {
    "id": "mIuWCcb21c56"
   },
   "outputs": [],
   "source": [
    "# Import necessary packages\n",
    "import pandas as pd\n",
    "import numpy as np\n",
    "import scipy.stats\n",
    "import wquantiles\n",
    "from statsmodels import robust"
   ]
  },
  {
   "cell_type": "markdown",
   "metadata": {
    "id": "Y6J-Jf1Z7lZD"
   },
   "source": [
    "We now load the data as a pandas dataframe:"
   ]
  },
  {
   "cell_type": "code",
   "execution_count": null,
   "metadata": {
    "colab": {
     "base_uri": "https://localhost:8080/",
     "height": 206
    },
    "id": "FneRRgoewBGS",
    "outputId": "b989fca7-d64d-4686-9399-b05655f0ec03"
   },
   "outputs": [
    {
     "data": {
      "text/html": [
       "\n",
       "  <div id=\"df-dffa3d8d-5507-4cbb-914f-9e78a007e1c2\">\n",
       "    <div class=\"colab-df-container\">\n",
       "      <div>\n",
       "<style scoped>\n",
       "    .dataframe tbody tr th:only-of-type {\n",
       "        vertical-align: middle;\n",
       "    }\n",
       "\n",
       "    .dataframe tbody tr th {\n",
       "        vertical-align: top;\n",
       "    }\n",
       "\n",
       "    .dataframe thead th {\n",
       "        text-align: right;\n",
       "    }\n",
       "</style>\n",
       "<table border=\"1\" class=\"dataframe\">\n",
       "  <thead>\n",
       "    <tr style=\"text-align: right;\">\n",
       "      <th></th>\n",
       "      <th>State</th>\n",
       "      <th>Population</th>\n",
       "      <th>Murder.Rate</th>\n",
       "      <th>Abbreviation</th>\n",
       "    </tr>\n",
       "  </thead>\n",
       "  <tbody>\n",
       "    <tr>\n",
       "      <th>0</th>\n",
       "      <td>Alabama</td>\n",
       "      <td>4779736</td>\n",
       "      <td>5.7</td>\n",
       "      <td>AL</td>\n",
       "    </tr>\n",
       "    <tr>\n",
       "      <th>1</th>\n",
       "      <td>Alaska</td>\n",
       "      <td>710231</td>\n",
       "      <td>5.6</td>\n",
       "      <td>AK</td>\n",
       "    </tr>\n",
       "    <tr>\n",
       "      <th>2</th>\n",
       "      <td>Arizona</td>\n",
       "      <td>6392017</td>\n",
       "      <td>4.7</td>\n",
       "      <td>AZ</td>\n",
       "    </tr>\n",
       "    <tr>\n",
       "      <th>3</th>\n",
       "      <td>Arkansas</td>\n",
       "      <td>2915918</td>\n",
       "      <td>5.6</td>\n",
       "      <td>AR</td>\n",
       "    </tr>\n",
       "    <tr>\n",
       "      <th>4</th>\n",
       "      <td>California</td>\n",
       "      <td>37253956</td>\n",
       "      <td>4.4</td>\n",
       "      <td>CA</td>\n",
       "    </tr>\n",
       "  </tbody>\n",
       "</table>\n",
       "</div>\n",
       "      <button class=\"colab-df-convert\" onclick=\"convertToInteractive('df-dffa3d8d-5507-4cbb-914f-9e78a007e1c2')\"\n",
       "              title=\"Convert this dataframe to an interactive table.\"\n",
       "              style=\"display:none;\">\n",
       "        \n",
       "  <svg xmlns=\"http://www.w3.org/2000/svg\" height=\"24px\"viewBox=\"0 0 24 24\"\n",
       "       width=\"24px\">\n",
       "    <path d=\"M0 0h24v24H0V0z\" fill=\"none\"/>\n",
       "    <path d=\"M18.56 5.44l.94 2.06.94-2.06 2.06-.94-2.06-.94-.94-2.06-.94 2.06-2.06.94zm-11 1L8.5 8.5l.94-2.06 2.06-.94-2.06-.94L8.5 2.5l-.94 2.06-2.06.94zm10 10l.94 2.06.94-2.06 2.06-.94-2.06-.94-.94-2.06-.94 2.06-2.06.94z\"/><path d=\"M17.41 7.96l-1.37-1.37c-.4-.4-.92-.59-1.43-.59-.52 0-1.04.2-1.43.59L10.3 9.45l-7.72 7.72c-.78.78-.78 2.05 0 2.83L4 21.41c.39.39.9.59 1.41.59.51 0 1.02-.2 1.41-.59l7.78-7.78 2.81-2.81c.8-.78.8-2.07 0-2.86zM5.41 20L4 18.59l7.72-7.72 1.47 1.35L5.41 20z\"/>\n",
       "  </svg>\n",
       "      </button>\n",
       "      \n",
       "  <style>\n",
       "    .colab-df-container {\n",
       "      display:flex;\n",
       "      flex-wrap:wrap;\n",
       "      gap: 12px;\n",
       "    }\n",
       "\n",
       "    .colab-df-convert {\n",
       "      background-color: #E8F0FE;\n",
       "      border: none;\n",
       "      border-radius: 50%;\n",
       "      cursor: pointer;\n",
       "      display: none;\n",
       "      fill: #1967D2;\n",
       "      height: 32px;\n",
       "      padding: 0 0 0 0;\n",
       "      width: 32px;\n",
       "    }\n",
       "\n",
       "    .colab-df-convert:hover {\n",
       "      background-color: #E2EBFA;\n",
       "      box-shadow: 0px 1px 2px rgba(60, 64, 67, 0.3), 0px 1px 3px 1px rgba(60, 64, 67, 0.15);\n",
       "      fill: #174EA6;\n",
       "    }\n",
       "\n",
       "    [theme=dark] .colab-df-convert {\n",
       "      background-color: #3B4455;\n",
       "      fill: #D2E3FC;\n",
       "    }\n",
       "\n",
       "    [theme=dark] .colab-df-convert:hover {\n",
       "      background-color: #434B5C;\n",
       "      box-shadow: 0px 1px 3px 1px rgba(0, 0, 0, 0.15);\n",
       "      filter: drop-shadow(0px 1px 2px rgba(0, 0, 0, 0.3));\n",
       "      fill: #FFFFFF;\n",
       "    }\n",
       "  </style>\n",
       "\n",
       "      <script>\n",
       "        const buttonEl =\n",
       "          document.querySelector('#df-dffa3d8d-5507-4cbb-914f-9e78a007e1c2 button.colab-df-convert');\n",
       "        buttonEl.style.display =\n",
       "          google.colab.kernel.accessAllowed ? 'block' : 'none';\n",
       "\n",
       "        async function convertToInteractive(key) {\n",
       "          const element = document.querySelector('#df-dffa3d8d-5507-4cbb-914f-9e78a007e1c2');\n",
       "          const dataTable =\n",
       "            await google.colab.kernel.invokeFunction('convertToInteractive',\n",
       "                                                     [key], {});\n",
       "          if (!dataTable) return;\n",
       "\n",
       "          const docLinkHtml = 'Like what you see? Visit the ' +\n",
       "            '<a target=\"_blank\" href=https://colab.research.google.com/notebooks/data_table.ipynb>data table notebook</a>'\n",
       "            + ' to learn more about interactive tables.';\n",
       "          element.innerHTML = '';\n",
       "          dataTable['output_type'] = 'display_data';\n",
       "          await google.colab.output.renderOutput(dataTable, element);\n",
       "          const docLink = document.createElement('div');\n",
       "          docLink.innerHTML = docLinkHtml;\n",
       "          element.appendChild(docLink);\n",
       "        }\n",
       "      </script>\n",
       "    </div>\n",
       "  </div>\n",
       "  "
      ],
      "text/plain": [
       "        State  Population  Murder.Rate Abbreviation\n",
       "0     Alabama     4779736          5.7           AL\n",
       "1      Alaska      710231          5.6           AK\n",
       "2     Arizona     6392017          4.7           AZ\n",
       "3    Arkansas     2915918          5.6           AR\n",
       "4  California    37253956          4.4           CA"
      ]
     },
     "execution_count": 12,
     "metadata": {},
     "output_type": "execute_result"
    }
   ],
   "source": [
    "# Load the dataset as pandas dataframe\n",
    "link = \"https://raw.githubusercontent.com/stevenkhwun/P4DS/main/Data/state.csv\"\n",
    "state = pd.read_csv(link)\n",
    "state.head()"
   ]
  },
  {
   "cell_type": "markdown",
   "metadata": {
    "id": "q--mDIyC7uch"
   },
   "source": [
    "## Mean"
   ]
  },
  {
   "cell_type": "code",
   "execution_count": null,
   "metadata": {
    "colab": {
     "base_uri": "https://localhost:8080/"
    },
    "id": "Ip-PyOgbwVHU",
    "outputId": "60450e3d-87ec-473c-f58e-b754e50883af"
   },
   "outputs": [
    {
     "data": {
      "text/plain": [
       "6162876.3"
      ]
     },
     "execution_count": 47,
     "metadata": {},
     "output_type": "execute_result"
    }
   ],
   "source": [
    "# Mean by pandas dataframe method\n",
    "state['Population'].mean()"
   ]
  },
  {
   "cell_type": "markdown",
   "metadata": {
    "id": "aVAGz4yZ76qo"
   },
   "source": [
    "## Trimmed mean"
   ]
  },
  {
   "cell_type": "code",
   "execution_count": null,
   "metadata": {
    "colab": {
     "base_uri": "https://localhost:8080/"
    },
    "id": "Kl6H-fdNwdjs",
    "outputId": "3379c309-835e-493d-f72c-0bbcd26a0b01"
   },
   "outputs": [
    {
     "data": {
      "text/plain": [
       "4783697.125"
      ]
     },
     "execution_count": 48,
     "metadata": {},
     "output_type": "execute_result"
    }
   ],
   "source": [
    "# Trimmed mean using the scipy.stats package\n",
    "scipy.stats.trim_mean(state['Population'], 0.1)"
   ]
  },
  {
   "cell_type": "markdown",
   "metadata": {
    "id": "-PQDOeg68HPI"
   },
   "source": [
    "## Median"
   ]
  },
  {
   "cell_type": "code",
   "execution_count": null,
   "metadata": {
    "colab": {
     "base_uri": "https://localhost:8080/"
    },
    "id": "f8_79hYI5yLj",
    "outputId": "ac0dc5c1-aebe-424a-ccb3-facfbbeac874"
   },
   "outputs": [
    {
     "data": {
      "text/plain": [
       "4436369.5"
      ]
     },
     "execution_count": 49,
     "metadata": {},
     "output_type": "execute_result"
    }
   ],
   "source": [
    "# Median by pandas dataframe method\n",
    "state['Population'].median()"
   ]
  },
  {
   "cell_type": "markdown",
   "metadata": {
    "id": "clZ5-yBQ1pru"
   },
   "source": [
    "## Weighted mean"
   ]
  },
  {
   "cell_type": "code",
   "execution_count": null,
   "metadata": {
    "colab": {
     "base_uri": "https://localhost:8080/"
    },
    "id": "OaVev7xE2Bn7",
    "outputId": "b97f5d50-3b99-4808-b922-6520e57ecb24"
   },
   "outputs": [
    {
     "data": {
      "text/plain": [
       "4.445833981123393"
      ]
     },
     "execution_count": 50,
     "metadata": {},
     "output_type": "execute_result"
    }
   ],
   "source": [
    "# Weighted mean by average function in NumPy\n",
    "np.average(state['Murder.Rate'], weights=state['Population'])"
   ]
  },
  {
   "cell_type": "markdown",
   "metadata": {
    "id": "oFQfKsQv2gvh"
   },
   "source": [
    "## Weighted median"
   ]
  },
  {
   "cell_type": "code",
   "execution_count": null,
   "metadata": {
    "colab": {
     "base_uri": "https://localhost:8080/"
    },
    "id": "3mvhuMrgwNXO",
    "outputId": "b6adc4d0-4594-479d-d4e8-8db2f969e8a2"
   },
   "outputs": [
    {
     "data": {
      "text/plain": [
       "4.4"
      ]
     },
     "execution_count": 51,
     "metadata": {},
     "output_type": "execute_result"
    }
   ],
   "source": [
    "# Weighted median by median function in wquantiles\n",
    "wquantiles.median(state['Murder.Rate'], weights=state['Population'])"
   ]
  },
  {
   "cell_type": "markdown",
   "metadata": {
    "id": "1uM5ZGr49RQ3"
   },
   "source": [
    "## Standard deviation\n",
    "\n",
    "Note that the result is a sample standard deviation."
   ]
  },
  {
   "cell_type": "code",
   "execution_count": null,
   "metadata": {
    "colab": {
     "base_uri": "https://localhost:8080/"
    },
    "id": "O2LaZcewzM-5",
    "outputId": "dd8f454c-81b8-4fd5-c35f-5d8b21a2c407"
   },
   "outputs": [
    {
     "data": {
      "text/plain": [
       "6848235.347401142"
      ]
     },
     "execution_count": 52,
     "metadata": {},
     "output_type": "execute_result"
    }
   ],
   "source": [
    "# Sample standard deviation by pandas datafram method\n",
    "state['Population'].std()"
   ]
  },
  {
   "cell_type": "code",
   "execution_count": null,
   "metadata": {
    "colab": {
     "base_uri": "https://localhost:8080/"
    },
    "id": "z7GfWNblz1k7",
    "outputId": "ee5171b2-06f1-4fa7-ad64-bdf198638a3d"
   },
   "outputs": [
    {
     "data": {
      "text/plain": [
       "0    34.311806\n",
       "dtype: float64"
      ]
     },
     "execution_count": 53,
     "metadata": {},
     "output_type": "execute_result"
    }
   ],
   "source": [
    "data = [2, 9, 12, 19, 86]\n",
    "datadf = pd.DataFrame (data)\n",
    "datadf.std()"
   ]
  },
  {
   "cell_type": "markdown",
   "metadata": {
    "id": "EToN9aaZ9iHv"
   },
   "source": [
    "## Interquartile range (IQR)"
   ]
  },
  {
   "cell_type": "code",
   "execution_count": null,
   "metadata": {
    "colab": {
     "base_uri": "https://localhost:8080/"
    },
    "id": "8HtZOdFH1xE3",
    "outputId": "aa71f735-c863-4f2a-afb3-9631bafbc1f2"
   },
   "outputs": [
    {
     "data": {
      "text/plain": [
       "4847308.0"
      ]
     },
     "execution_count": 54,
     "metadata": {},
     "output_type": "execute_result"
    }
   ],
   "source": [
    "# Interquartile range (IQR) by pandas dataframe method\n",
    "state['Population'].quantile(0.75) - state['Population'].quantile(0.25)"
   ]
  },
  {
   "cell_type": "markdown",
   "metadata": {
    "id": "Z0FMzPFw9zzC"
   },
   "source": [
    "## Absolute deviation from the median (MAD)"
   ]
  },
  {
   "cell_type": "code",
   "execution_count": null,
   "metadata": {
    "colab": {
     "base_uri": "https://localhost:8080/"
    },
    "id": "ICHAMfgS2GF9",
    "outputId": "bd0b5a80-fabb-4241-8478-d201ffb21fbf"
   },
   "outputs": [
    {
     "data": {
      "text/plain": [
       "3849876.1459979336"
      ]
     },
     "execution_count": 55,
     "metadata": {},
     "output_type": "execute_result"
    }
   ],
   "source": [
    "# MAD by robust function in statsmodels package\n",
    "robust.mad(state['Population'])"
   ]
  },
  {
   "cell_type": "markdown",
   "metadata": {
    "id": "QWr42UM22bgk"
   },
   "source": [
    "# Built-in functions for descriptive statistics"
   ]
  },
  {
   "cell_type": "markdown",
   "metadata": {
    "id": "Lh-kBRTv2orn"
   },
   "source": [
    "## Maximum function `max()` and minimun function `min()`\n",
    "\n",
    "These functions can be apply to tuples, lists and pandas dataframe."
   ]
  },
  {
   "cell_type": "code",
   "execution_count": null,
   "metadata": {
    "colab": {
     "base_uri": "https://localhost:8080/"
    },
    "id": "FuP97rGW2hms",
    "outputId": "6b2ec9dc-3e7c-484b-d302-0407991bd305"
   },
   "outputs": [
    {
     "data": {
      "text/plain": [
       "36"
      ]
     },
     "execution_count": 15,
     "metadata": {},
     "output_type": "execute_result"
    }
   ],
   "source": [
    "# Maximun function max() apply to a tuple\n",
    "max(36, 27, 12)"
   ]
  },
  {
   "cell_type": "code",
   "execution_count": null,
   "metadata": {
    "colab": {
     "base_uri": "https://localhost:8080/"
    },
    "id": "H8nRNd523d3E",
    "outputId": "27cf9b43-5b74-4a58-8ec0-f0b9fec9639a"
   },
   "outputs": [
    {
     "data": {
      "text/plain": [
       "12"
      ]
     },
     "execution_count": 14,
     "metadata": {},
     "output_type": "execute_result"
    }
   ],
   "source": [
    "# Minimum function min() apply to a list\n",
    "min([36, 27, 12])"
   ]
  },
  {
   "cell_type": "code",
   "execution_count": null,
   "metadata": {
    "colab": {
     "base_uri": "https://localhost:8080/"
    },
    "id": "AUHnXi3232xP",
    "outputId": "d2d6c870-8109-48d1-843f-33c6e5e4bc9e"
   },
   "outputs": [
    {
     "data": {
      "text/plain": [
       "37253956"
      ]
     },
     "execution_count": 13,
     "metadata": {},
     "output_type": "execute_result"
    }
   ],
   "source": [
    "# Maximun function max() apply to a pandas dataframe\n",
    "max(state['Population'])"
   ]
  },
  {
   "cell_type": "markdown",
   "metadata": {
    "id": "zczJcbLX5Vlk"
   },
   "source": [
    "## `sum()` and `len()`\n",
    "\n",
    "The Python’s built-in function `sum()` is an efficient way to sum a list of numeric values.\n",
    "\n",
    "The Python’s built-in functions `len()` returns the length of an object. For example, it can return the number of items in a list. You can use the function with many different data types. However, not all data types are valid arguments for `len()`."
   ]
  },
  {
   "cell_type": "code",
   "execution_count": null,
   "metadata": {
    "id": "FQ4HKtfA6l5p"
   },
   "outputs": [],
   "source": [
    "# Creates a list grades\n",
    "grades = [85, 93, 45, 89, 85]"
   ]
  },
  {
   "cell_type": "markdown",
   "metadata": {
    "id": "X0MmsuYV7jGU"
   },
   "source": [
    "Calculate the mean grade by calculate the total and divided by the number of grades:"
   ]
  },
  {
   "cell_type": "code",
   "execution_count": null,
   "metadata": {
    "colab": {
     "base_uri": "https://localhost:8080/"
    },
    "id": "vCfRaZUM7ejR",
    "outputId": "52bff751-0f78-42b0-aa48-3bc42dee28f9"
   },
   "outputs": [
    {
     "data": {
      "text/plain": [
       "79.4"
      ]
     },
     "execution_count": 18,
     "metadata": {},
     "output_type": "execute_result"
    }
   ],
   "source": [
    "# Mean grade\n",
    "sum(grades) / len(grades)"
   ]
  },
  {
   "cell_type": "markdown",
   "metadata": {
    "id": "WNMBqnYo8mu9"
   },
   "source": [
    "## `mean()`, `median()` and `mode()` functions in `statistics` module\n",
    "\n",
    "The Python Standard Library's `statistics` module provides functions for calculating the mean, median and mode. Each function's argument must be an *iterable* and can apply to tuples, lists and pandas dataframe.\n",
    "\n",
    "To use these capabilities, first import the `statistics` module:"
   ]
  },
  {
   "cell_type": "code",
   "execution_count": null,
   "metadata": {
    "id": "qcGTo_6L9HKz"
   },
   "outputs": [],
   "source": [
    "# Import statistics module\n",
    "import statistics"
   ]
  },
  {
   "cell_type": "markdown",
   "metadata": {
    "id": "rCKTb_6J-VU_"
   },
   "source": [
    "### `mean()`"
   ]
  },
  {
   "cell_type": "code",
   "execution_count": null,
   "metadata": {
    "colab": {
     "base_uri": "https://localhost:8080/"
    },
    "id": "9sZwo1FP9lwM",
    "outputId": "33059145-e840-4184-dcbd-9d11eddef034"
   },
   "outputs": [
    {
     "data": {
      "text/plain": [
       "79.4"
      ]
     },
     "execution_count": 20,
     "metadata": {},
     "output_type": "execute_result"
    }
   ],
   "source": [
    "# Function mean() apply to a list\n",
    "statistics.mean(grades)\n"
   ]
  },
  {
   "cell_type": "code",
   "execution_count": null,
   "metadata": {
    "colab": {
     "base_uri": "https://localhost:8080/"
    },
    "id": "e6ndU84i-BOv",
    "outputId": "dbc675b0-3b76-43af-c1d2-8b3c50c98c66"
   },
   "outputs": [
    {
     "data": {
      "text/plain": [
       "6162876.3"
      ]
     },
     "execution_count": 21,
     "metadata": {},
     "output_type": "execute_result"
    }
   ],
   "source": [
    "# Function mean() apply to a pandas dataframe\n",
    "statistics.mean(state['Population'])"
   ]
  },
  {
   "cell_type": "markdown",
   "metadata": {
    "id": "OrsNlxHG-clQ"
   },
   "source": [
    "### `median()`"
   ]
  },
  {
   "cell_type": "code",
   "execution_count": null,
   "metadata": {
    "colab": {
     "base_uri": "https://localhost:8080/"
    },
    "id": "PEZS1dvu-fRw",
    "outputId": "19020727-18b8-4940-e5de-a70646195331"
   },
   "outputs": [
    {
     "data": {
      "text/plain": [
       "85"
      ]
     },
     "execution_count": 22,
     "metadata": {},
     "output_type": "execute_result"
    }
   ],
   "source": [
    "# Function median() apply to a list\n",
    "statistics.median(grades)"
   ]
  },
  {
   "cell_type": "markdown",
   "metadata": {
    "id": "vVr4f0O3_E8E"
   },
   "source": [
    "### `mode()`"
   ]
  },
  {
   "cell_type": "code",
   "execution_count": null,
   "metadata": {
    "colab": {
     "base_uri": "https://localhost:8080/"
    },
    "id": "5jXvLGPx_HqW",
    "outputId": "9e882fb8-be41-424a-a7e0-68e962ad65eb"
   },
   "outputs": [
    {
     "data": {
      "text/plain": [
       "85"
      ]
     },
     "execution_count": 23,
     "metadata": {},
     "output_type": "execute_result"
    }
   ],
   "source": [
    "# Function mode() apply to a list\n",
    "statistics.mode(grades)"
   ]
  },
  {
   "cell_type": "markdown",
   "metadata": {
    "id": "ve-Mczt2ABgC"
   },
   "source": [
    "The `mode()` function causes a `StatisticsError` for lists like [85, 93, 45, 89, 85, 93] in which there are two or more \"most frequent\" values."
   ]
  },
  {
   "cell_type": "markdown",
   "metadata": {
    "id": "A68G-a9n_iLe"
   },
   "source": [
    "## `sorted()` function\n",
    "\n",
    "To confirm that the median and mode are correct, you can use the built-in `sorted()` function to get a copy of `grades` with its values arranged in increasing order:"
   ]
  },
  {
   "cell_type": "code",
   "execution_count": null,
   "metadata": {
    "colab": {
     "base_uri": "https://localhost:8080/"
    },
    "id": "jJOZv9Vh_4FQ",
    "outputId": "b06e720e-bb15-4ed8-b141-fcf61dc5604f"
   },
   "outputs": [
    {
     "data": {
      "text/plain": [
       "[45, 85, 85, 89, 93]"
      ]
     },
     "execution_count": 24,
     "metadata": {},
     "output_type": "execute_result"
    }
   ],
   "source": [
    "# Sort the object grades\n",
    "sorted(grades)"
   ]
  },
  {
   "cell_type": "markdown",
   "metadata": {
    "id": "DgKjFWRBBRAR"
   },
   "source": [
    "## `pvariancd()` and `pstdev` in `statistics` module"
   ]
  },
  {
   "cell_type": "code",
   "execution_count": null,
   "metadata": {
    "id": "jsgcxYcbDPgg"
   },
   "outputs": [],
   "source": [
    "# Create the data\n",
    "die = [1, 3, 4, 2, 6, 5, 3, 4, 5, 2]"
   ]
  },
  {
   "cell_type": "code",
   "execution_count": null,
   "metadata": {
    "colab": {
     "base_uri": "https://localhost:8080/"
    },
    "id": "vk19ypCfDEMq",
    "outputId": "bdab481a-8898-4f56-b7a0-05d855238716"
   },
   "outputs": [
    {
     "data": {
      "text/plain": [
       "2.25"
      ]
     },
     "execution_count": 33,
     "metadata": {},
     "output_type": "execute_result"
    }
   ],
   "source": [
    "# Population variance\n",
    "statistics.pvariance(die)"
   ]
  },
  {
   "cell_type": "code",
   "execution_count": null,
   "metadata": {
    "colab": {
     "base_uri": "https://localhost:8080/"
    },
    "id": "2lvrV3DNDEEe",
    "outputId": "a26c8ade-466e-45a4-edee-a7b23f05c4f2"
   },
   "outputs": [
    {
     "data": {
      "text/plain": [
       "1.5"
      ]
     },
     "execution_count": 34,
     "metadata": {},
     "output_type": "execute_result"
    }
   ],
   "source": [
    "# Population standard variation\n",
    "statistics.pstdev(die)"
   ]
  },
  {
   "cell_type": "markdown",
   "metadata": {
    "id": "toFm5Gn_Dt90"
   },
   "source": [
    "## `sqrt()` function in `math` module\n",
    "\n",
    "Passing the `pvariance()` function's result to the `math` module's `sqrt()` function confirms the population standard deviation is 1.5:"
   ]
  },
  {
   "cell_type": "code",
   "execution_count": null,
   "metadata": {
    "colab": {
     "base_uri": "https://localhost:8080/"
    },
    "id": "Vh1dpgn1EGQz",
    "outputId": "af52067b-cf0b-401d-9916-b8f3fda13055"
   },
   "outputs": [
    {
     "data": {
      "text/plain": [
       "1.5"
      ]
     },
     "execution_count": 35,
     "metadata": {},
     "output_type": "execute_result"
    }
   ],
   "source": [
    "# Standard deviation by sqrt() function\n",
    "import math      # Import the math module\n",
    "math.sqrt(statistics.pvariance(die))"
   ]
  },
  {
   "cell_type": "markdown",
   "metadata": {
    "id": "gofon9aOEdPm"
   },
   "source": [
    "# This is the end of the document"
   ]
  },
  {
   "cell_type": "code",
   "execution_count": null,
   "metadata": {
    "colab": {
     "base_uri": "https://localhost:8080/"
    },
    "id": "2NnqnEZYBpo6",
    "outputId": "f5d1bf03-3220-413a-ceb9-f0bfb90e82e9"
   },
   "outputs": [
    {
     "data": {
      "text/plain": [
       "3.5"
      ]
     },
     "execution_count": 26,
     "metadata": {},
     "output_type": "execute_result"
    }
   ],
   "source": [
    "die = [1, 3, 4, 2, 6, 5, 3, 4, 5, 2]\n",
    "statistics.mean(die)"
   ]
  },
  {
   "cell_type": "code",
   "execution_count": null,
   "metadata": {
    "colab": {
     "base_uri": "https://localhost:8080/"
    },
    "id": "jQ1ce4tUB-ds",
    "outputId": "c77019e2-5e6b-4c76-fd3f-d0cecf249e05"
   },
   "outputs": [
    {
     "data": {
      "text/plain": [
       "[-2.5, -0.5, 0.5, -1.5, 2.5, 1.5, -0.5, 0.5, 1.5, -1.5]"
      ]
     },
     "execution_count": 31,
     "metadata": {},
     "output_type": "execute_result"
    }
   ],
   "source": [
    "diff = list(map(lambda x: x - 3.5, die))\n",
    "diff"
   ]
  }
 ],
 "metadata": {
  "colab": {
   "authorship_tag": "ABX9TyMu48XuUeBPaGJiy3VZenBf",
   "include_colab_link": true,
   "provenance": [],
   "toc_visible": true
  },
  "kernelspec": {
   "display_name": "Python 3 (ipykernel)",
   "language": "python",
   "name": "python3"
  },
  "language_info": {
   "codemirror_mode": {
    "name": "ipython",
    "version": 3
   },
   "file_extension": ".py",
   "mimetype": "text/x-python",
   "name": "python",
   "nbconvert_exporter": "python",
   "pygments_lexer": "ipython3",
   "version": "3.11.5"
  }
 },
 "nbformat": 4,
 "nbformat_minor": 4
}

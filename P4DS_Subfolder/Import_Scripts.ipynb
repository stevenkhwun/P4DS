{
 "cells": [
  {
   "cell_type": "markdown",
   "id": "24b20f47",
   "metadata": {},
   "source": [
    "# Import script in the same directory"
   ]
  },
  {
   "cell_type": "code",
   "execution_count": 39,
   "id": "83a81e43",
   "metadata": {},
   "outputs": [],
   "source": [
    "import script"
   ]
  },
  {
   "cell_type": "code",
   "execution_count": 40,
   "id": "5381eb25",
   "metadata": {},
   "outputs": [
    {
     "data": {
      "text/plain": [
       "1.0"
      ]
     },
     "execution_count": 40,
     "metadata": {},
     "output_type": "execute_result"
    }
   ],
   "source": [
    "script.f(1,2,3)"
   ]
  },
  {
   "cell_type": "code",
   "execution_count": 41,
   "id": "6d1959b6",
   "metadata": {},
   "outputs": [],
   "source": [
    "def twocubes(x,y):\n",
    "    \"\"\"\n",
    "    Return the sum of cubes of two numbers.\n",
    "    \"\"\"\n",
    "    return x**3 + y**3"
   ]
  },
  {
   "cell_type": "code",
   "execution_count": 42,
   "id": "edecb959",
   "metadata": {},
   "outputs": [
    {
     "data": {
      "text/plain": [
       "28"
      ]
     },
     "execution_count": 42,
     "metadata": {},
     "output_type": "execute_result"
    }
   ],
   "source": [
    "twocubes(1,3)"
   ]
  },
  {
   "cell_type": "code",
   "execution_count": 43,
   "id": "0bd6532b",
   "metadata": {},
   "outputs": [],
   "source": [
    "import calculations"
   ]
  },
  {
   "cell_type": "code",
   "execution_count": 44,
   "id": "cc36b983",
   "metadata": {},
   "outputs": [
    {
     "data": {
      "text/plain": [
       "3"
      ]
     },
     "execution_count": 44,
     "metadata": {},
     "output_type": "execute_result"
    }
   ],
   "source": [
    "calculations.add(1,2)"
   ]
  },
  {
   "cell_type": "markdown",
   "id": "d2c9445e",
   "metadata": {},
   "source": [
    "# Import script from a subdirectory"
   ]
  },
  {
   "cell_type": "code",
   "execution_count": 45,
   "id": "55050bc2",
   "metadata": {},
   "outputs": [],
   "source": [
    "import os\n",
    "import sys\n",
    "sys.path.insert(0, os.path.abspath('Scripts'))"
   ]
  },
  {
   "cell_type": "code",
   "execution_count": 46,
   "id": "1dde272a",
   "metadata": {},
   "outputs": [],
   "source": [
    "import twocubes"
   ]
  },
  {
   "cell_type": "code",
   "execution_count": 47,
   "id": "af4415b9",
   "metadata": {},
   "outputs": [
    {
     "data": {
      "text/plain": [
       "28"
      ]
     },
     "execution_count": 47,
     "metadata": {},
     "output_type": "execute_result"
    }
   ],
   "source": [
    "twocubes.twocubes(1,3)"
   ]
  },
  {
   "cell_type": "markdown",
   "id": "b389d1b2",
   "metadata": {},
   "source": [
    "# Import script from a complete different folder"
   ]
  },
  {
   "cell_type": "code",
   "execution_count": 48,
   "id": "ec78d1ad",
   "metadata": {},
   "outputs": [],
   "source": [
    "sys.path.insert(0, os.path.abspath('/Users/andyw/Repositories/P4DS/Module'))"
   ]
  },
  {
   "cell_type": "code",
   "execution_count": 49,
   "id": "fea745f8",
   "metadata": {},
   "outputs": [],
   "source": [
    "import some_module"
   ]
  },
  {
   "cell_type": "code",
   "execution_count": 50,
   "id": "1157b3e2",
   "metadata": {},
   "outputs": [
    {
     "data": {
      "text/plain": [
       "3"
      ]
     },
     "execution_count": 50,
     "metadata": {},
     "output_type": "execute_result"
    }
   ],
   "source": [
    "some_module.g(1,2)"
   ]
  },
  {
   "cell_type": "code",
   "execution_count": 51,
   "id": "df1579cb",
   "metadata": {},
   "outputs": [],
   "source": [
    "import script"
   ]
  },
  {
   "cell_type": "code",
   "execution_count": 52,
   "id": "1c604d68",
   "metadata": {},
   "outputs": [
    {
     "data": {
      "text/plain": [
       "2.0"
      ]
     },
     "execution_count": 52,
     "metadata": {},
     "output_type": "execute_result"
    }
   ],
   "source": [
    "script.f(2,4,3)"
   ]
  },
  {
   "cell_type": "code",
   "execution_count": null,
   "id": "75ff0101",
   "metadata": {},
   "outputs": [],
   "source": []
  }
 ],
 "metadata": {
  "kernelspec": {
   "display_name": "Python 3 (ipykernel)",
   "language": "python",
   "name": "python3"
  },
  "language_info": {
   "codemirror_mode": {
    "name": "ipython",
    "version": 3
   },
   "file_extension": ".py",
   "mimetype": "text/x-python",
   "name": "python",
   "nbconvert_exporter": "python",
   "pygments_lexer": "ipython3",
   "version": "3.9.5"
  }
 },
 "nbformat": 4,
 "nbformat_minor": 5
}

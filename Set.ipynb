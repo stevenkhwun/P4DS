{
 "cells": [
  {
   "cell_type": "markdown",
   "id": "a47ea4da-e3f4-4b09-bb7a-0fa1ad6941b9",
   "metadata": {},
   "source": [
    "# Built-In Data Structures, Functions, and Files\n",
    "\n",
    "This notebook is based on [Chapter 3](https://wesmckinney.com/book/python-builtin) of *Python for Data Analysis (3rd ed.)* by *Wes Mckinney*."
   ]
  },
  {
   "cell_type": "markdown",
   "id": "69a1450e-6b14-4c15-97b7-2a57933d73b4",
   "metadata": {},
   "source": [
    "## Data Structures and Sequences"
   ]
  },
  {
   "cell_type": "markdown",
   "id": "2922789c-bb5f-4807-96d1-a9b3b888a138",
   "metadata": {},
   "source": [
    "### Set\n",
    "\n",
    "*A __`set`__ is an unodered collection of unique elements. A __`set`__ can be created in two ways: via the __`set()`__ function or via a __`set`__ literal with curlt braces.*\r",
    "."
   ]
  },
  {
   "cell_type": "code",
   "execution_count": 1,
   "id": "df6cba14-1d04-4fa0-b06d-dccad0f5e1cf",
   "metadata": {},
   "outputs": [
    {
     "data": {
      "text/plain": [
       "{1, 2, 3}"
      ]
     },
     "execution_count": 1,
     "metadata": {},
     "output_type": "execute_result"
    }
   ],
   "source": [
    "# Create a set\n",
    "set([2, 2, 2, 1, 3, 3])"
   ]
  },
  {
   "cell_type": "code",
   "execution_count": 2,
   "id": "a967b4ba-2d80-4756-8cd0-999da1181a67",
   "metadata": {},
   "outputs": [
    {
     "data": {
      "text/plain": [
       "{1, 2, 3}"
      ]
     },
     "execution_count": 2,
     "metadata": {},
     "output_type": "execute_result"
    }
   ],
   "source": [
    "# Create a set\n",
    "{2, 2, 2, 1, 3, 3}"
   ]
  },
  {
   "cell_type": "markdown",
   "id": "e05006e0-f4de-482d-bdfb-5d59097b2ea6",
   "metadata": {},
   "source": [
    "*Sets support mathematical __set__ operations like union, intersection, difference, and symmetric difference.*"
   ]
  },
  {
   "cell_type": "code",
   "execution_count": 3,
   "id": "cc1a267d-96e3-4d0d-9d83-4297b8af7494",
   "metadata": {},
   "outputs": [],
   "source": [
    "# Set up\n",
    "a = {1, 2, 3, 4, 5}\n",
    "b = {3, 4, 5, 6, 7, 8}"
   ]
  },
  {
   "cell_type": "markdown",
   "id": "971af718-251b-4689-9b49-6ca758209455",
   "metadata": {},
   "source": [
    "__`.add()`__ method"
   ]
  },
  {
   "cell_type": "code",
   "execution_count": 4,
   "id": "b5cddbfe-d89a-4cfc-9011-66ce8e64ebca",
   "metadata": {},
   "outputs": [],
   "source": [
    "# Add element x to a set a\n",
    "a.add(8964)"
   ]
  },
  {
   "cell_type": "code",
   "execution_count": 5,
   "id": "bf182f88-c6f1-4e60-b7e4-cfd8aee89c7d",
   "metadata": {},
   "outputs": [
    {
     "data": {
      "text/plain": [
       "{1, 2, 3, 4, 5, 8964}"
      ]
     },
     "execution_count": 5,
     "metadata": {},
     "output_type": "execute_result"
    }
   ],
   "source": [
    "a"
   ]
  },
  {
   "cell_type": "markdown",
   "id": "c0dcc383-8d3d-4763-bff6-30dcb4874c32",
   "metadata": {},
   "source": [
    "__`.remove()`__ method"
   ]
  },
  {
   "cell_type": "code",
   "execution_count": 6,
   "id": "a4158ce7-4c24-4b8b-b8e9-be86baef9846",
   "metadata": {},
   "outputs": [],
   "source": [
    "# Remove element x from set a\n",
    "a.remove(8964)"
   ]
  },
  {
   "cell_type": "code",
   "execution_count": 7,
   "id": "501c3107-d9c0-4a88-9a2d-166f584133c8",
   "metadata": {},
   "outputs": [
    {
     "data": {
      "text/plain": [
       "{1, 2, 3, 4, 5}"
      ]
     },
     "execution_count": 7,
     "metadata": {},
     "output_type": "execute_result"
    }
   ],
   "source": [
    "a"
   ]
  },
  {
   "cell_type": "markdown",
   "id": "34924b17-de30-4aa5-add2-56fe5806b3bf",
   "metadata": {},
   "source": [
    "__`.union()`__ method or __`a | b`__: All unique elements in `a` and `b`"
   ]
  },
  {
   "cell_type": "code",
   "execution_count": 8,
   "id": "dc997e0a-9b6b-49db-b057-708085d3f942",
   "metadata": {},
   "outputs": [
    {
     "data": {
      "text/plain": [
       "{1, 2, 3, 4, 5, 6, 7, 8}"
      ]
     },
     "execution_count": 8,
     "metadata": {},
     "output_type": "execute_result"
    }
   ],
   "source": [
    "# Union (a and b will not be modified)\n",
    "a.union(b)            # or a | b"
   ]
  },
  {
   "cell_type": "markdown",
   "id": "2d4fc750-2bcd-4d5c-90ff-c3425338d753",
   "metadata": {},
   "source": [
    "__`.intersection()`__ method or __`a & b`__: All of the elements in both `a` and `b`"
   ]
  },
  {
   "cell_type": "code",
   "execution_count": 9,
   "id": "53940cc1-83fb-4938-9fed-ca6114db19df",
   "metadata": {},
   "outputs": [
    {
     "data": {
      "text/plain": [
       "{3, 4, 5}"
      ]
     },
     "execution_count": 9,
     "metadata": {},
     "output_type": "execute_result"
    }
   ],
   "source": [
    "# Intersection (a and b will not be modified)\n",
    "a.intersection(b)     # or a & b"
   ]
  },
  {
   "cell_type": "markdown",
   "id": "46291abf-63b9-4e99-bd46-bc795284e3ca",
   "metadata": {},
   "source": [
    "__`.difference()`__ method or __`a - b`__: The elements in `a` that are not in `b`."
   ]
  },
  {
   "cell_type": "code",
   "execution_count": 10,
   "id": "cbbdc941-3bce-4f12-9709-46532f8e1aec",
   "metadata": {},
   "outputs": [
    {
     "data": {
      "text/plain": [
       "{1, 2}"
      ]
     },
     "execution_count": 10,
     "metadata": {},
     "output_type": "execute_result"
    }
   ],
   "source": [
    "# Difference (a and b will not be modified)\n",
    "a.difference(b)        # or a - b"
   ]
  },
  {
   "cell_type": "markdown",
   "id": "c4f22ab5-a78e-4a0c-9838-504d5b27a2a8",
   "metadata": {},
   "source": [
    "__`.symmetric_difference()`__ method or __`a ^ b`__: All of the elements in either `a` or `b` but not both."
   ]
  },
  {
   "cell_type": "code",
   "execution_count": 11,
   "id": "67eb7dc5-baea-4f33-b1a0-197436e8b959",
   "metadata": {},
   "outputs": [
    {
     "data": {
      "text/plain": [
       "{1, 2, 6, 7, 8}"
      ]
     },
     "execution_count": 11,
     "metadata": {},
     "output_type": "execute_result"
    }
   ],
   "source": [
    "# Symmetric difference (a and b will not be modified)\n",
    "a.symmetric_difference(b)   # or a ^ b"
   ]
  },
  {
   "cell_type": "markdown",
   "id": "1927a6fb-f17c-4af1-aeed-b7f80cc90f05",
   "metadata": {},
   "source": [
    "__`.update()`__ method or __`a |= b`__: Set the contents of `a` to be the union of the elements in `a` and `b`. In other words, `a` will become the union of `a` and `b`."
   ]
  },
  {
   "cell_type": "code",
   "execution_count": 12,
   "id": "c0fad52a-9b5f-441c-98b4-5e30883933a2",
   "metadata": {},
   "outputs": [],
   "source": [
    "# Update (a will be updated)\n",
    "a.update(b)     # or a |= b"
   ]
  },
  {
   "cell_type": "code",
   "execution_count": 13,
   "id": "4b1ddee4-7ba8-4302-8c32-e8faa6a25911",
   "metadata": {},
   "outputs": [
    {
     "data": {
      "text/plain": [
       "{1, 2, 3, 4, 5, 6, 7, 8}"
      ]
     },
     "execution_count": 13,
     "metadata": {},
     "output_type": "execute_result"
    }
   ],
   "source": [
    "a"
   ]
  },
  {
   "cell_type": "markdown",
   "id": "93ac7af1-8486-4079-b6e7-b98a9f9a1ada",
   "metadata": {},
   "source": [
    "__`.intersection_update()`__ method or __`a &= b`__: Set the contents of `a` to be the intersection of the elements in `a` and `b`."
   ]
  },
  {
   "cell_type": "code",
   "execution_count": 14,
   "id": "cf6b7577-c6e2-434f-8ae5-b4c46d251bbc",
   "metadata": {},
   "outputs": [],
   "source": [
    "# Resetting a\n",
    "a = {1, 2, 3, 4, 5}\n",
    "# Intersection update (a will be updated)\n",
    "a.intersection_update(b)    # or a &= b"
   ]
  },
  {
   "cell_type": "code",
   "execution_count": 15,
   "id": "64d0e0b3-e2e4-41a0-ac33-49ef7cf615ba",
   "metadata": {},
   "outputs": [
    {
     "data": {
      "text/plain": [
       "{3, 4, 5}"
      ]
     },
     "execution_count": 15,
     "metadata": {},
     "output_type": "execute_result"
    }
   ],
   "source": [
    "a"
   ]
  },
  {
   "cell_type": "markdown",
   "id": "a0d3a2c2-42ac-4cbf-823d-a3e784efdad0",
   "metadata": {},
   "source": [
    "__`difference_update`__ method or __`a -= b`__: Set `a` to the elements in `a` that are not in `b`."
   ]
  },
  {
   "cell_type": "code",
   "execution_count": 16,
   "id": "7ef9de43-a271-427b-82ff-cca904e20e61",
   "metadata": {},
   "outputs": [],
   "source": [
    "# Resetting a\n",
    "a = {1, 2, 3, 4, 5}\n",
    "# Difference update (a will be updated)\n",
    "a.difference_update(b)    # or a -= b"
   ]
  },
  {
   "cell_type": "code",
   "execution_count": 17,
   "id": "d78902b9-1eb0-4677-88ac-9483e2f315b1",
   "metadata": {},
   "outputs": [
    {
     "data": {
      "text/plain": [
       "{1, 2}"
      ]
     },
     "execution_count": 17,
     "metadata": {},
     "output_type": "execute_result"
    }
   ],
   "source": [
    "a"
   ]
  },
  {
   "cell_type": "markdown",
   "id": "20fbab30-9096-4845-9d35-0cfc5303047d",
   "metadata": {},
   "source": [
    "__`symmetric_difference_update`__ method or __`a ^= b`__: Set `a` to contain the elements in either `a` or `b` but not both."
   ]
  },
  {
   "cell_type": "code",
   "execution_count": 18,
   "id": "980e19e8-b237-4811-9982-6769966cbd38",
   "metadata": {},
   "outputs": [],
   "source": [
    "# Resetting a\n",
    "a = {1, 2, 3, 4, 5}\n",
    "# Symmetric difference update (a will be updated)\n",
    "a.symmetric_difference_update(b)    # or a ^= b"
   ]
  },
  {
   "cell_type": "code",
   "execution_count": 19,
   "id": "439111b9-e617-4382-9f72-68694a25b3d6",
   "metadata": {},
   "outputs": [
    {
     "data": {
      "text/plain": [
       "{1, 2, 6, 7, 8}"
      ]
     },
     "execution_count": 19,
     "metadata": {},
     "output_type": "execute_result"
    }
   ],
   "source": [
    "a"
   ]
  },
  {
   "cell_type": "markdown",
   "id": "c2acf2ad-5948-45b2-94a1-b2871ad5d79d",
   "metadata": {},
   "source": [
    "__`.issubset()`__ method or __`<=`__: `True` if the elements of `a` are all contained in `b`."
   ]
  },
  {
   "cell_type": "code",
   "execution_count": 20,
   "id": "8dd05e9b-19c4-469e-ac8a-1a673d6d311d",
   "metadata": {},
   "outputs": [
    {
     "data": {
      "text/plain": [
       "False"
      ]
     },
     "execution_count": 20,
     "metadata": {},
     "output_type": "execute_result"
    }
   ],
   "source": [
    "# Resetting a\n",
    "a = {1, 2, 3, 4, 5}\n",
    "# Issubset (a and b will not be updated)\n",
    "a.issubset(b)    # or a <= b"
   ]
  },
  {
   "cell_type": "code",
   "execution_count": 21,
   "id": "b444d176-c1fe-41a8-846f-c15ef90654a6",
   "metadata": {},
   "outputs": [
    {
     "data": {
      "text/plain": [
       "True"
      ]
     },
     "execution_count": 21,
     "metadata": {},
     "output_type": "execute_result"
    }
   ],
   "source": [
    "# Another example\n",
    "(a & b) <= a"
   ]
  },
  {
   "cell_type": "code",
   "execution_count": 22,
   "id": "55fc44b1-c255-4ec1-a52a-b81c43c8c069",
   "metadata": {},
   "outputs": [
    {
     "data": {
      "text/plain": [
       "True"
      ]
     },
     "execution_count": 22,
     "metadata": {},
     "output_type": "execute_result"
    }
   ],
   "source": [
    "# Further example\n",
    "a_set = {1, 2, 3, 4, 5}\n",
    "{1, 2, 3}.issubset(a_set)"
   ]
  },
  {
   "cell_type": "markdown",
   "id": "c37bd8b5-10a3-4276-8748-54268c6858a6",
   "metadata": {},
   "source": [
    "__`.issuperset()`__ method or __`>=`__: `True` if the elements of `a` are all contained in `b`."
   ]
  },
  {
   "cell_type": "code",
   "execution_count": 23,
   "id": "633a71bd-edb7-4203-9987-e29684421aaa",
   "metadata": {},
   "outputs": [
    {
     "data": {
      "text/plain": [
       "False"
      ]
     },
     "execution_count": 23,
     "metadata": {},
     "output_type": "execute_result"
    }
   ],
   "source": [
    "# Issuperset (a and b will not be updated)\n",
    "a.issuperset(b)    # or a >= b"
   ]
  },
  {
   "cell_type": "code",
   "execution_count": 24,
   "id": "cb11d623-3fa1-4a13-ac19-3a75f045ad27",
   "metadata": {},
   "outputs": [
    {
     "data": {
      "text/plain": [
       "True"
      ]
     },
     "execution_count": 24,
     "metadata": {},
     "output_type": "execute_result"
    }
   ],
   "source": [
    "# Another example\n",
    "a >= (a & b)"
   ]
  },
  {
   "cell_type": "code",
   "execution_count": 25,
   "id": "a24cea9a-db84-468d-9f30-9219a2ee87bc",
   "metadata": {},
   "outputs": [
    {
     "data": {
      "text/plain": [
       "True"
      ]
     },
     "execution_count": 25,
     "metadata": {},
     "output_type": "execute_result"
    }
   ],
   "source": [
    "# Further example\n",
    "a_set >= {1, 2, 3}"
   ]
  },
  {
   "cell_type": "markdown",
   "id": "3cf05193-8201-4c5a-ba4e-01a87f88413a",
   "metadata": {},
   "source": [
    "__`isdisjoint()`__ method: `True` if `a` and `b` have no elements in common."
   ]
  },
  {
   "cell_type": "code",
   "execution_count": 26,
   "id": "978684ec-0457-4331-aea6-4b6a76c444c6",
   "metadata": {},
   "outputs": [
    {
     "data": {
      "text/plain": [
       "False"
      ]
     },
     "execution_count": 26,
     "metadata": {},
     "output_type": "execute_result"
    }
   ],
   "source": [
    "# isdisjoint (a and b will not be updated)\n",
    "a.isdisjoint(b)"
   ]
  },
  {
   "cell_type": "code",
   "execution_count": 27,
   "id": "e0ce893f-5738-44a0-9cc0-ceb39c86bd03",
   "metadata": {},
   "outputs": [
    {
     "data": {
      "text/plain": [
       "True"
      ]
     },
     "execution_count": 27,
     "metadata": {},
     "output_type": "execute_result"
    }
   ],
   "source": [
    "# Another example\n",
    "(a & b).isdisjoint(a ^ b)"
   ]
  },
  {
   "cell_type": "markdown",
   "id": "26c626ba-0412-43b1-9c42-82a788eff56b",
   "metadata": {},
   "source": [
    "__`a.pop()`__ method: Remove an arbitrary element from set `a`."
   ]
  },
  {
   "cell_type": "code",
   "execution_count": 28,
   "id": "fb0a5187-bd61-4d21-a4e0-4f98ef5a0077",
   "metadata": {},
   "outputs": [
    {
     "data": {
      "text/plain": [
       "1"
      ]
     },
     "execution_count": 28,
     "metadata": {},
     "output_type": "execute_result"
    }
   ],
   "source": [
    "# pop (a will be modified)\n",
    "a.pop()"
   ]
  },
  {
   "cell_type": "code",
   "execution_count": 29,
   "id": "a98c8bb5-3c26-4e7e-9b75-d57e7aed5ab1",
   "metadata": {},
   "outputs": [
    {
     "data": {
      "text/plain": [
       "{2, 3, 4, 5}"
      ]
     },
     "execution_count": 29,
     "metadata": {},
     "output_type": "execute_result"
    }
   ],
   "source": [
    "a"
   ]
  },
  {
   "cell_type": "markdown",
   "id": "7f7eaff1-4a60-493b-a47e-76bf7515b4a3",
   "metadata": {},
   "source": [
    "__`a.clear()`__: Reset set `a` to an empty state, discarding all of its elements"
   ]
  },
  {
   "cell_type": "code",
   "execution_count": 30,
   "id": "73f167af-6369-4f76-9843-d9efcad0b53b",
   "metadata": {},
   "outputs": [],
   "source": [
    "# clear (a will be modified)\n",
    "a.clear()"
   ]
  },
  {
   "cell_type": "code",
   "execution_count": 31,
   "id": "3bcdf3fd-e74d-4d8e-8a89-8d649ac9eeb9",
   "metadata": {},
   "outputs": [
    {
     "data": {
      "text/plain": [
       "set()"
      ]
     },
     "execution_count": 31,
     "metadata": {},
     "output_type": "execute_result"
    }
   ],
   "source": [
    "a"
   ]
  },
  {
   "cell_type": "markdown",
   "id": "882a40b8-d724-4778-9906-eb2cfd715364",
   "metadata": {},
   "source": [
    "__`.copy()`__ method: Copy a set"
   ]
  },
  {
   "cell_type": "code",
   "execution_count": 32,
   "id": "385dfd5c-f45d-48f8-a8f4-a93a1c63114e",
   "metadata": {},
   "outputs": [],
   "source": [
    "c = a.copy()"
   ]
  },
  {
   "cell_type": "code",
   "execution_count": 33,
   "id": "d9ff2e14-1aaa-440c-ada0-ce0b94ad1679",
   "metadata": {},
   "outputs": [
    {
     "data": {
      "text/plain": [
       "set()"
      ]
     },
     "execution_count": 33,
     "metadata": {},
     "output_type": "execute_result"
    }
   ],
   "source": [
    "c"
   ]
  },
  {
   "cell_type": "markdown",
   "id": "acf3a9f6-3d52-4d60-842b-4eacf8bb6073",
   "metadata": {},
   "source": [
    "*Sets are equal if and only if their contents are equal.*"
   ]
  },
  {
   "cell_type": "code",
   "execution_count": 34,
   "id": "7c237cbf-4260-4a7c-8ad7-771ffd271f1d",
   "metadata": {},
   "outputs": [
    {
     "data": {
      "text/plain": [
       "True"
      ]
     },
     "execution_count": 34,
     "metadata": {},
     "output_type": "execute_result"
    }
   ],
   "source": [
    "{1, 2, 3} == {3, 2, 1}"
   ]
  },
  {
   "cell_type": "code",
   "execution_count": 35,
   "id": "b4285f7a-ae5f-4a1b-8ab6-5e0f601f5bcc",
   "metadata": {},
   "outputs": [
    {
     "data": {
      "text/plain": [
       "True"
      ]
     },
     "execution_count": 35,
     "metadata": {},
     "output_type": "execute_result"
    }
   ],
   "source": [
    "{1, 2, 3} == {3, 3, 2, 1}"
   ]
  },
  {
   "cell_type": "code",
   "execution_count": 36,
   "id": "6cea1b2b-c714-4c42-b235-958bdfd0a752",
   "metadata": {},
   "outputs": [
    {
     "data": {
      "text/plain": [
       "False"
      ]
     },
     "execution_count": 36,
     "metadata": {},
     "output_type": "execute_result"
    }
   ],
   "source": [
    "{1, 2, 3} == {3, 2}"
   ]
  }
 ],
 "metadata": {
  "kernelspec": {
   "display_name": "Python 3 (ipykernel)",
   "language": "python",
   "name": "python3"
  },
  "language_info": {
   "codemirror_mode": {
    "name": "ipython",
    "version": 3
   },
   "file_extension": ".py",
   "mimetype": "text/x-python",
   "name": "python",
   "nbconvert_exporter": "python",
   "pygments_lexer": "ipython3",
   "version": "3.11.5"
  }
 },
 "nbformat": 4,
 "nbformat_minor": 5
}

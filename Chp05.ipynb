{
 "cells": [
  {
   "cell_type": "markdown",
   "metadata": {
    "colab_type": "text",
    "id": "view-in-github"
   },
   "source": [
    "<a href=\"https://colab.research.google.com/github/stevenkhwun/P4DS/blob/main/Chp05.ipynb\" target=\"_parent\"><img src=\"https://colab.research.google.com/assets/colab-badge.svg\" alt=\"Open In Colab\"/></a>"
   ]
  },
  {
   "cell_type": "markdown",
   "metadata": {
    "id": "wC34D_lKgZtu"
   },
   "source": [
    "# Chapter 5: Getting Started with pandas"
   ]
  },
  {
   "cell_type": "code",
   "execution_count": null,
   "metadata": {
    "id": "sTIcTnzVdxou"
   },
   "outputs": [],
   "source": [
    "import numpy as np\n",
    "import pandas as pd"
   ]
  },
  {
   "cell_type": "markdown",
   "metadata": {
    "id": "M2Ol67_Xetij"
   },
   "source": [
    "To create a Series object using `Series()` function in pandas, you need to specify the function `Series()` is from pandas, that is by specifying `pd.Series()` as in the following example."
   ]
  },
  {
   "cell_type": "code",
   "execution_count": null,
   "metadata": {
    "colab": {
     "base_uri": "https://localhost:8080/"
    },
    "id": "TM5L0TY2d7WE",
    "outputId": "af7c85b2-6a63-43b0-f827-13333806478b"
   },
   "outputs": [
    {
     "data": {
      "text/plain": [
       "0    4\n",
       "1    7\n",
       "2   -5\n",
       "3    3\n",
       "dtype: int64"
      ]
     },
     "execution_count": 6,
     "metadata": {},
     "output_type": "execute_result"
    }
   ],
   "source": [
    "# Create a Series object by pd.Series()\n",
    "obj = pd.Series([4, 7, -5, 3])\n",
    "obj"
   ]
  },
  {
   "cell_type": "markdown",
   "metadata": {
    "id": "wJiXwthGfV5J"
   },
   "source": [
    "Since some functions, such as `Series()` and `DataFrame()` in pandas are so frequently used, it is much convenient in writing codes if you import `Series` and `DataFrame` into the local namespace in advance by the following code."
   ]
  },
  {
   "cell_type": "code",
   "execution_count": null,
   "metadata": {
    "id": "nZgR3OJreo6a"
   },
   "outputs": [],
   "source": [
    "# Import functions from pandas\n",
    "from pandas import Series, DataFrame"
   ]
  },
  {
   "cell_type": "markdown",
   "metadata": {
    "id": "xwzvadnFgBRZ"
   },
   "source": [
    "The codes written thereafter will be much simplier, just as follow."
   ]
  },
  {
   "cell_type": "code",
   "execution_count": null,
   "metadata": {
    "colab": {
     "base_uri": "https://localhost:8080/"
    },
    "id": "IAvMpGD7eQOI",
    "outputId": "efec83cc-86d0-4931-ddd8-227a911c4622"
   },
   "outputs": [
    {
     "data": {
      "text/plain": [
       "0    14\n",
       "1    27\n",
       "2   -35\n",
       "3    43\n",
       "dtype: int64"
      ]
     },
     "execution_count": 9,
     "metadata": {},
     "output_type": "execute_result"
    }
   ],
   "source": [
    "# Create a Series object by Series()\n",
    "obj2 = Series([14, 27, -35, 43])\n",
    "obj2"
   ]
  }
 ],
 "metadata": {
  "colab": {
   "authorship_tag": "ABX9TyO3a8F+ad/elx1jnikqHcYg",
   "include_colab_link": true,
   "provenance": [],
   "toc_visible": true
  },
  "kernelspec": {
   "display_name": "Python 3 (ipykernel)",
   "language": "python",
   "name": "python3"
  },
  "language_info": {
   "codemirror_mode": {
    "name": "ipython",
    "version": 3
   },
   "file_extension": ".py",
   "mimetype": "text/x-python",
   "name": "python",
   "nbconvert_exporter": "python",
   "pygments_lexer": "ipython3",
   "version": "3.11.5"
  }
 },
 "nbformat": 4,
 "nbformat_minor": 4
}

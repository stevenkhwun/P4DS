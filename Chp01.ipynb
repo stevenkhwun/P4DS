{
  "nbformat": 4,
  "nbformat_minor": 0,
  "metadata": {
    "colab": {
      "provenance": [],
      "authorship_tag": "ABX9TyO6Fqhq5G1m8bPIQkzYFzBQ",
      "include_colab_link": true
    },
    "kernelspec": {
      "name": "python3",
      "display_name": "Python 3"
    },
    "language_info": {
      "name": "python"
    }
  },
  "cells": [
    {
      "cell_type": "markdown",
      "metadata": {
        "id": "view-in-github",
        "colab_type": "text"
      },
      "source": [
        "<a href=\"https://colab.research.google.com/github/stevenkhwun/P4DS/blob/main/Chp01.ipynb\" target=\"_parent\"><img src=\"https://colab.research.google.com/assets/colab-badge.svg\" alt=\"Open In Colab\"/></a>"
      ]
    },
    {
      "cell_type": "markdown",
      "source": [
        "# Import custom modules\n",
        "\n",
        "In Python, a module is simply a file with the `.py` extension containing Python code. Suppose we had the following module:\n",
        "\n",
        "```python\n",
        "# some_module.py\n",
        "PI = 3.14159\n",
        "\n",
        "def f(x):\n",
        "    return x + 2\n",
        "    \n",
        "def g(a, b):\n",
        "    return a + b\n",
        "```\n",
        "\n",
        "To import a module, the `.py` module file should be put into the same folder or the path of the location of the file be stated in the command:\n",
        "```python\n",
        "# In the same folder\n",
        "import module_name   # .py not necessary\n",
        "\n",
        "# In different folder\n",
        "import \\Module\\module_name   # import from a subfolder Module\n",
        "```\n",
        "\n",
        "The following example demonstrates importing a module in the Colab environment and some more steps are needed. Since Colab is a Jupyter Notebook environment working in the cloud and it cannot access the file in the hard drive of a computer, we need first upload the module file to the cloud and make it accessable by the Jupyter Notebook.\n",
        "\n"
      ],
      "metadata": {
        "id": "KMFTTpzv3kZU"
      }
    },
    {
      "cell_type": "markdown",
      "source": [
        "## Colab operations\n",
        "\n",
        "First you need to upload the custom module file to your Google drive. In this example, the `some_module.py` file is uploaded to the sub-directory `\\Modules` in the Google drive.\n",
        "\n",
        "To make the module file accessible by Jupyter Notebook, you need to copy the module file to the working directory of the notebook. To check the working directory of the notebook, you can use the following command:\n"
      ],
      "metadata": {
        "id": "Rd9lMcr7-ovD"
      }
    },
    {
      "cell_type": "code",
      "source": [
        "# Check your Colab temporary path\n",
        "!pwd"
      ],
      "metadata": {
        "id": "x0DTGIwWAprS",
        "outputId": "6b680033-a267-4869-ddf3-1c09b3c159bf",
        "colab": {
          "base_uri": "https://localhost:8080/"
        }
      },
      "execution_count": 2,
      "outputs": [
        {
          "output_type": "stream",
          "name": "stdout",
          "text": [
            "/content\n"
          ]
        }
      ]
    },
    {
      "cell_type": "markdown",
      "source": [
        "Before you can copy the file to the working directory, you need to mount your Google drive to Google Colab."
      ],
      "metadata": {
        "id": "-pqBsx6pAuKJ"
      }
    },
    {
      "cell_type": "code",
      "source": [
        "# Mount your Google drive to Google Colab\n",
        "from google.colab import drive\n",
        "drive.mount('/content/drive')"
      ],
      "metadata": {
        "colab": {
          "base_uri": "https://localhost:8080/"
        },
        "id": "oPcZgqvj0DBG",
        "outputId": "e12bdb8d-5627-4ed2-90b7-b3f35d6adf55"
      },
      "execution_count": 3,
      "outputs": [
        {
          "output_type": "stream",
          "name": "stdout",
          "text": [
            "Drive already mounted at /content/drive; to attempt to forcibly remount, call drive.mount(\"/content/drive\", force_remount=True).\n"
          ]
        }
      ]
    },
    {
      "cell_type": "markdown",
      "source": [
        "You can check the file directory by clicking on the left panel of the Colab environment. You can also check the working directory again."
      ],
      "metadata": {
        "id": "nX91SwmzBhbg"
      }
    },
    {
      "cell_type": "code",
      "source": [
        "# Check your Colab temporary path\n",
        "!pwd"
      ],
      "metadata": {
        "colab": {
          "base_uri": "https://localhost:8080/"
        },
        "id": "Hk7xXZzhrJXr",
        "outputId": "cafc2385-0efb-40d7-b600-b7438a112eb4"
      },
      "execution_count": 4,
      "outputs": [
        {
          "output_type": "stream",
          "name": "stdout",
          "text": [
            "/content\n"
          ]
        }
      ]
    },
    {
      "cell_type": "markdown",
      "source": [
        "Now you can copy the custom module from Google Drive to Colab temporary drive."
      ],
      "metadata": {
        "id": "xuF-DRcYB0eJ"
      }
    },
    {
      "cell_type": "code",
      "source": [
        "# Copy custom module from Google Drive to Colab temporary drive \n",
        "# !cp [path of your custom module] [path where you like to copy]\n",
        "! cp /content/drive/MyDrive/Modules/some_module.py /content/"
      ],
      "metadata": {
        "id": "OHxuzDKn1VR9"
      },
      "execution_count": 5,
      "outputs": []
    },
    {
      "cell_type": "markdown",
      "source": [
        "## Running the custom module\n",
        "\n",
        "The module file has now been copied to the Colab temporary drive and you can import the module by the following command:"
      ],
      "metadata": {
        "id": "m1JZDXJeCwaQ"
      }
    },
    {
      "cell_type": "code",
      "source": [
        "# Import the module\n",
        "import some_module"
      ],
      "metadata": {
        "id": "3G_nqym33O5x"
      },
      "execution_count": 7,
      "outputs": []
    },
    {
      "cell_type": "code",
      "source": [
        "# Run the function in the module\n",
        "result = some_module.f(5)   # Run f\n",
        "pi = some_module.PI         # Obtain the constant stated in the module\n",
        "\n",
        "# Print the results\n",
        "print(result)\n",
        "print(pi)"
      ],
      "metadata": {
        "id": "lo3z92Yw3VDn",
        "outputId": "5a8cddca-f4f9-4d81-9c2d-9ae5f112199a",
        "colab": {
          "base_uri": "https://localhost:8080/"
        }
      },
      "execution_count": 11,
      "outputs": [
        {
          "output_type": "stream",
          "name": "stdout",
          "text": [
            "7\n",
            "3.14159\n"
          ]
        }
      ]
    },
    {
      "cell_type": "markdown",
      "source": [
        "To directly use the function in the module, use the following command:"
      ],
      "metadata": {
        "id": "m-ARjukUDsJC"
      }
    },
    {
      "cell_type": "code",
      "source": [
        "# Directly import function in a module\n",
        "from some_module import g, PI\n",
        "\n",
        "# Run the function\n",
        "results = g(1, 10)\n",
        "print(results)\n",
        "print(PI)"
      ],
      "metadata": {
        "id": "dJExY7t23U4g",
        "outputId": "7e0d2ec5-31dd-48ec-b292-f1dcb2dcdafe",
        "colab": {
          "base_uri": "https://localhost:8080/"
        }
      },
      "execution_count": 12,
      "outputs": [
        {
          "output_type": "stream",
          "name": "stdout",
          "text": [
            "11\n",
            "3.14159\n"
          ]
        }
      ]
    },
    {
      "cell_type": "markdown",
      "source": [
        "Finally, your can also using the `as` keyword to give imports different variable names:"
      ],
      "metadata": {
        "id": "_J8En0ENEeiB"
      }
    },
    {
      "cell_type": "code",
      "source": [
        "# Use as keyword\n",
        "import some_module as sm\n",
        "from some_module import PI as pi, g as gf\n",
        "\n",
        "# Run the function\n",
        "r1 = sm.f(pi)\n",
        "r2 = gf(6, pi)\n",
        "print(r1)\n",
        "print(r2)"
      ],
      "metadata": {
        "id": "1E8YjwM1Eqvx",
        "outputId": "3b3eed2f-fb13-4dc8-bbd5-d6c7dbc7d0a3",
        "colab": {
          "base_uri": "https://localhost:8080/"
        }
      },
      "execution_count": 13,
      "outputs": [
        {
          "output_type": "stream",
          "name": "stdout",
          "text": [
            "5.14159\n",
            "9.14159\n"
          ]
        }
      ]
    },
    {
      "cell_type": "markdown",
      "source": [
        "This is the end of the document."
      ],
      "metadata": {
        "id": "7IkWQJ39FNQD"
      }
    },
    {
      "cell_type": "code",
      "source": [
        "# An element appending function\n",
        "def append_element(some_list, element):\n",
        "  some_list.append(element)"
      ],
      "metadata": {
        "id": "jlMxw0IArJJZ"
      },
      "execution_count": null,
      "outputs": []
    },
    {
      "cell_type": "code",
      "source": [
        "data = [1, 2, 3]\n",
        "append_element(data, 100)\n",
        "data"
      ],
      "metadata": {
        "colab": {
          "base_uri": "https://localhost:8080/"
        },
        "id": "_OFAdxY6rU-x",
        "outputId": "53f3d27d-43a9-4bfd-f8b9-5bbddea7ada4"
      },
      "execution_count": null,
      "outputs": [
        {
          "output_type": "execute_result",
          "data": {
            "text/plain": [
              "[1, 2, 3, 100]"
            ]
          },
          "metadata": {},
          "execution_count": 4
        }
      ]
    },
    {
      "cell_type": "code",
      "source": [
        "b = [1, 2, 3]\n",
        "b?"
      ],
      "metadata": {
        "id": "qh4vvs43ViQD"
      },
      "execution_count": null,
      "outputs": []
    },
    {
      "cell_type": "code",
      "execution_count": null,
      "metadata": {
        "colab": {
          "base_uri": "https://localhost:8080/"
        },
        "id": "APQ2-4t4VRq3",
        "outputId": "398df3d2-46a1-4e0e-d375-a0bd9ca66a9a"
      },
      "outputs": [
        {
          "output_type": "execute_result",
          "data": {
            "text/plain": [
              "1"
            ]
          },
          "metadata": {},
          "execution_count": 16
        }
      ],
      "source": [
        "a = \"foo goo\"\n",
        "a.count(\"f\")"
      ]
    },
    {
      "cell_type": "code",
      "source": [
        "type(a)"
      ],
      "metadata": {
        "colab": {
          "base_uri": "https://localhost:8080/"
        },
        "id": "NiYdqsvitp4w",
        "outputId": "ef7661dd-e9a8-49dc-85c1-78f38c98e52b"
      },
      "execution_count": null,
      "outputs": [
        {
          "output_type": "execute_result",
          "data": {
            "text/plain": [
              "str"
            ]
          },
          "metadata": {},
          "execution_count": 17
        }
      ]
    },
    {
      "cell_type": "code",
      "source": [
        "n = 689\n",
        "type(n)"
      ],
      "metadata": {
        "colab": {
          "base_uri": "https://localhost:8080/"
        },
        "id": "uM8PookWs80Z",
        "outputId": "ec6c1d8a-7f96-4498-85ec-c468ba8d2a2c"
      },
      "execution_count": null,
      "outputs": [
        {
          "output_type": "execute_result",
          "data": {
            "text/plain": [
              "int"
            ]
          },
          "metadata": {},
          "execution_count": 18
        }
      ]
    },
    {
      "cell_type": "code",
      "source": [
        "n.real"
      ],
      "metadata": {
        "colab": {
          "base_uri": "https://localhost:8080/"
        },
        "id": "sIgrGQCBt32D",
        "outputId": "536e6d81-7b1d-4e41-b910-3c870edbed32"
      },
      "execution_count": null,
      "outputs": [
        {
          "output_type": "execute_result",
          "data": {
            "text/plain": [
              "689"
            ]
          },
          "metadata": {},
          "execution_count": 20
        }
      ]
    }
  ]
}
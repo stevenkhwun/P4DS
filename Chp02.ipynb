{
  "nbformat": 4,
  "nbformat_minor": 0,
  "metadata": {
    "colab": {
      "provenance": [],
      "toc_visible": true,
      "authorship_tag": "ABX9TyPJ7c+YvAKfM0AJt+ajnizy",
      "include_colab_link": true
    },
    "kernelspec": {
      "name": "python3",
      "display_name": "Python 3"
    },
    "language_info": {
      "name": "python"
    }
  },
  "cells": [
    {
      "cell_type": "markdown",
      "metadata": {
        "id": "view-in-github",
        "colab_type": "text"
      },
      "source": [
        "<a href=\"https://colab.research.google.com/github/stevenkhwun/P4DS/blob/main/Chp02.ipynb\" target=\"_parent\"><img src=\"https://colab.research.google.com/assets/colab-badge.svg\" alt=\"Open In Colab\"/></a>"
      ]
    },
    {
      "cell_type": "markdown",
      "source": [
        "# Built-In Data Structures, Functions, and Files"
      ],
      "metadata": {
        "id": "6RfaKJkRt2ug"
      }
    },
    {
      "cell_type": "markdown",
      "source": [
        "## Data Structures and Sequences"
      ],
      "metadata": {
        "id": "Urpy_2G4t7Qg"
      }
    },
    {
      "cell_type": "markdown",
      "source": [
        "### Tuple\n",
        "\n",
        "A tuple is a fixed-length, immutable sequence of Python objects which, once assigned, cannot be changed."
      ],
      "metadata": {
        "id": "tSwrt_36c9yz"
      }
    },
    {
      "cell_type": "code",
      "source": [
        "# Create a tuple (with parentheses)\n",
        "tup1 = (4, 5, 6)\n",
        "tup1"
      ],
      "metadata": {
        "colab": {
          "base_uri": "https://localhost:8080/"
        },
        "id": "wdsf1VVbs_AM",
        "outputId": "ccbcd0b2-845e-4e2c-fce3-68565802bcde"
      },
      "execution_count": null,
      "outputs": [
        {
          "output_type": "execute_result",
          "data": {
            "text/plain": [
              "(4, 5, 6)"
            ]
          },
          "metadata": {},
          "execution_count": 2
        }
      ]
    },
    {
      "cell_type": "code",
      "source": [
        "# Create a tuple (without parentheses)\n",
        "tup2 = 7, 8, 9\n",
        "tup2"
      ],
      "metadata": {
        "id": "QOqsMQH3drTB",
        "outputId": "1d0febe9-e1c9-4e23-a755-be0671c664f6",
        "colab": {
          "base_uri": "https://localhost:8080/"
        }
      },
      "execution_count": null,
      "outputs": [
        {
          "output_type": "execute_result",
          "data": {
            "text/plain": [
              "(7, 8, 9)"
            ]
          },
          "metadata": {},
          "execution_count": 3
        }
      ]
    },
    {
      "cell_type": "markdown",
      "source": [
        "#### Converting any sequence or iterator to a tuple by invoking `tuple`"
      ],
      "metadata": {
        "id": "EDq3O9-Ped41"
      }
    },
    {
      "cell_type": "code",
      "source": [
        "# Convert a list into a tuple\n",
        "tuple([4, 0, 2])"
      ],
      "metadata": {
        "id": "LUaL-nV3eVFS",
        "outputId": "a75ede3e-da73-4ee9-c66a-554af78ff4d5",
        "colab": {
          "base_uri": "https://localhost:8080/"
        }
      },
      "execution_count": null,
      "outputs": [
        {
          "output_type": "execute_result",
          "data": {
            "text/plain": [
              "(4, 0, 2)"
            ]
          },
          "metadata": {},
          "execution_count": 5
        }
      ]
    },
    {
      "cell_type": "code",
      "source": [
        "# Convert a string into a tuple\n",
        "tup3 = tuple('string')\n",
        "tup3"
      ],
      "metadata": {
        "id": "F68vwoZTeyd4",
        "outputId": "6438cc10-c7dd-4517-b253-43b91cffe02d",
        "colab": {
          "base_uri": "https://localhost:8080/"
        }
      },
      "execution_count": null,
      "outputs": [
        {
          "output_type": "execute_result",
          "data": {
            "text/plain": [
              "('s', 't', 'r', 'i', 'n', 'g')"
            ]
          },
          "metadata": {},
          "execution_count": 7
        }
      ]
    },
    {
      "cell_type": "markdown",
      "source": [
        "#### Accessing elements by `[]`"
      ],
      "metadata": {
        "id": "OlvNBtDpfOTP"
      }
    },
    {
      "cell_type": "code",
      "source": [
        "# Accessing elements of tuple\n",
        "tup3[0]"
      ],
      "metadata": {
        "id": "z6TWdZVwfULq",
        "outputId": "7f2dc597-129d-41c6-ece9-d18f6b0af46b",
        "colab": {
          "base_uri": "https://localhost:8080/",
          "height": 35
        }
      },
      "execution_count": null,
      "outputs": [
        {
          "output_type": "execute_result",
          "data": {
            "text/plain": [
              "'s'"
            ],
            "application/vnd.google.colaboratory.intrinsic+json": {
              "type": "string"
            }
          },
          "metadata": {},
          "execution_count": 9
        }
      ]
    },
    {
      "cell_type": "markdown",
      "source": [
        "#### Complicated tuples"
      ],
      "metadata": {
        "id": "hxzlmKoEu-Ej"
      }
    },
    {
      "cell_type": "code",
      "source": [
        "# Create complicated tuples by enclosing the values in parentheses\n",
        "nested_tup = (4, 5, 6), (7, 8)\n",
        "nested_tup"
      ],
      "metadata": {
        "id": "yve0gjGfgGue",
        "outputId": "cabbe20b-ceca-41d5-dc4b-a3439c890aab",
        "colab": {
          "base_uri": "https://localhost:8080/"
        }
      },
      "execution_count": null,
      "outputs": [
        {
          "output_type": "execute_result",
          "data": {
            "text/plain": [
              "((4, 5, 6), (7, 8))"
            ]
          },
          "metadata": {},
          "execution_count": 10
        }
      ]
    },
    {
      "cell_type": "code",
      "source": [
        "# Accessing the value of a complicated tuple\n",
        "nested_tup[0]"
      ],
      "metadata": {
        "id": "X7kkY5G7gqrP",
        "outputId": "91951bfe-73f3-4327-d884-d926d9750f1d",
        "colab": {
          "base_uri": "https://localhost:8080/"
        }
      },
      "execution_count": null,
      "outputs": [
        {
          "output_type": "execute_result",
          "data": {
            "text/plain": [
              "(4, 5, 6)"
            ]
          },
          "metadata": {},
          "execution_count": 11
        }
      ]
    },
    {
      "cell_type": "markdown",
      "source": [
        "#### Mutable elements in a tuple\n",
        "\n",
        "While the objects stored in a tuple may be mutable themselves, once the tuple is created it's not possible to modify which object is stored in each slot:"
      ],
      "metadata": {
        "id": "TVJ41T5D0Dk6"
      }
    },
    {
      "cell_type": "code",
      "source": [
        "# Creating a tuple with different type of objects\n",
        "tup4 = ('foo'), [1, 2], (True)\n",
        "tup4"
      ],
      "metadata": {
        "id": "oAf-rMPXhflf",
        "outputId": "17eea178-1868-4561-9288-86341d573d6a",
        "colab": {
          "base_uri": "https://localhost:8080/"
        }
      },
      "execution_count": null,
      "outputs": [
        {
          "output_type": "execute_result",
          "data": {
            "text/plain": [
              "('foo', [1, 2], True)"
            ]
          },
          "metadata": {},
          "execution_count": 12
        }
      ]
    },
    {
      "cell_type": "code",
      "source": [
        "# Another way to create the same tuple\n",
        "tup5 =  ('foo', [1, 2], True)\n",
        "tup5"
      ],
      "metadata": {
        "id": "PLTlN37Ah2p7",
        "outputId": "8eba703c-47be-4149-b430-e67e23c160d5",
        "colab": {
          "base_uri": "https://localhost:8080/"
        }
      },
      "execution_count": null,
      "outputs": [
        {
          "output_type": "execute_result",
          "data": {
            "text/plain": [
              "('foo', [1, 2], True)"
            ]
          },
          "metadata": {},
          "execution_count": 21
        }
      ]
    },
    {
      "cell_type": "code",
      "source": [
        "# Checking equivalence of the tuples\n",
        "tup4 == tup5"
      ],
      "metadata": {
        "id": "H5tBGW1YiDkd",
        "outputId": "48ad98f5-3565-46fb-d186-c74b41e00d15",
        "colab": {
          "base_uri": "https://localhost:8080/"
        }
      },
      "execution_count": null,
      "outputs": [
        {
          "output_type": "execute_result",
          "data": {
            "text/plain": [
              "True"
            ]
          },
          "metadata": {},
          "execution_count": 22
        }
      ]
    },
    {
      "cell_type": "code",
      "source": [
        "# Elements in a tuple cannot be modified\n",
        "tup4[2] = False"
      ],
      "metadata": {
        "id": "flAgJlQwi_8k",
        "outputId": "2b85e253-2c00-4f65-f805-a81845cce2b0",
        "colab": {
          "base_uri": "https://localhost:8080/",
          "height": 184
        }
      },
      "execution_count": null,
      "outputs": [
        {
          "output_type": "error",
          "ename": "TypeError",
          "evalue": "ignored",
          "traceback": [
            "\u001b[0;31m---------------------------------------------------------------------------\u001b[0m",
            "\u001b[0;31mTypeError\u001b[0m                                 Traceback (most recent call last)",
            "\u001b[0;32m<ipython-input-18-7a93537ed3e3>\u001b[0m in \u001b[0;36m<cell line: 2>\u001b[0;34m()\u001b[0m\n\u001b[1;32m      1\u001b[0m \u001b[0;31m# Elements in a tuple cannot be modified\u001b[0m\u001b[0;34m\u001b[0m\u001b[0;34m\u001b[0m\u001b[0m\n\u001b[0;32m----> 2\u001b[0;31m \u001b[0mtup4\u001b[0m\u001b[0;34m[\u001b[0m\u001b[0;36m2\u001b[0m\u001b[0;34m]\u001b[0m \u001b[0;34m=\u001b[0m \u001b[0;32mFalse\u001b[0m\u001b[0;34m\u001b[0m\u001b[0;34m\u001b[0m\u001b[0m\n\u001b[0m",
            "\u001b[0;31mTypeError\u001b[0m: 'tuple' object does not support item assignment"
          ]
        }
      ]
    },
    {
      "cell_type": "code",
      "source": [
        "# Modifying an mutable object in a tuple\n",
        "tup4[1].append(3)\n",
        "tup4"
      ],
      "metadata": {
        "id": "QoUZiT7uju1Z",
        "outputId": "2a80984b-fd1e-4f18-a5a7-a6a5419d185f",
        "colab": {
          "base_uri": "https://localhost:8080/"
        }
      },
      "execution_count": null,
      "outputs": [
        {
          "output_type": "execute_result",
          "data": {
            "text/plain": [
              "('foo', [1, 2, 3], True)"
            ]
          },
          "metadata": {},
          "execution_count": 23
        }
      ]
    },
    {
      "cell_type": "markdown",
      "source": [
        "#### Concatenating tuples using the `+` operator"
      ],
      "metadata": {
        "id": "90P9m8ZRk4DJ"
      }
    },
    {
      "cell_type": "code",
      "source": [
        "# Concatentating tuples\n",
        "# Note the end , is needed if a tuple contain only one 'string' element\n",
        "tup6 = (4, None, 'foo') + (6, 0)\n",
        "tup6"
      ],
      "metadata": {
        "id": "nWh2TXI4j6WT",
        "outputId": "e32a2edc-54fb-4f1e-8c94-1f97672fb567",
        "colab": {
          "base_uri": "https://localhost:8080/"
        }
      },
      "execution_count": null,
      "outputs": [
        {
          "output_type": "execute_result",
          "data": {
            "text/plain": [
              "(4, None, 'foo', 6, 0)"
            ]
          },
          "metadata": {},
          "execution_count": 40
        }
      ]
    },
    {
      "cell_type": "code",
      "source": [
        "# Creating tuple with only one string\n",
        "# Note the end , is needed if a tuple contain only one 'string' element\n",
        "k = ('bar',)\n",
        "print(k)\n",
        "type(k)"
      ],
      "metadata": {
        "id": "c2j_Nqdvl5D5",
        "outputId": "c3887285-2ae8-4fc7-d387-0614782886b8",
        "colab": {
          "base_uri": "https://localhost:8080/"
        }
      },
      "execution_count": null,
      "outputs": [
        {
          "output_type": "stream",
          "name": "stdout",
          "text": [
            "('bar',)\n"
          ]
        },
        {
          "output_type": "execute_result",
          "data": {
            "text/plain": [
              "tuple"
            ]
          },
          "metadata": {},
          "execution_count": 37
        }
      ]
    },
    {
      "cell_type": "code",
      "source": [
        "# Concatentating tuples\n",
        "tup6 + k"
      ],
      "metadata": {
        "id": "bpWasrMemgI3",
        "outputId": "816d88d0-d378-4fcc-d7f0-957b9b25da28",
        "colab": {
          "base_uri": "https://localhost:8080/"
        }
      },
      "execution_count": null,
      "outputs": [
        {
          "output_type": "execute_result",
          "data": {
            "text/plain": [
              "(4, None, 'foo', 6, 0, 'bar')"
            ]
          },
          "metadata": {},
          "execution_count": 42
        }
      ]
    },
    {
      "cell_type": "markdown",
      "source": [
        "#### Multiplying a tuple by an integer"
      ],
      "metadata": {
        "id": "Cj9KejZ90cWV"
      }
    },
    {
      "cell_type": "code",
      "source": [
        "# Multiplying a tuple\n",
        "('foo', 'bar') * 4"
      ],
      "metadata": {
        "colab": {
          "base_uri": "https://localhost:8080/"
        },
        "id": "g6Qe2cX4swor",
        "outputId": "96d572af-52cf-4a14-9421-b03328b7a62a"
      },
      "execution_count": null,
      "outputs": [
        {
          "output_type": "execute_result",
          "data": {
            "text/plain": [
              "('foo', 'bar', 'foo', 'bar', 'foo', 'bar', 'foo', 'bar')"
            ]
          },
          "metadata": {},
          "execution_count": 43
        }
      ]
    },
    {
      "cell_type": "markdown",
      "source": [
        "# Basic descriptive statistics"
      ],
      "metadata": {
        "id": "rldDQ_4l1HKT"
      }
    },
    {
      "cell_type": "code",
      "source": [
        "# Import necessary library\n",
        "import pandas as pd\n",
        "import numpy as np\n",
        "import scipy.stats\n",
        "import wquantiles"
      ],
      "metadata": {
        "colab": {
          "base_uri": "https://localhost:8080/",
          "height": 340
        },
        "id": "mIuWCcb21c56",
        "outputId": "7b6fac7f-e0b0-4686-8a0f-17cc643a17a2"
      },
      "execution_count": 6,
      "outputs": [
        {
          "output_type": "error",
          "ename": "ModuleNotFoundError",
          "evalue": "ignored",
          "traceback": [
            "\u001b[0;31m---------------------------------------------------------------------------\u001b[0m",
            "\u001b[0;31mModuleNotFoundError\u001b[0m                       Traceback (most recent call last)",
            "\u001b[0;32m<ipython-input-6-512da2c3ba81>\u001b[0m in \u001b[0;36m<cell line: 5>\u001b[0;34m()\u001b[0m\n\u001b[1;32m      3\u001b[0m \u001b[0;32mimport\u001b[0m \u001b[0mnumpy\u001b[0m \u001b[0;32mas\u001b[0m \u001b[0mnp\u001b[0m\u001b[0;34m\u001b[0m\u001b[0;34m\u001b[0m\u001b[0m\n\u001b[1;32m      4\u001b[0m \u001b[0;32mimport\u001b[0m \u001b[0mscipy\u001b[0m\u001b[0;34m.\u001b[0m\u001b[0mstats\u001b[0m\u001b[0;34m\u001b[0m\u001b[0;34m\u001b[0m\u001b[0m\n\u001b[0;32m----> 5\u001b[0;31m \u001b[0;32mimport\u001b[0m \u001b[0mwquantiles\u001b[0m\u001b[0;34m\u001b[0m\u001b[0;34m\u001b[0m\u001b[0m\n\u001b[0m",
            "\u001b[0;31mModuleNotFoundError\u001b[0m: No module named 'wquantiles'",
            "",
            "\u001b[0;31m---------------------------------------------------------------------------\u001b[0;32m\nNOTE: If your import is failing due to a missing package, you can\nmanually install dependencies using either !pip or !apt.\n\nTo view examples of installing some common dependencies, click the\n\"Open Examples\" button below.\n\u001b[0;31m---------------------------------------------------------------------------\u001b[0m\n"
          ],
          "errorDetails": {
            "actions": [
              {
                "action": "open_url",
                "actionText": "Open Examples",
                "url": "/notebooks/snippets/importing_libraries.ipynb"
              }
            ]
          }
        }
      ]
    },
    {
      "cell_type": "code",
      "source": [
        "# Load the dataset\n",
        "link = \"https://raw.githubusercontent.com/stevenkhwun/P4DS/main/Data/state.csv\"\n",
        "state = pd.read_csv(link)\n",
        "state.head()"
      ],
      "metadata": {
        "id": "FneRRgoewBGS",
        "outputId": "73d14d96-5e0a-4257-d870-a3d1ee2d57bb",
        "colab": {
          "base_uri": "https://localhost:8080/",
          "height": 206
        }
      },
      "execution_count": 2,
      "outputs": [
        {
          "output_type": "execute_result",
          "data": {
            "text/plain": [
              "        State  Population  Murder.Rate Abbreviation\n",
              "0     Alabama     4779736          5.7           AL\n",
              "1      Alaska      710231          5.6           AK\n",
              "2     Arizona     6392017          4.7           AZ\n",
              "3    Arkansas     2915918          5.6           AR\n",
              "4  California    37253956          4.4           CA"
            ],
            "text/html": [
              "\n",
              "  <div id=\"df-8bb9d1c7-a558-4af1-9e4e-a3bb3e1f4301\">\n",
              "    <div class=\"colab-df-container\">\n",
              "      <div>\n",
              "<style scoped>\n",
              "    .dataframe tbody tr th:only-of-type {\n",
              "        vertical-align: middle;\n",
              "    }\n",
              "\n",
              "    .dataframe tbody tr th {\n",
              "        vertical-align: top;\n",
              "    }\n",
              "\n",
              "    .dataframe thead th {\n",
              "        text-align: right;\n",
              "    }\n",
              "</style>\n",
              "<table border=\"1\" class=\"dataframe\">\n",
              "  <thead>\n",
              "    <tr style=\"text-align: right;\">\n",
              "      <th></th>\n",
              "      <th>State</th>\n",
              "      <th>Population</th>\n",
              "      <th>Murder.Rate</th>\n",
              "      <th>Abbreviation</th>\n",
              "    </tr>\n",
              "  </thead>\n",
              "  <tbody>\n",
              "    <tr>\n",
              "      <th>0</th>\n",
              "      <td>Alabama</td>\n",
              "      <td>4779736</td>\n",
              "      <td>5.7</td>\n",
              "      <td>AL</td>\n",
              "    </tr>\n",
              "    <tr>\n",
              "      <th>1</th>\n",
              "      <td>Alaska</td>\n",
              "      <td>710231</td>\n",
              "      <td>5.6</td>\n",
              "      <td>AK</td>\n",
              "    </tr>\n",
              "    <tr>\n",
              "      <th>2</th>\n",
              "      <td>Arizona</td>\n",
              "      <td>6392017</td>\n",
              "      <td>4.7</td>\n",
              "      <td>AZ</td>\n",
              "    </tr>\n",
              "    <tr>\n",
              "      <th>3</th>\n",
              "      <td>Arkansas</td>\n",
              "      <td>2915918</td>\n",
              "      <td>5.6</td>\n",
              "      <td>AR</td>\n",
              "    </tr>\n",
              "    <tr>\n",
              "      <th>4</th>\n",
              "      <td>California</td>\n",
              "      <td>37253956</td>\n",
              "      <td>4.4</td>\n",
              "      <td>CA</td>\n",
              "    </tr>\n",
              "  </tbody>\n",
              "</table>\n",
              "</div>\n",
              "      <button class=\"colab-df-convert\" onclick=\"convertToInteractive('df-8bb9d1c7-a558-4af1-9e4e-a3bb3e1f4301')\"\n",
              "              title=\"Convert this dataframe to an interactive table.\"\n",
              "              style=\"display:none;\">\n",
              "        \n",
              "  <svg xmlns=\"http://www.w3.org/2000/svg\" height=\"24px\"viewBox=\"0 0 24 24\"\n",
              "       width=\"24px\">\n",
              "    <path d=\"M0 0h24v24H0V0z\" fill=\"none\"/>\n",
              "    <path d=\"M18.56 5.44l.94 2.06.94-2.06 2.06-.94-2.06-.94-.94-2.06-.94 2.06-2.06.94zm-11 1L8.5 8.5l.94-2.06 2.06-.94-2.06-.94L8.5 2.5l-.94 2.06-2.06.94zm10 10l.94 2.06.94-2.06 2.06-.94-2.06-.94-.94-2.06-.94 2.06-2.06.94z\"/><path d=\"M17.41 7.96l-1.37-1.37c-.4-.4-.92-.59-1.43-.59-.52 0-1.04.2-1.43.59L10.3 9.45l-7.72 7.72c-.78.78-.78 2.05 0 2.83L4 21.41c.39.39.9.59 1.41.59.51 0 1.02-.2 1.41-.59l7.78-7.78 2.81-2.81c.8-.78.8-2.07 0-2.86zM5.41 20L4 18.59l7.72-7.72 1.47 1.35L5.41 20z\"/>\n",
              "  </svg>\n",
              "      </button>\n",
              "      \n",
              "  <style>\n",
              "    .colab-df-container {\n",
              "      display:flex;\n",
              "      flex-wrap:wrap;\n",
              "      gap: 12px;\n",
              "    }\n",
              "\n",
              "    .colab-df-convert {\n",
              "      background-color: #E8F0FE;\n",
              "      border: none;\n",
              "      border-radius: 50%;\n",
              "      cursor: pointer;\n",
              "      display: none;\n",
              "      fill: #1967D2;\n",
              "      height: 32px;\n",
              "      padding: 0 0 0 0;\n",
              "      width: 32px;\n",
              "    }\n",
              "\n",
              "    .colab-df-convert:hover {\n",
              "      background-color: #E2EBFA;\n",
              "      box-shadow: 0px 1px 2px rgba(60, 64, 67, 0.3), 0px 1px 3px 1px rgba(60, 64, 67, 0.15);\n",
              "      fill: #174EA6;\n",
              "    }\n",
              "\n",
              "    [theme=dark] .colab-df-convert {\n",
              "      background-color: #3B4455;\n",
              "      fill: #D2E3FC;\n",
              "    }\n",
              "\n",
              "    [theme=dark] .colab-df-convert:hover {\n",
              "      background-color: #434B5C;\n",
              "      box-shadow: 0px 1px 3px 1px rgba(0, 0, 0, 0.15);\n",
              "      filter: drop-shadow(0px 1px 2px rgba(0, 0, 0, 0.3));\n",
              "      fill: #FFFFFF;\n",
              "    }\n",
              "  </style>\n",
              "\n",
              "      <script>\n",
              "        const buttonEl =\n",
              "          document.querySelector('#df-8bb9d1c7-a558-4af1-9e4e-a3bb3e1f4301 button.colab-df-convert');\n",
              "        buttonEl.style.display =\n",
              "          google.colab.kernel.accessAllowed ? 'block' : 'none';\n",
              "\n",
              "        async function convertToInteractive(key) {\n",
              "          const element = document.querySelector('#df-8bb9d1c7-a558-4af1-9e4e-a3bb3e1f4301');\n",
              "          const dataTable =\n",
              "            await google.colab.kernel.invokeFunction('convertToInteractive',\n",
              "                                                     [key], {});\n",
              "          if (!dataTable) return;\n",
              "\n",
              "          const docLinkHtml = 'Like what you see? Visit the ' +\n",
              "            '<a target=\"_blank\" href=https://colab.research.google.com/notebooks/data_table.ipynb>data table notebook</a>'\n",
              "            + ' to learn more about interactive tables.';\n",
              "          element.innerHTML = '';\n",
              "          dataTable['output_type'] = 'display_data';\n",
              "          await google.colab.output.renderOutput(dataTable, element);\n",
              "          const docLink = document.createElement('div');\n",
              "          docLink.innerHTML = docLinkHtml;\n",
              "          element.appendChild(docLink);\n",
              "        }\n",
              "      </script>\n",
              "    </div>\n",
              "  </div>\n",
              "  "
            ]
          },
          "metadata": {},
          "execution_count": 2
        }
      ]
    },
    {
      "cell_type": "code",
      "source": [
        "state['Population'].mean()"
      ],
      "metadata": {
        "id": "Ip-PyOgbwVHU",
        "outputId": "c7e385cd-33b7-4e63-e292-954a9c7363d5",
        "colab": {
          "base_uri": "https://localhost:8080/"
        }
      },
      "execution_count": 3,
      "outputs": [
        {
          "output_type": "execute_result",
          "data": {
            "text/plain": [
              "6162876.3"
            ]
          },
          "metadata": {},
          "execution_count": 3
        }
      ]
    },
    {
      "cell_type": "code",
      "source": [
        "scipy.stats.trim_mean(state['Population'], 0.1)"
      ],
      "metadata": {
        "id": "Kl6H-fdNwdjs",
        "outputId": "8eaa0327-3437-40a5-9684-05eb66f8de23",
        "colab": {
          "base_uri": "https://localhost:8080/"
        }
      },
      "execution_count": 5,
      "outputs": [
        {
          "output_type": "execute_result",
          "data": {
            "text/plain": [
              "4783697.125"
            ]
          },
          "metadata": {},
          "execution_count": 5
        }
      ]
    },
    {
      "cell_type": "markdown",
      "source": [
        "However, only `a` and `b` are refering to the same object, i.e. the list `[1, 2, 3]` and `c` in fact a copy of `a` created by the function `list()` and is distinct from `a`."
      ],
      "metadata": {
        "id": "clZ5-yBQ1pru"
      }
    },
    {
      "cell_type": "code",
      "source": [
        "# Compare the object using is and is not\n",
        "print(a is b)\n",
        "print(a is c)\n",
        "print(b is not c)"
      ],
      "metadata": {
        "colab": {
          "base_uri": "https://localhost:8080/"
        },
        "id": "OaVev7xE2Bn7",
        "outputId": "8bf55f00-19d1-45f8-ec40-1cd8af75e42a"
      },
      "execution_count": null,
      "outputs": [
        {
          "output_type": "stream",
          "name": "stdout",
          "text": [
            "True\n",
            "False\n",
            "True\n"
          ]
        }
      ]
    },
    {
      "cell_type": "markdown",
      "source": [
        "By appending an element to `a` and then examining `b`, you can see that `a` and `b` are referring to the same object."
      ],
      "metadata": {
        "id": "oFQfKsQv2gvh"
      }
    },
    {
      "cell_type": "code",
      "source": [
        "# Appending element to a\n",
        "a.append(4)\n",
        "print(a)\n",
        "print(b)"
      ],
      "metadata": {
        "colab": {
          "base_uri": "https://localhost:8080/"
        },
        "id": "3mvhuMrgwNXO",
        "outputId": "e3b2125d-14ab-452a-faa8-01333b771ca4"
      },
      "execution_count": null,
      "outputs": [
        {
          "output_type": "stream",
          "name": "stdout",
          "text": [
            "[1, 2, 3, 4]\n",
            "[1, 2, 3, 4]\n"
          ]
        }
      ]
    },
    {
      "cell_type": "markdown",
      "source": [
        "# Some important concepts"
      ],
      "metadata": {
        "id": "THl44KA6tsU-"
      }
    },
    {
      "cell_type": "markdown",
      "source": [
        "## Mutable and immutable objects"
      ],
      "metadata": {
        "id": "_MPDG078txju"
      }
    },
    {
      "cell_type": "markdown",
      "source": [
        "### Mutable objects\n",
        "\n",
        "Many objects in Python, such as lists, dictionaries, NumPy arrays, and most user-defined types (classes), are mutable. This means that the object or values that they contain can be modified:"
      ],
      "metadata": {
        "id": "0mJz4Hkut8_N"
      }
    },
    {
      "cell_type": "code",
      "source": [
        "# Mutable object list\n",
        "a_list = [\"foo\", 2, [4, 5]]\n",
        "a_list"
      ],
      "metadata": {
        "id": "Wsa2BZ_guOVM",
        "outputId": "d1f608d6-ebab-42a4-c39b-c1eb0b7cd9df",
        "colab": {
          "base_uri": "https://localhost:8080/"
        }
      },
      "execution_count": null,
      "outputs": [
        {
          "output_type": "execute_result",
          "data": {
            "text/plain": [
              "['foo', 2, [4, 5]]"
            ]
          },
          "metadata": {},
          "execution_count": 6
        }
      ]
    },
    {
      "cell_type": "code",
      "source": [
        "# Modified the element in the object\n",
        "a_list[2] = (3, 4)\n",
        "a_list"
      ],
      "metadata": {
        "id": "BRpE5Iqaud0B",
        "outputId": "880991ce-236c-4dd7-9819-d78c4ad52bf3",
        "colab": {
          "base_uri": "https://localhost:8080/"
        }
      },
      "execution_count": null,
      "outputs": [
        {
          "output_type": "execute_result",
          "data": {
            "text/plain": [
              "['foo', 2, (3, 4)]"
            ]
          },
          "metadata": {},
          "execution_count": 7
        }
      ]
    },
    {
      "cell_type": "markdown",
      "source": [
        "### Immutable objects\n",
        "\n",
        "Others, like strings and tuples, are immutable, which means their internal data cannot be changed:"
      ],
      "metadata": {
        "id": "iuYKaVQwu2kJ"
      }
    },
    {
      "cell_type": "code",
      "source": [
        "# Immutable object tuple\n",
        "a_tuple = (3, 5, (4, 5))\n",
        "a_tuple"
      ],
      "metadata": {
        "id": "UwNIRTM1vBQ5",
        "outputId": "c19b2d77-28f6-4f9f-839f-54211f2b23db",
        "colab": {
          "base_uri": "https://localhost:8080/"
        }
      },
      "execution_count": null,
      "outputs": [
        {
          "output_type": "execute_result",
          "data": {
            "text/plain": [
              "(3, 5, (4, 5))"
            ]
          },
          "metadata": {},
          "execution_count": 8
        }
      ]
    },
    {
      "cell_type": "markdown",
      "source": [
        "When you try to modify an element in the tuple, for example:\n",
        "\n",
        "```python\n",
        "a_tuple[1] = \"four\"\n",
        "```\n",
        "\n",
        "The following error message wil return:\n",
        "\n",
        "```python\n",
        "TypeError: 'tuple' object does not support item assignment\n",
        "```"
      ],
      "metadata": {
        "id": "_M5MB4GIvkx9"
      }
    },
    {
      "cell_type": "markdown",
      "source": [
        "Recall that to access the element in a tuple, you can use the following command, which gives the second element in the tuple."
      ],
      "metadata": {
        "id": "b6xrbD9CwZIz"
      }
    },
    {
      "cell_type": "code",
      "source": [
        "# Accessing element in a tuple\n",
        "a_tuple[1]"
      ],
      "metadata": {
        "id": "kG8UA87rwmhz",
        "outputId": "b595f22b-b258-4bc2-d021-da7f7c3c06a5",
        "colab": {
          "base_uri": "https://localhost:8080/"
        }
      },
      "execution_count": null,
      "outputs": [
        {
          "output_type": "execute_result",
          "data": {
            "text/plain": [
              "5"
            ]
          },
          "metadata": {},
          "execution_count": 12
        }
      ]
    },
    {
      "cell_type": "markdown",
      "source": [
        "Similarly, for a string, we can use the following commands:"
      ],
      "metadata": {
        "id": "N0EzGv9Iwx4G"
      }
    },
    {
      "cell_type": "code",
      "source": [
        "# Accessing element in a string\n",
        "string = \"this is a string\"\n",
        "string[2]     # This is \"i\""
      ],
      "metadata": {
        "id": "N9hTftnjvMKu",
        "outputId": "9fad8f85-ddfa-48a7-c481-2dfa78621363",
        "colab": {
          "base_uri": "https://localhost:8080/",
          "height": 35
        }
      },
      "execution_count": null,
      "outputs": [
        {
          "output_type": "execute_result",
          "data": {
            "text/plain": [
              "'i'"
            ],
            "application/vnd.google.colaboratory.intrinsic+json": {
              "type": "string"
            }
          },
          "metadata": {},
          "execution_count": 13
        }
      ]
    },
    {
      "cell_type": "code",
      "source": [
        "# Accessing element in a string\n",
        "string[4]      # This is a space"
      ],
      "metadata": {
        "id": "f53BY1UGxJWk",
        "outputId": "55360f8d-8def-4655-ad5a-e67f67c8885a",
        "colab": {
          "base_uri": "https://localhost:8080/",
          "height": 35
        }
      },
      "execution_count": null,
      "outputs": [
        {
          "output_type": "execute_result",
          "data": {
            "text/plain": [
              "' '"
            ],
            "application/vnd.google.colaboratory.intrinsic+json": {
              "type": "string"
            }
          },
          "metadata": {},
          "execution_count": 14
        }
      ]
    },
    {
      "cell_type": "markdown",
      "source": [
        "# Import custom modules\n",
        "\n",
        "In Python, a module is simply a file with the `.py` extension containing Python code. Suppose we had the following module:\n",
        "\n",
        "```python\n",
        "# some_module.py\n",
        "PI = 3.14159\n",
        "\n",
        "def f(x):\n",
        "    return x + 2\n",
        "    \n",
        "def g(a, b):\n",
        "    return a + b\n",
        "```\n",
        "\n",
        "To import a module, the `.py` module file should be put into the same folder or the path of the location of the file be stated in the command:\n",
        "```python\n",
        "# In the same folder\n",
        "import module_name   # .py not necessary\n",
        "\n",
        "# In different folder\n",
        "import \\Module\\module_name   # import from a subfolder Module\n",
        "```\n",
        "\n",
        "The following example demonstrates importing a module in the Colab environment and some more steps are needed. Since Colab is a Jupyter Notebook environment working in the cloud and it cannot access the file in the hard drive of a computer, we need first upload the module file to the cloud and make it accessable by the Jupyter Notebook.\n",
        "\n"
      ],
      "metadata": {
        "id": "KMFTTpzv3kZU"
      }
    },
    {
      "cell_type": "markdown",
      "source": [
        "## Colab operations\n",
        "\n",
        "First you need to upload the custom module file to your Google drive. In this example, the `some_module.py` file is uploaded to the sub-directory `\\Modules` in the Google drive.\n",
        "\n",
        "To make the module file accessible by Jupyter Notebook, you need to copy the module file to the working directory of the notebook. To check the working directory of the notebook, you can use the following command:\n"
      ],
      "metadata": {
        "id": "Rd9lMcr7-ovD"
      }
    },
    {
      "cell_type": "code",
      "source": [
        "# Check your Colab temporary path\n",
        "! pwd"
      ],
      "metadata": {
        "id": "x0DTGIwWAprS",
        "outputId": "623bd557-3afe-4807-d57e-94d05debce00",
        "colab": {
          "base_uri": "https://localhost:8080/"
        }
      },
      "execution_count": null,
      "outputs": [
        {
          "output_type": "stream",
          "name": "stdout",
          "text": [
            "/content\n"
          ]
        }
      ]
    },
    {
      "cell_type": "markdown",
      "source": [
        "Before you can copy the file to the working directory, you need to mount your Google drive to Google Colab."
      ],
      "metadata": {
        "id": "-pqBsx6pAuKJ"
      }
    },
    {
      "cell_type": "code",
      "source": [
        "# Mount your Google drive to Google Colab\n",
        "from google.colab import drive\n",
        "drive.mount('/content/drive')"
      ],
      "metadata": {
        "colab": {
          "base_uri": "https://localhost:8080/"
        },
        "id": "oPcZgqvj0DBG",
        "outputId": "7f476072-7f00-4dc5-846d-2f9ddb6c57e4"
      },
      "execution_count": null,
      "outputs": [
        {
          "output_type": "stream",
          "name": "stdout",
          "text": [
            "Mounted at /content/drive\n"
          ]
        }
      ]
    },
    {
      "cell_type": "markdown",
      "source": [
        "You can check the file directory by clicking on the left panel of the Colab environment. You can also check the working directory again."
      ],
      "metadata": {
        "id": "nX91SwmzBhbg"
      }
    },
    {
      "cell_type": "code",
      "source": [
        "# Check your Colab temporary path\n",
        "! pwd"
      ],
      "metadata": {
        "colab": {
          "base_uri": "https://localhost:8080/"
        },
        "id": "Hk7xXZzhrJXr",
        "outputId": "4178adc6-a99a-47d3-aed2-e132e85ec154"
      },
      "execution_count": null,
      "outputs": [
        {
          "output_type": "stream",
          "name": "stdout",
          "text": [
            "/content\n"
          ]
        }
      ]
    },
    {
      "cell_type": "markdown",
      "source": [
        "Now you can copy the custom module from Google Drive to Colab temporary drive."
      ],
      "metadata": {
        "id": "xuF-DRcYB0eJ"
      }
    },
    {
      "cell_type": "code",
      "source": [
        "# Copy custom module from Google Drive to Colab temporary drive \n",
        "# !cp [path of your custom module] [path where you like to copy]\n",
        "! cp /content/drive/MyDrive/Modules/some_module.py /content/"
      ],
      "metadata": {
        "id": "OHxuzDKn1VR9"
      },
      "execution_count": null,
      "outputs": []
    },
    {
      "cell_type": "markdown",
      "source": [
        "## Running the custom module\n",
        "\n",
        "The module file has now been copied to the Colab temporary drive and you can import the module by the following command:"
      ],
      "metadata": {
        "id": "m1JZDXJeCwaQ"
      }
    },
    {
      "cell_type": "code",
      "source": [
        "# Import the module\n",
        "import some_module"
      ],
      "metadata": {
        "id": "3G_nqym33O5x"
      },
      "execution_count": null,
      "outputs": []
    },
    {
      "cell_type": "code",
      "source": [
        "# Run the function in the module\n",
        "result = some_module.f(5)   # Run f\n",
        "pi = some_module.PI         # Obtain the constant stated in the module\n",
        "\n",
        "# Print the results\n",
        "print(result)\n",
        "print(pi)"
      ],
      "metadata": {
        "id": "lo3z92Yw3VDn",
        "outputId": "5a8cddca-f4f9-4d81-9c2d-9ae5f112199a",
        "colab": {
          "base_uri": "https://localhost:8080/"
        }
      },
      "execution_count": null,
      "outputs": [
        {
          "output_type": "stream",
          "name": "stdout",
          "text": [
            "7\n",
            "3.14159\n"
          ]
        }
      ]
    },
    {
      "cell_type": "markdown",
      "source": [
        "To directly use the function in the module, use the following command:"
      ],
      "metadata": {
        "id": "m-ARjukUDsJC"
      }
    },
    {
      "cell_type": "code",
      "source": [
        "# Directly import function in a module\n",
        "from some_module import g, PI\n",
        "\n",
        "# Run the function\n",
        "results = g(1, 10)\n",
        "print(results)\n",
        "print(PI)"
      ],
      "metadata": {
        "id": "dJExY7t23U4g",
        "outputId": "7e0d2ec5-31dd-48ec-b292-f1dcb2dcdafe",
        "colab": {
          "base_uri": "https://localhost:8080/"
        }
      },
      "execution_count": null,
      "outputs": [
        {
          "output_type": "stream",
          "name": "stdout",
          "text": [
            "11\n",
            "3.14159\n"
          ]
        }
      ]
    },
    {
      "cell_type": "markdown",
      "source": [
        "Finally, your can also using the `as` keyword to give imports different variable names:"
      ],
      "metadata": {
        "id": "_J8En0ENEeiB"
      }
    },
    {
      "cell_type": "code",
      "source": [
        "# Use as keyword\n",
        "import some_module as sm\n",
        "from some_module import PI as pi, g as gf\n",
        "\n",
        "# Run the function\n",
        "r1 = sm.f(pi)\n",
        "r2 = gf(6, pi)\n",
        "print(r1)\n",
        "print(r2)"
      ],
      "metadata": {
        "id": "1E8YjwM1Eqvx",
        "outputId": "3b3eed2f-fb13-4dc8-bbd5-d6c7dbc7d0a3",
        "colab": {
          "base_uri": "https://localhost:8080/"
        }
      },
      "execution_count": null,
      "outputs": [
        {
          "output_type": "stream",
          "name": "stdout",
          "text": [
            "5.14159\n",
            "9.14159\n"
          ]
        }
      ]
    },
    {
      "cell_type": "markdown",
      "source": [
        "This is the end of the document."
      ],
      "metadata": {
        "id": "7IkWQJ39FNQD"
      }
    },
    {
      "cell_type": "code",
      "source": [
        "# An element appending function\n",
        "def append_element(some_list, element):\n",
        "  some_list.append(element)"
      ],
      "metadata": {
        "id": "jlMxw0IArJJZ"
      },
      "execution_count": null,
      "outputs": []
    },
    {
      "cell_type": "code",
      "source": [
        "data = [1, 2, 3]\n",
        "append_element(data, 100)\n",
        "data"
      ],
      "metadata": {
        "colab": {
          "base_uri": "https://localhost:8080/"
        },
        "id": "_OFAdxY6rU-x",
        "outputId": "53f3d27d-43a9-4bfd-f8b9-5bbddea7ada4"
      },
      "execution_count": null,
      "outputs": [
        {
          "output_type": "execute_result",
          "data": {
            "text/plain": [
              "[1, 2, 3, 100]"
            ]
          },
          "metadata": {},
          "execution_count": 4
        }
      ]
    },
    {
      "cell_type": "code",
      "source": [
        "b = [1, 2, 3]\n",
        "b?"
      ],
      "metadata": {
        "id": "qh4vvs43ViQD"
      },
      "execution_count": null,
      "outputs": []
    },
    {
      "cell_type": "code",
      "execution_count": null,
      "metadata": {
        "colab": {
          "base_uri": "https://localhost:8080/"
        },
        "id": "APQ2-4t4VRq3",
        "outputId": "398df3d2-46a1-4e0e-d375-a0bd9ca66a9a"
      },
      "outputs": [
        {
          "output_type": "execute_result",
          "data": {
            "text/plain": [
              "1"
            ]
          },
          "metadata": {},
          "execution_count": 16
        }
      ],
      "source": [
        "a = \"foo goo\"\n",
        "a.count(\"f\")"
      ]
    },
    {
      "cell_type": "code",
      "source": [
        "type(a)"
      ],
      "metadata": {
        "colab": {
          "base_uri": "https://localhost:8080/"
        },
        "id": "NiYdqsvitp4w",
        "outputId": "ef7661dd-e9a8-49dc-85c1-78f38c98e52b"
      },
      "execution_count": null,
      "outputs": [
        {
          "output_type": "execute_result",
          "data": {
            "text/plain": [
              "str"
            ]
          },
          "metadata": {},
          "execution_count": 17
        }
      ]
    },
    {
      "cell_type": "code",
      "source": [
        "n = 689\n",
        "type(n)"
      ],
      "metadata": {
        "colab": {
          "base_uri": "https://localhost:8080/"
        },
        "id": "uM8PookWs80Z",
        "outputId": "ec6c1d8a-7f96-4498-85ec-c468ba8d2a2c"
      },
      "execution_count": null,
      "outputs": [
        {
          "output_type": "execute_result",
          "data": {
            "text/plain": [
              "int"
            ]
          },
          "metadata": {},
          "execution_count": 18
        }
      ]
    },
    {
      "cell_type": "code",
      "source": [
        "n.real"
      ],
      "metadata": {
        "colab": {
          "base_uri": "https://localhost:8080/"
        },
        "id": "sIgrGQCBt32D",
        "outputId": "536e6d81-7b1d-4e41-b910-3c870edbed32"
      },
      "execution_count": null,
      "outputs": [
        {
          "output_type": "execute_result",
          "data": {
            "text/plain": [
              "689"
            ]
          },
          "metadata": {},
          "execution_count": 20
        }
      ]
    },
    {
      "cell_type": "code",
      "source": [
        "import pandas as pd"
      ],
      "metadata": {
        "id": "Onc5NGLtj9aR"
      },
      "execution_count": null,
      "outputs": []
    },
    {
      "cell_type": "code",
      "source": [
        "df = pd.read_csv(\"sample_data/mnist_test.csv\")"
      ],
      "metadata": {
        "id": "F3_Dr74vmDqN"
      },
      "execution_count": null,
      "outputs": []
    }
  ]
}